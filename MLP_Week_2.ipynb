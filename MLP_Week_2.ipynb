{
 "cells": [
  {
   "cell_type": "markdown",
   "metadata": {},
   "source": [
    "# IITM - MLP - Week 2"
   ]
  },
  {
   "cell_type": "markdown",
   "metadata": {},
   "source": [
    "## Imports"
   ]
  },
  {
   "cell_type": "code",
   "execution_count": 257,
   "metadata": {},
   "outputs": [],
   "source": [
    "# ---------- Common ------------\n",
    "import os\n",
    "import time\n",
    "import json\n",
    "import random\n",
    "import ast\n",
    "from datetime import datetime\n",
    "from collections import Counter\n",
    "\n",
    "# ---------- Data Manipulation ------------\n",
    "import pandas as pd\n",
    "pd.set_option('display.max_rows', 50)\n",
    "pd.set_option('display.max_columns', None)\n",
    "import numpy as np\n",
    "\n",
    "# ---------- Data Visualization ------------\n",
    "from pandas.plotting import scatter_matrix\n",
    "from matplotlib import pyplot as plt\n",
    "import seaborn as sns\n",
    "# custom_params = {\"axes.spines.right\": False, \"axes.spines.top\": False}\n",
    "# sns.set_theme(style=\"ticks\", rc=custom_params)\n",
    "sns.set_theme(style=\"whitegrid\")\n",
    "\n",
    "# ---------- Sklearn ------------\n",
    "from sklearn.model_selection import train_test_split\n",
    "from sklearn.model_selection import StratifiedShuffleSplit\n",
    "from sklearn.model_selection import cross_val_score\n",
    "from sklearn.model_selection import GridSearchCV\n",
    "from sklearn.model_selection import RandomizedSearchCV\n",
    "\n",
    "from sklearn.preprocessing import add_dummy_feature\n",
    "from sklearn.preprocessing import OrdinalEncoder\n",
    "from sklearn.preprocessing import OneHotEncoder\n",
    "from sklearn.preprocessing import LabelBinarizer\n",
    "from sklearn.preprocessing import LabelEncoder\n",
    "from sklearn.preprocessing import MultiLabelBinarizer\n",
    "from sklearn.preprocessing import MinMaxScaler\n",
    "from sklearn.preprocessing import MaxAbsScaler\n",
    "from sklearn.preprocessing import StandardScaler\n",
    "from sklearn.preprocessing import FunctionTransformer\n",
    "from sklearn.preprocessing import PolynomialFeatures\n",
    "from sklearn.preprocessing import KBinsDiscretizer\n",
    "\n",
    "# ---------- Sklearn ML Models ------------\n",
    "from sklearn.linear_model import LinearRegression\n",
    "from sklearn.linear_model import LogisticRegression\n",
    "from sklearn.svm import SVC\n",
    "from sklearn.tree import DecisionTreeRegressor\n",
    "from sklearn.ensemble import RandomForestRegressor\n",
    "\n",
    "# ---------- Sklearn Metrics ------------\n",
    "from sklearn.metrics import mean_squared_error\n",
    "from sklearn.metrics import explained_variance_score\n",
    "from sklearn.metrics import max_error\n",
    "from sklearn.metrics import mean_absolute_error\n",
    "from sklearn.metrics import r2_score\n",
    "\n",
    "# ---------- Sklearn Abstract ------------\n",
    "from sklearn.impute import SimpleImputer\n",
    "from sklearn.impute import KNNImputer\n",
    "\n",
    "from sklearn.pipeline import Pipeline\n",
    "from sklearn.pipeline import FeatureUnion\n",
    "from sklearn.compose import ColumnTransformer\n",
    "from sklearn.compose import TransformedTargetRegressor\n",
    "from sklearn.base import BaseEstimator\n",
    "from sklearn.base import TransformerMixin\n",
    "\n",
    "from sklearn.decomposition import PCA\n",
    "\n",
    "from sklearn.feature_extraction import DictVectorizer\n",
    "\n",
    "from sklearn import set_config\n",
    "set_config(display='diagram')\n",
    "\n",
    "# ---------- Sklearn: Filter based ------------\n",
    "from sklearn.feature_selection import VarianceThreshold\n",
    "from sklearn.feature_selection import SelectPercentile\n",
    "from sklearn.feature_selection import SelectKBest\n",
    "from sklearn.feature_selection import GenericUnivariateSelect\n",
    "from sklearn.feature_selection import mutual_info_classif\n",
    "from sklearn.feature_selection import mutual_info_regression\n",
    "from sklearn.feature_selection import chi2\n",
    "from sklearn.feature_selection import f_classif\n",
    "from sklearn.feature_selection import f_regression\n",
    "\n",
    "# ---------- Sklearn: Wrapper based ------------\n",
    "from sklearn.feature_selection import RFE\n",
    "from sklearn.feature_selection import RFECV\n",
    "from sklearn.feature_selection import SequentialFeatureSelector\n",
    "from sklearn.feature_selection import SelectFromModel\n",
    "\n",
    "# ---------- Sklearn Datasets ------------\n",
    "from sklearn.datasets import load_iris\n",
    "from sklearn.datasets import fetch_california_housing\n",
    "from sklearn.datasets import make_blobs\n",
    "from sklearn.datasets import make_regression\n",
    "from sklearn.datasets import make_classification\n",
    "from sklearn.datasets import make_multilabel_classification\n",
    "\n",
    "# ---------- Sklearn External Datasets ------------\n",
    "from sklearn.datasets import fetch_openml\n",
    "\n",
    "# ---------- Imblearn ------------\n",
    "from imblearn.under_sampling import RandomUnderSampler\n",
    "from imblearn.over_sampling import RandomOverSampler\n",
    "from imblearn.over_sampling import SMOTE\n",
    "\n",
    "# ---------- Scipy ------------\n",
    "from scipy.stats import pearsonr\n",
    "from scipy.stats import spearmanr\n",
    "from scipy.stats import kendalltau\n",
    "from scipy import stats\n",
    "\n",
    "# ---------- Extras ------------\n",
    "import pickle\n",
    "# pickle.dump(model, open(filename, 'wb'))\n",
    "# loaded_model = pickle.load(open(filename, 'rb'))\n",
    "\n",
    "import tempfile"
   ]
  },
  {
   "cell_type": "markdown",
   "metadata": {},
   "source": [
    "## Common helper functions"
   ]
  },
  {
   "cell_type": "code",
   "execution_count": 2,
   "metadata": {},
   "outputs": [],
   "source": [
    "def display_scores(scores):\n",
    "    print(f'Scores: {scores}')\n",
    "    print(f'Mean: {scores.mean()}')\n",
    "    print(f'Std Dev: {scores.std()}')\n",
    "    return\n",
    "\n",
    "def multiple_scores(y_true, y_pred):\n",
    "    Functions = [explained_variance_score, max_error, mean_absolute_error, \n",
    "                 mean_squared_error, r2_score]\n",
    "    Names = (\"Explained variance score : \", \"Max Error : \", \"Mean Absolute Error :\", \"Mean Squared Error: \", \"R squared score: \")\n",
    "    for func,name in zip(Functions, Names):\n",
    "        print(name, func(y_true, y_pred))"
   ]
  },
  {
   "cell_type": "markdown",
   "metadata": {},
   "source": [
    "## Get the Data"
   ]
  },
  {
   "cell_type": "markdown",
   "metadata": {},
   "source": [
    "### Load Data"
   ]
  },
  {
   "cell_type": "code",
   "execution_count": 3,
   "metadata": {},
   "outputs": [
    {
     "data": {
      "text/plain": [
       "['.ipynb_checkpoints',\n",
       " 'MLP_Week_1.ipynb',\n",
       " 'MLP_Week_2.ipynb',\n",
       " 'MLP_Week_3.ipynb',\n",
       " 'MLP_Week_4.ipynb',\n",
       " 'winequality-red.csv']"
      ]
     },
     "execution_count": 3,
     "metadata": {},
     "output_type": "execute_result"
    }
   ],
   "source": [
    "root_path = r\"C:\\Users\\tusha\\Jupyter_notebooks\\IITM_Term_5\\MLP\"\n",
    "os.listdir(root_path)"
   ]
  },
  {
   "cell_type": "code",
   "execution_count": 4,
   "metadata": {},
   "outputs": [
    {
     "name": "stdout",
     "output_type": "stream",
     "text": [
      "Data Shape: (1599, 12)\n"
     ]
    }
   ],
   "source": [
    "# data_url = \"https://..........\"\n",
    "# df = pd.read_csv(data_url, sep=\",\") # to download data from web\n",
    "\n",
    "data_path = os.path.join(root_path, 'winequality-red.csv')\n",
    "df = pd.read_csv(data_path)\n",
    "print(f\"Data Shape: {df.shape}\")"
   ]
  },
  {
   "cell_type": "code",
   "execution_count": 5,
   "metadata": {},
   "outputs": [
    {
     "data": {
      "text/html": [
       "<div>\n",
       "<style scoped>\n",
       "    .dataframe tbody tr th:only-of-type {\n",
       "        vertical-align: middle;\n",
       "    }\n",
       "\n",
       "    .dataframe tbody tr th {\n",
       "        vertical-align: top;\n",
       "    }\n",
       "\n",
       "    .dataframe thead th {\n",
       "        text-align: right;\n",
       "    }\n",
       "</style>\n",
       "<table border=\"1\" class=\"dataframe\">\n",
       "  <thead>\n",
       "    <tr style=\"text-align: right;\">\n",
       "      <th></th>\n",
       "      <th>fixed acidity</th>\n",
       "      <th>volatile acidity</th>\n",
       "      <th>citric acid</th>\n",
       "      <th>residual sugar</th>\n",
       "      <th>chlorides</th>\n",
       "      <th>free sulfur dioxide</th>\n",
       "      <th>total sulfur dioxide</th>\n",
       "      <th>density</th>\n",
       "      <th>pH</th>\n",
       "      <th>sulphates</th>\n",
       "      <th>alcohol</th>\n",
       "      <th>quality</th>\n",
       "    </tr>\n",
       "  </thead>\n",
       "  <tbody>\n",
       "    <tr>\n",
       "      <th>0</th>\n",
       "      <td>7.4</td>\n",
       "      <td>0.70</td>\n",
       "      <td>0.00</td>\n",
       "      <td>1.9</td>\n",
       "      <td>0.076</td>\n",
       "      <td>11.0</td>\n",
       "      <td>34.0</td>\n",
       "      <td>0.9978</td>\n",
       "      <td>3.51</td>\n",
       "      <td>0.56</td>\n",
       "      <td>9.4</td>\n",
       "      <td>5</td>\n",
       "    </tr>\n",
       "    <tr>\n",
       "      <th>1</th>\n",
       "      <td>7.8</td>\n",
       "      <td>0.88</td>\n",
       "      <td>0.00</td>\n",
       "      <td>2.6</td>\n",
       "      <td>0.098</td>\n",
       "      <td>25.0</td>\n",
       "      <td>67.0</td>\n",
       "      <td>0.9968</td>\n",
       "      <td>3.20</td>\n",
       "      <td>0.68</td>\n",
       "      <td>9.8</td>\n",
       "      <td>5</td>\n",
       "    </tr>\n",
       "    <tr>\n",
       "      <th>2</th>\n",
       "      <td>7.8</td>\n",
       "      <td>0.76</td>\n",
       "      <td>0.04</td>\n",
       "      <td>2.3</td>\n",
       "      <td>0.092</td>\n",
       "      <td>15.0</td>\n",
       "      <td>54.0</td>\n",
       "      <td>0.9970</td>\n",
       "      <td>3.26</td>\n",
       "      <td>0.65</td>\n",
       "      <td>9.8</td>\n",
       "      <td>5</td>\n",
       "    </tr>\n",
       "    <tr>\n",
       "      <th>3</th>\n",
       "      <td>11.2</td>\n",
       "      <td>0.28</td>\n",
       "      <td>0.56</td>\n",
       "      <td>1.9</td>\n",
       "      <td>0.075</td>\n",
       "      <td>17.0</td>\n",
       "      <td>60.0</td>\n",
       "      <td>0.9980</td>\n",
       "      <td>3.16</td>\n",
       "      <td>0.58</td>\n",
       "      <td>9.8</td>\n",
       "      <td>6</td>\n",
       "    </tr>\n",
       "    <tr>\n",
       "      <th>4</th>\n",
       "      <td>7.4</td>\n",
       "      <td>0.70</td>\n",
       "      <td>0.00</td>\n",
       "      <td>1.9</td>\n",
       "      <td>0.076</td>\n",
       "      <td>11.0</td>\n",
       "      <td>34.0</td>\n",
       "      <td>0.9978</td>\n",
       "      <td>3.51</td>\n",
       "      <td>0.56</td>\n",
       "      <td>9.4</td>\n",
       "      <td>5</td>\n",
       "    </tr>\n",
       "  </tbody>\n",
       "</table>\n",
       "</div>"
      ],
      "text/plain": [
       "   fixed acidity  volatile acidity  citric acid  residual sugar  chlorides  \\\n",
       "0            7.4              0.70         0.00             1.9      0.076   \n",
       "1            7.8              0.88         0.00             2.6      0.098   \n",
       "2            7.8              0.76         0.04             2.3      0.092   \n",
       "3           11.2              0.28         0.56             1.9      0.075   \n",
       "4            7.4              0.70         0.00             1.9      0.076   \n",
       "\n",
       "   free sulfur dioxide  total sulfur dioxide  density    pH  sulphates  \\\n",
       "0                 11.0                  34.0   0.9978  3.51       0.56   \n",
       "1                 25.0                  67.0   0.9968  3.20       0.68   \n",
       "2                 15.0                  54.0   0.9970  3.26       0.65   \n",
       "3                 17.0                  60.0   0.9980  3.16       0.58   \n",
       "4                 11.0                  34.0   0.9978  3.51       0.56   \n",
       "\n",
       "   alcohol  quality  \n",
       "0      9.4        5  \n",
       "1      9.8        5  \n",
       "2      9.8        5  \n",
       "3      9.8        6  \n",
       "4      9.4        5  "
      ]
     },
     "execution_count": 5,
     "metadata": {},
     "output_type": "execute_result"
    }
   ],
   "source": [
    "df.head() "
   ]
  },
  {
   "cell_type": "markdown",
   "metadata": {},
   "source": [
    "# Data Preprocessing -- Feature : Extraction, Cleaning, Scaling, Transformation, Visualization, Selection "
   ]
  },
  {
   "cell_type": "markdown",
   "metadata": {},
   "source": [
    "## Feature Extraction"
   ]
  },
  {
   "cell_type": "markdown",
   "metadata": {},
   "source": [
    "### DictVectorizer"
   ]
  },
  {
   "cell_type": "code",
   "execution_count": 6,
   "metadata": {},
   "outputs": [],
   "source": [
    "# Convert list of dict objects to feature matrix\n",
    "# fit: learns relevant parms for transformation\n",
    "# transform: carries out transformation "
   ]
  },
  {
   "cell_type": "code",
   "execution_count": 7,
   "metadata": {},
   "outputs": [
    {
     "data": {
      "text/plain": [
       "array([[ 15., 130.],\n",
       "       [ 17., 145.],\n",
       "       [ 18., 160.]])"
      ]
     },
     "execution_count": 7,
     "metadata": {},
     "output_type": "execute_result"
    }
   ],
   "source": [
    "data = [{\"age\":15, \"height\":130},\n",
    "       {\"age\":17, \"height\":145},\n",
    "       {\"age\":18, \"height\":160}]\n",
    "\n",
    "dv = DictVectorizer(sparse=False)\n",
    "data_tr = dv.fit_transform(data)\n",
    "\n",
    "data_tr"
   ]
  },
  {
   "cell_type": "markdown",
   "metadata": {},
   "source": [
    "## Data Cleaning: Imputation"
   ]
  },
  {
   "cell_type": "markdown",
   "metadata": {},
   "source": [
    "### SimpleImputer"
   ]
  },
  {
   "cell_type": "code",
   "execution_count": 8,
   "metadata": {},
   "outputs": [],
   "source": [
    "# Fill missing values with mean/median/most_frequent/constant\n",
    "# Missing value types: int, float, str, np.nan, None\n",
    "# add_indicator: when True returns missing value indicators in indicator_ variable"
   ]
  },
  {
   "cell_type": "markdown",
   "metadata": {},
   "source": [
    "#### Load Data"
   ]
  },
  {
   "cell_type": "code",
   "execution_count": 9,
   "metadata": {},
   "outputs": [
    {
     "data": {
      "text/html": [
       "<div>\n",
       "<style scoped>\n",
       "    .dataframe tbody tr th:only-of-type {\n",
       "        vertical-align: middle;\n",
       "    }\n",
       "\n",
       "    .dataframe tbody tr th {\n",
       "        vertical-align: top;\n",
       "    }\n",
       "\n",
       "    .dataframe thead th {\n",
       "        text-align: right;\n",
       "    }\n",
       "</style>\n",
       "<table border=\"1\" class=\"dataframe\">\n",
       "  <thead>\n",
       "    <tr style=\"text-align: right;\">\n",
       "      <th></th>\n",
       "      <th>age</th>\n",
       "      <th>sex</th>\n",
       "      <th>cp</th>\n",
       "      <th>trestbps</th>\n",
       "      <th>chol</th>\n",
       "      <th>fbs</th>\n",
       "      <th>restecg</th>\n",
       "      <th>thalach</th>\n",
       "      <th>exang</th>\n",
       "      <th>oldpeak</th>\n",
       "      <th>slope</th>\n",
       "      <th>ca</th>\n",
       "      <th>thal</th>\n",
       "      <th>num</th>\n",
       "    </tr>\n",
       "  </thead>\n",
       "  <tbody>\n",
       "    <tr>\n",
       "      <th>0</th>\n",
       "      <td>63.0</td>\n",
       "      <td>1.0</td>\n",
       "      <td>1.0</td>\n",
       "      <td>145.0</td>\n",
       "      <td>233.0</td>\n",
       "      <td>1.0</td>\n",
       "      <td>2.0</td>\n",
       "      <td>150.0</td>\n",
       "      <td>0.0</td>\n",
       "      <td>2.3</td>\n",
       "      <td>3.0</td>\n",
       "      <td>0.0</td>\n",
       "      <td>6.0</td>\n",
       "      <td>0</td>\n",
       "    </tr>\n",
       "    <tr>\n",
       "      <th>1</th>\n",
       "      <td>67.0</td>\n",
       "      <td>1.0</td>\n",
       "      <td>4.0</td>\n",
       "      <td>160.0</td>\n",
       "      <td>286.0</td>\n",
       "      <td>0.0</td>\n",
       "      <td>2.0</td>\n",
       "      <td>108.0</td>\n",
       "      <td>1.0</td>\n",
       "      <td>1.5</td>\n",
       "      <td>2.0</td>\n",
       "      <td>3.0</td>\n",
       "      <td>3.0</td>\n",
       "      <td>2</td>\n",
       "    </tr>\n",
       "    <tr>\n",
       "      <th>2</th>\n",
       "      <td>67.0</td>\n",
       "      <td>1.0</td>\n",
       "      <td>4.0</td>\n",
       "      <td>120.0</td>\n",
       "      <td>229.0</td>\n",
       "      <td>0.0</td>\n",
       "      <td>2.0</td>\n",
       "      <td>129.0</td>\n",
       "      <td>1.0</td>\n",
       "      <td>2.6</td>\n",
       "      <td>2.0</td>\n",
       "      <td>2.0</td>\n",
       "      <td>7.0</td>\n",
       "      <td>1</td>\n",
       "    </tr>\n",
       "    <tr>\n",
       "      <th>3</th>\n",
       "      <td>37.0</td>\n",
       "      <td>1.0</td>\n",
       "      <td>3.0</td>\n",
       "      <td>130.0</td>\n",
       "      <td>250.0</td>\n",
       "      <td>0.0</td>\n",
       "      <td>0.0</td>\n",
       "      <td>187.0</td>\n",
       "      <td>0.0</td>\n",
       "      <td>3.5</td>\n",
       "      <td>3.0</td>\n",
       "      <td>0.0</td>\n",
       "      <td>3.0</td>\n",
       "      <td>0</td>\n",
       "    </tr>\n",
       "    <tr>\n",
       "      <th>4</th>\n",
       "      <td>41.0</td>\n",
       "      <td>0.0</td>\n",
       "      <td>2.0</td>\n",
       "      <td>130.0</td>\n",
       "      <td>204.0</td>\n",
       "      <td>0.0</td>\n",
       "      <td>2.0</td>\n",
       "      <td>172.0</td>\n",
       "      <td>0.0</td>\n",
       "      <td>1.4</td>\n",
       "      <td>1.0</td>\n",
       "      <td>0.0</td>\n",
       "      <td>3.0</td>\n",
       "      <td>0</td>\n",
       "    </tr>\n",
       "  </tbody>\n",
       "</table>\n",
       "</div>"
      ],
      "text/plain": [
       "    age  sex   cp  trestbps   chol  fbs  restecg  thalach  exang  oldpeak  \\\n",
       "0  63.0  1.0  1.0     145.0  233.0  1.0      2.0    150.0    0.0      2.3   \n",
       "1  67.0  1.0  4.0     160.0  286.0  0.0      2.0    108.0    1.0      1.5   \n",
       "2  67.0  1.0  4.0     120.0  229.0  0.0      2.0    129.0    1.0      2.6   \n",
       "3  37.0  1.0  3.0     130.0  250.0  0.0      0.0    187.0    0.0      3.5   \n",
       "4  41.0  0.0  2.0     130.0  204.0  0.0      2.0    172.0    0.0      1.4   \n",
       "\n",
       "   slope   ca thal  num  \n",
       "0    3.0  0.0  6.0    0  \n",
       "1    2.0  3.0  3.0    2  \n",
       "2    2.0  2.0  7.0    1  \n",
       "3    3.0  0.0  3.0    0  \n",
       "4    1.0  0.0  3.0    0  "
      ]
     },
     "execution_count": 9,
     "metadata": {},
     "output_type": "execute_result"
    }
   ],
   "source": [
    "url = \"https://archive.ics.uci.edu/ml/machine-learning-databases/heart-disease/processed.cleveland.data\"\n",
    "cols = [\"age\" ,\"sex\" ,\"cp\" ,\"trestbps\" ,\"chol\" ,\"fbs\" ,\"restecg\" ,\"thalach\" ,\"exang\" ,\"oldpeak\" ,\"slope\" ,\"ca\" ,\"thal\" ,\"num\"]\n",
    "\n",
    "heart_df = pd.read_csv(url, header=None, names=cols)\n",
    "heart_df.head()"
   ]
  },
  {
   "cell_type": "code",
   "execution_count": 10,
   "metadata": {},
   "outputs": [],
   "source": [
    "# age: age in years\n",
    "# sex: sex (1 = male; 0 = female)\n",
    "# cp: chest pain type\n",
    "#     -- Value 1: typical angina\n",
    "#     -- Value 2: atypical angina\n",
    "#     -- Value 3: non-anginal pain\n",
    "#     -- Value 4: asymptomatic\n",
    "# trestbps: resting blood pressure (in mm Hg on admission to the hospital)\n",
    "# chol: serum cholestoral in mg/dl\n",
    "# fbs: (fasting blood sugar > 120 mg/dl) (1 = true; 0 = false)\n",
    "# restecg: resting electrocardiographic results\n",
    "#     -- Value 0: normal\n",
    "#     -- Value 1: having ST-T wave abnormality (T wave inversions and/or ST elevation or depression of > 0.05 mV)\n",
    "#     -- Value 2: showing probable or definite left ventricular hypertrophy by Estes' criteria\n",
    "# thalach: maximum heart rate achieved\n",
    "# exang: exercise induced angina (1 = yes; 0 = no)\n",
    "# oldpeak = ST depression induced by exercise relative to rest\n",
    "# slope: the slope of the peak exercise ST segment\n",
    "#     -- Value 1: upsloping\n",
    "#     -- Value 2: flat\n",
    "#     -- Value 3: downsloping\n",
    "# ca: number of major vessels (0-3) colored by flourosopy\n",
    "# thal: 3 = normal; 6 = fixed defect; 7 = reversable defect\n",
    "# num: diagnosis of heart disease (angiographic disease status)\n",
    "#     -- Value 0: < 50% diameter narrowing\n",
    "#     -- Value 1: > 50% diameter narrowing"
   ]
  },
  {
   "cell_type": "markdown",
   "metadata": {},
   "source": [
    "#### Find missing values"
   ]
  },
  {
   "cell_type": "code",
   "execution_count": 11,
   "metadata": {},
   "outputs": [
    {
     "name": "stdout",
     "output_type": "stream",
     "text": [
      "<class 'pandas.core.frame.DataFrame'>\n",
      "RangeIndex: 303 entries, 0 to 302\n",
      "Data columns (total 14 columns):\n",
      " #   Column    Non-Null Count  Dtype  \n",
      "---  ------    --------------  -----  \n",
      " 0   age       303 non-null    float64\n",
      " 1   sex       303 non-null    float64\n",
      " 2   cp        303 non-null    float64\n",
      " 3   trestbps  303 non-null    float64\n",
      " 4   chol      303 non-null    float64\n",
      " 5   fbs       303 non-null    float64\n",
      " 6   restecg   303 non-null    float64\n",
      " 7   thalach   303 non-null    float64\n",
      " 8   exang     303 non-null    float64\n",
      " 9   oldpeak   303 non-null    float64\n",
      " 10  slope     303 non-null    float64\n",
      " 11  ca        303 non-null    object \n",
      " 12  thal      303 non-null    object \n",
      " 13  num       303 non-null    int64  \n",
      "dtypes: float64(11), int64(1), object(2)\n",
      "memory usage: 33.3+ KB\n"
     ]
    }
   ],
   "source": [
    "heart_df.info()"
   ]
  },
  {
   "cell_type": "code",
   "execution_count": 12,
   "metadata": {},
   "outputs": [
    {
     "data": {
      "text/plain": [
       "age         0\n",
       "sex         0\n",
       "cp          0\n",
       "trestbps    0\n",
       "chol        0\n",
       "fbs         0\n",
       "restecg     0\n",
       "thalach     0\n",
       "exang       0\n",
       "oldpeak     0\n",
       "slope       0\n",
       "ca          0\n",
       "thal        0\n",
       "num         0\n",
       "dtype: int64"
      ]
     },
     "execution_count": 12,
     "metadata": {},
     "output_type": "execute_result"
    }
   ],
   "source": [
    "heart_df.isnull().sum()"
   ]
  },
  {
   "cell_type": "code",
   "execution_count": 13,
   "metadata": {},
   "outputs": [],
   "source": [
    "categorical_feat = [\"ca\", \"thal\"]"
   ]
  },
  {
   "cell_type": "code",
   "execution_count": 14,
   "metadata": {},
   "outputs": [
    {
     "name": "stdout",
     "output_type": "stream",
     "text": [
      "Unique values in ca: ['0.0' '3.0' '2.0' '1.0' '?']\n",
      "Unique values in thal: ['6.0' '3.0' '7.0' '?']\n"
     ]
    }
   ],
   "source": [
    "for feat in categorical_feat:\n",
    "    print(f\"Unique values in {feat}: {heart_df[feat].unique()}\")"
   ]
  },
  {
   "cell_type": "code",
   "execution_count": 15,
   "metadata": {},
   "outputs": [
    {
     "name": "stdout",
     "output_type": "stream",
     "text": [
      "# missing values in ca of type ?: 4\n",
      "# missing values in thal of type ?: 2\n"
     ]
    }
   ],
   "source": [
    "missing_val_types = [\"?\"]\n",
    "for feat in categorical_feat:\n",
    "    for m_type in missing_val_types:\n",
    "        print(f\"# missing values in {feat} of type {m_type}: {heart_df.loc[heart_df[feat] == m_type, feat].count()}\")"
   ]
  },
  {
   "cell_type": "markdown",
   "metadata": {},
   "source": [
    "#### Replace missing values or dummy values with np.nan"
   ]
  },
  {
   "cell_type": "code",
   "execution_count": 16,
   "metadata": {},
   "outputs": [],
   "source": [
    "heart_df.replace(\"?\", np.nan, inplace=True)"
   ]
  },
  {
   "cell_type": "markdown",
   "metadata": {},
   "source": [
    "#### Use SimpleImputer without indicators"
   ]
  },
  {
   "cell_type": "code",
   "execution_count": 17,
   "metadata": {},
   "outputs": [
    {
     "name": "stdout",
     "output_type": "stream",
     "text": [
      "Shape: (303, 14)\n"
     ]
    }
   ],
   "source": [
    "imputer = SimpleImputer(missing_values=np.nan, strategy=\"mean\", add_indicator=False)\n",
    "heart_df_imputed = imputer.fit_transform(heart_df) # returns numpy array\n",
    "print(f\"Shape: {heart_df_imputed.shape}\")"
   ]
  },
  {
   "cell_type": "code",
   "execution_count": 18,
   "metadata": {},
   "outputs": [],
   "source": [
    "df = heart_df.copy(deep=True)"
   ]
  },
  {
   "cell_type": "code",
   "execution_count": 19,
   "metadata": {},
   "outputs": [
    {
     "name": "stdout",
     "output_type": "stream",
     "text": [
      "Shape: (303, 14)\n"
     ]
    },
    {
     "data": {
      "text/html": [
       "<div>\n",
       "<style scoped>\n",
       "    .dataframe tbody tr th:only-of-type {\n",
       "        vertical-align: middle;\n",
       "    }\n",
       "\n",
       "    .dataframe tbody tr th {\n",
       "        vertical-align: top;\n",
       "    }\n",
       "\n",
       "    .dataframe thead th {\n",
       "        text-align: right;\n",
       "    }\n",
       "</style>\n",
       "<table border=\"1\" class=\"dataframe\">\n",
       "  <thead>\n",
       "    <tr style=\"text-align: right;\">\n",
       "      <th></th>\n",
       "      <th>age</th>\n",
       "      <th>sex</th>\n",
       "      <th>cp</th>\n",
       "      <th>trestbps</th>\n",
       "      <th>chol</th>\n",
       "      <th>fbs</th>\n",
       "      <th>restecg</th>\n",
       "      <th>thalach</th>\n",
       "      <th>exang</th>\n",
       "      <th>oldpeak</th>\n",
       "      <th>slope</th>\n",
       "      <th>ca</th>\n",
       "      <th>thal</th>\n",
       "      <th>num</th>\n",
       "    </tr>\n",
       "  </thead>\n",
       "  <tbody>\n",
       "    <tr>\n",
       "      <th>0</th>\n",
       "      <td>63.0</td>\n",
       "      <td>1.0</td>\n",
       "      <td>1.0</td>\n",
       "      <td>145.0</td>\n",
       "      <td>233.0</td>\n",
       "      <td>1.0</td>\n",
       "      <td>2.0</td>\n",
       "      <td>150.0</td>\n",
       "      <td>0.0</td>\n",
       "      <td>2.3</td>\n",
       "      <td>3.0</td>\n",
       "      <td>0.0</td>\n",
       "      <td>6.0</td>\n",
       "      <td>0</td>\n",
       "    </tr>\n",
       "    <tr>\n",
       "      <th>1</th>\n",
       "      <td>67.0</td>\n",
       "      <td>1.0</td>\n",
       "      <td>4.0</td>\n",
       "      <td>160.0</td>\n",
       "      <td>286.0</td>\n",
       "      <td>0.0</td>\n",
       "      <td>2.0</td>\n",
       "      <td>108.0</td>\n",
       "      <td>1.0</td>\n",
       "      <td>1.5</td>\n",
       "      <td>2.0</td>\n",
       "      <td>3.0</td>\n",
       "      <td>3.0</td>\n",
       "      <td>2</td>\n",
       "    </tr>\n",
       "  </tbody>\n",
       "</table>\n",
       "</div>"
      ],
      "text/plain": [
       "    age  sex   cp  trestbps   chol  fbs  restecg  thalach  exang  oldpeak  \\\n",
       "0  63.0  1.0  1.0     145.0  233.0  1.0      2.0    150.0    0.0      2.3   \n",
       "1  67.0  1.0  4.0     160.0  286.0  0.0      2.0    108.0    1.0      1.5   \n",
       "\n",
       "   slope   ca  thal  num  \n",
       "0    3.0  0.0   6.0    0  \n",
       "1    2.0  3.0   3.0    2  "
      ]
     },
     "execution_count": 19,
     "metadata": {},
     "output_type": "execute_result"
    }
   ],
   "source": [
    "imputer = SimpleImputer(missing_values=np.nan, strategy=\"mean\", add_indicator=False)\n",
    "df[[\"ca\", \"thal\"]] = imputer.fit_transform(df[[\"ca\", \"thal\"]]) # to replace values in dataframe\n",
    "print(f\"Shape: {df.shape}\")\n",
    "df.head(2)"
   ]
  },
  {
   "cell_type": "markdown",
   "metadata": {},
   "source": [
    "#### Use SimpleImputer with indicators"
   ]
  },
  {
   "cell_type": "code",
   "execution_count": 20,
   "metadata": {},
   "outputs": [
    {
     "name": "stdout",
     "output_type": "stream",
     "text": [
      "Shape: (303, 16)\n"
     ]
    }
   ],
   "source": [
    "imputer = SimpleImputer(missing_values=np.nan, strategy=\"mean\", add_indicator=True)\n",
    "heart_df_imputed = imputer.fit_transform(heart_df) # returns numpy array\n",
    "print(f\"Shape: {heart_df_imputed.shape}\")"
   ]
  },
  {
   "cell_type": "code",
   "execution_count": 21,
   "metadata": {},
   "outputs": [],
   "source": [
    "df = heart_df.copy(deep=True)"
   ]
  },
  {
   "cell_type": "code",
   "execution_count": 22,
   "metadata": {},
   "outputs": [
    {
     "name": "stdout",
     "output_type": "stream",
     "text": [
      "Shape: (303, 16)\n"
     ]
    },
    {
     "data": {
      "text/html": [
       "<div>\n",
       "<style scoped>\n",
       "    .dataframe tbody tr th:only-of-type {\n",
       "        vertical-align: middle;\n",
       "    }\n",
       "\n",
       "    .dataframe tbody tr th {\n",
       "        vertical-align: top;\n",
       "    }\n",
       "\n",
       "    .dataframe thead th {\n",
       "        text-align: right;\n",
       "    }\n",
       "</style>\n",
       "<table border=\"1\" class=\"dataframe\">\n",
       "  <thead>\n",
       "    <tr style=\"text-align: right;\">\n",
       "      <th></th>\n",
       "      <th>age</th>\n",
       "      <th>sex</th>\n",
       "      <th>cp</th>\n",
       "      <th>trestbps</th>\n",
       "      <th>chol</th>\n",
       "      <th>fbs</th>\n",
       "      <th>restecg</th>\n",
       "      <th>thalach</th>\n",
       "      <th>exang</th>\n",
       "      <th>oldpeak</th>\n",
       "      <th>slope</th>\n",
       "      <th>ca</th>\n",
       "      <th>thal</th>\n",
       "      <th>num</th>\n",
       "      <th>ca_ind</th>\n",
       "      <th>thal_ind</th>\n",
       "    </tr>\n",
       "  </thead>\n",
       "  <tbody>\n",
       "    <tr>\n",
       "      <th>0</th>\n",
       "      <td>63.0</td>\n",
       "      <td>1.0</td>\n",
       "      <td>1.0</td>\n",
       "      <td>145.0</td>\n",
       "      <td>233.0</td>\n",
       "      <td>1.0</td>\n",
       "      <td>2.0</td>\n",
       "      <td>150.0</td>\n",
       "      <td>0.0</td>\n",
       "      <td>2.3</td>\n",
       "      <td>3.0</td>\n",
       "      <td>0.0</td>\n",
       "      <td>6.0</td>\n",
       "      <td>0</td>\n",
       "      <td>0.0</td>\n",
       "      <td>0.0</td>\n",
       "    </tr>\n",
       "    <tr>\n",
       "      <th>1</th>\n",
       "      <td>67.0</td>\n",
       "      <td>1.0</td>\n",
       "      <td>4.0</td>\n",
       "      <td>160.0</td>\n",
       "      <td>286.0</td>\n",
       "      <td>0.0</td>\n",
       "      <td>2.0</td>\n",
       "      <td>108.0</td>\n",
       "      <td>1.0</td>\n",
       "      <td>1.5</td>\n",
       "      <td>2.0</td>\n",
       "      <td>3.0</td>\n",
       "      <td>3.0</td>\n",
       "      <td>2</td>\n",
       "      <td>0.0</td>\n",
       "      <td>0.0</td>\n",
       "    </tr>\n",
       "  </tbody>\n",
       "</table>\n",
       "</div>"
      ],
      "text/plain": [
       "    age  sex   cp  trestbps   chol  fbs  restecg  thalach  exang  oldpeak  \\\n",
       "0  63.0  1.0  1.0     145.0  233.0  1.0      2.0    150.0    0.0      2.3   \n",
       "1  67.0  1.0  4.0     160.0  286.0  0.0      2.0    108.0    1.0      1.5   \n",
       "\n",
       "   slope   ca  thal  num  ca_ind  thal_ind  \n",
       "0    3.0  0.0   6.0    0     0.0       0.0  \n",
       "1    2.0  3.0   3.0    2     0.0       0.0  "
      ]
     },
     "execution_count": 22,
     "metadata": {},
     "output_type": "execute_result"
    }
   ],
   "source": [
    "imputer = SimpleImputer(missing_values=np.nan, strategy=\"mean\", add_indicator=True)\n",
    "df[[\"ca\", \"thal\", \"ca_ind\", \"thal_ind\"]] = imputer.fit_transform(df[[\"ca\", \"thal\"]]) # to replace values in dataframe\n",
    "print(f\"Shape: {df.shape}\")\n",
    "df.head(2)"
   ]
  },
  {
   "cell_type": "markdown",
   "metadata": {},
   "source": [
    "#### Use SimpleImputer with constant strategy"
   ]
  },
  {
   "cell_type": "code",
   "execution_count": 23,
   "metadata": {},
   "outputs": [],
   "source": [
    "imputer = SimpleImputer(strategy='constant', missing_values=np.nan, fill_value=0)"
   ]
  },
  {
   "cell_type": "markdown",
   "metadata": {},
   "source": [
    "## Feature Scaling"
   ]
  },
  {
   "cell_type": "code",
   "execution_count": 24,
   "metadata": {},
   "outputs": [],
   "source": [
    "# All features on same scale\n",
    "# Enables faster convergence\n",
    "# Distance based algo: Sensitive to scales -- SVM, K-means, KNN : Feature scaling is must for these\n",
    "# Tree based are not sensitive"
   ]
  },
  {
   "cell_type": "markdown",
   "metadata": {},
   "source": [
    "### Load Data"
   ]
  },
  {
   "cell_type": "code",
   "execution_count": 25,
   "metadata": {},
   "outputs": [
    {
     "data": {
      "text/html": [
       "<div>\n",
       "<style scoped>\n",
       "    .dataframe tbody tr th:only-of-type {\n",
       "        vertical-align: middle;\n",
       "    }\n",
       "\n",
       "    .dataframe tbody tr th {\n",
       "        vertical-align: top;\n",
       "    }\n",
       "\n",
       "    .dataframe thead th {\n",
       "        text-align: right;\n",
       "    }\n",
       "</style>\n",
       "<table border=\"1\" class=\"dataframe\">\n",
       "  <thead>\n",
       "    <tr style=\"text-align: right;\">\n",
       "      <th></th>\n",
       "      <th>Sex</th>\n",
       "      <th>Length</th>\n",
       "      <th>Diameter</th>\n",
       "      <th>Height</th>\n",
       "      <th>Whole weight</th>\n",
       "      <th>Shucked weight</th>\n",
       "      <th>Viscera weight</th>\n",
       "      <th>Shell weight</th>\n",
       "      <th>Rings</th>\n",
       "    </tr>\n",
       "  </thead>\n",
       "  <tbody>\n",
       "    <tr>\n",
       "      <th>0</th>\n",
       "      <td>M</td>\n",
       "      <td>0.455</td>\n",
       "      <td>0.365</td>\n",
       "      <td>0.095</td>\n",
       "      <td>0.5140</td>\n",
       "      <td>0.2245</td>\n",
       "      <td>0.1010</td>\n",
       "      <td>0.150</td>\n",
       "      <td>15</td>\n",
       "    </tr>\n",
       "    <tr>\n",
       "      <th>1</th>\n",
       "      <td>M</td>\n",
       "      <td>0.350</td>\n",
       "      <td>0.265</td>\n",
       "      <td>0.090</td>\n",
       "      <td>0.2255</td>\n",
       "      <td>0.0995</td>\n",
       "      <td>0.0485</td>\n",
       "      <td>0.070</td>\n",
       "      <td>7</td>\n",
       "    </tr>\n",
       "    <tr>\n",
       "      <th>2</th>\n",
       "      <td>F</td>\n",
       "      <td>0.530</td>\n",
       "      <td>0.420</td>\n",
       "      <td>0.135</td>\n",
       "      <td>0.6770</td>\n",
       "      <td>0.2565</td>\n",
       "      <td>0.1415</td>\n",
       "      <td>0.210</td>\n",
       "      <td>9</td>\n",
       "    </tr>\n",
       "    <tr>\n",
       "      <th>3</th>\n",
       "      <td>M</td>\n",
       "      <td>0.440</td>\n",
       "      <td>0.365</td>\n",
       "      <td>0.125</td>\n",
       "      <td>0.5160</td>\n",
       "      <td>0.2155</td>\n",
       "      <td>0.1140</td>\n",
       "      <td>0.155</td>\n",
       "      <td>10</td>\n",
       "    </tr>\n",
       "    <tr>\n",
       "      <th>4</th>\n",
       "      <td>I</td>\n",
       "      <td>0.330</td>\n",
       "      <td>0.255</td>\n",
       "      <td>0.080</td>\n",
       "      <td>0.2050</td>\n",
       "      <td>0.0895</td>\n",
       "      <td>0.0395</td>\n",
       "      <td>0.055</td>\n",
       "      <td>7</td>\n",
       "    </tr>\n",
       "  </tbody>\n",
       "</table>\n",
       "</div>"
      ],
      "text/plain": [
       "  Sex  Length  Diameter  Height  Whole weight  Shucked weight  Viscera weight  \\\n",
       "0   M   0.455     0.365   0.095        0.5140          0.2245          0.1010   \n",
       "1   M   0.350     0.265   0.090        0.2255          0.0995          0.0485   \n",
       "2   F   0.530     0.420   0.135        0.6770          0.2565          0.1415   \n",
       "3   M   0.440     0.365   0.125        0.5160          0.2155          0.1140   \n",
       "4   I   0.330     0.255   0.080        0.2050          0.0895          0.0395   \n",
       "\n",
       "   Shell weight  Rings  \n",
       "0         0.150     15  \n",
       "1         0.070      7  \n",
       "2         0.210      9  \n",
       "3         0.155     10  \n",
       "4         0.055      7  "
      ]
     },
     "execution_count": 25,
     "metadata": {},
     "output_type": "execute_result"
    }
   ],
   "source": [
    "url = \"https://archive.ics.uci.edu/ml/machine-learning-databases/abalone/abalone.data\"\n",
    "cols = [\"Sex\" ,\"Length\" ,\"Diameter\" ,\"Height\" ,\"Whole weight\" ,\"Shucked weight\" ,\"Viscera weight\" ,\"Shell weight\" ,\"Rings\"]\n",
    "\n",
    "abalone_df = pd.read_csv(url, header=None, names=cols)\n",
    "abalone_df.head()"
   ]
  },
  {
   "cell_type": "code",
   "execution_count": 26,
   "metadata": {},
   "outputs": [],
   "source": [
    "# Name / Data Type / Measurement Unit / Description\n",
    "# -----------------------------\n",
    "# Sex / nominal / -- / M, F, and I (infant)\n",
    "# Length / continuous / mm / Longest shell measurement\n",
    "# Diameter / continuous / mm / perpendicular to length\n",
    "# Height / continuous / mm / with meat in shell\n",
    "# Whole weight / continuous / grams / whole abalone\n",
    "# Shucked weight / continuous / grams / weight of meat\n",
    "# Viscera weight / continuous / grams / gut weight (after bleeding)\n",
    "# Shell weight / continuous / grams / after being dried\n",
    "# Rings / integer / -- / +1.5 gives the age in years\n"
   ]
  },
  {
   "cell_type": "markdown",
   "metadata": {},
   "source": [
    "#### Find missing values"
   ]
  },
  {
   "cell_type": "code",
   "execution_count": 27,
   "metadata": {},
   "outputs": [
    {
     "name": "stdout",
     "output_type": "stream",
     "text": [
      "<class 'pandas.core.frame.DataFrame'>\n",
      "RangeIndex: 4177 entries, 0 to 4176\n",
      "Data columns (total 9 columns):\n",
      " #   Column          Non-Null Count  Dtype  \n",
      "---  ------          --------------  -----  \n",
      " 0   Sex             4177 non-null   object \n",
      " 1   Length          4177 non-null   float64\n",
      " 2   Diameter        4177 non-null   float64\n",
      " 3   Height          4177 non-null   float64\n",
      " 4   Whole weight    4177 non-null   float64\n",
      " 5   Shucked weight  4177 non-null   float64\n",
      " 6   Viscera weight  4177 non-null   float64\n",
      " 7   Shell weight    4177 non-null   float64\n",
      " 8   Rings           4177 non-null   int64  \n",
      "dtypes: float64(7), int64(1), object(1)\n",
      "memory usage: 293.8+ KB\n"
     ]
    }
   ],
   "source": [
    "abalone_df.info()"
   ]
  },
  {
   "cell_type": "code",
   "execution_count": 28,
   "metadata": {},
   "outputs": [
    {
     "data": {
      "text/plain": [
       "Sex               0\n",
       "Length            0\n",
       "Diameter          0\n",
       "Height            0\n",
       "Whole weight      0\n",
       "Shucked weight    0\n",
       "Viscera weight    0\n",
       "Shell weight      0\n",
       "Rings             0\n",
       "dtype: int64"
      ]
     },
     "execution_count": 28,
     "metadata": {},
     "output_type": "execute_result"
    }
   ],
   "source": [
    "abalone_df.isnull().sum()"
   ]
  },
  {
   "cell_type": "code",
   "execution_count": 29,
   "metadata": {},
   "outputs": [],
   "source": [
    "# Sex is categorical.\n",
    "# Convert it to numbers using enecoders"
   ]
  },
  {
   "cell_type": "code",
   "execution_count": 30,
   "metadata": {},
   "outputs": [
    {
     "data": {
      "text/plain": [
       "array(['M', 'F', 'I'], dtype=object)"
      ]
     },
     "execution_count": 30,
     "metadata": {},
     "output_type": "execute_result"
    }
   ],
   "source": [
    "abalone_df.Sex.unique()"
   ]
  },
  {
   "cell_type": "code",
   "execution_count": 31,
   "metadata": {},
   "outputs": [],
   "source": [
    "abalone_df = abalone_df.replace({\"Sex\": {\"M\":1, \"F\":2, \"I\":3}})"
   ]
  },
  {
   "cell_type": "markdown",
   "metadata": {},
   "source": [
    "### Seperate labels"
   ]
  },
  {
   "cell_type": "code",
   "execution_count": 32,
   "metadata": {},
   "outputs": [],
   "source": [
    "# Feature scaling is not performed on labels\n",
    "# So separate labels"
   ]
  },
  {
   "cell_type": "code",
   "execution_count": 33,
   "metadata": {},
   "outputs": [
    {
     "name": "stdout",
     "output_type": "stream",
     "text": [
      "<class 'pandas.core.frame.DataFrame'>\n",
      "RangeIndex: 4177 entries, 0 to 4176\n",
      "Data columns (total 8 columns):\n",
      " #   Column          Non-Null Count  Dtype  \n",
      "---  ------          --------------  -----  \n",
      " 0   Sex             4177 non-null   int64  \n",
      " 1   Length          4177 non-null   float64\n",
      " 2   Diameter        4177 non-null   float64\n",
      " 3   Height          4177 non-null   float64\n",
      " 4   Whole weight    4177 non-null   float64\n",
      " 5   Shucked weight  4177 non-null   float64\n",
      " 6   Viscera weight  4177 non-null   float64\n",
      " 7   Shell weight    4177 non-null   float64\n",
      "dtypes: float64(7), int64(1)\n",
      "memory usage: 261.2 KB\n"
     ]
    }
   ],
   "source": [
    "y = abalone_df.pop(\"Rings\")\n",
    "abalone_df.info()"
   ]
  },
  {
   "cell_type": "markdown",
   "metadata": {},
   "source": [
    "### Examine Scales"
   ]
  },
  {
   "cell_type": "markdown",
   "metadata": {},
   "source": [
    "#### Statistical method"
   ]
  },
  {
   "cell_type": "code",
   "execution_count": 35,
   "metadata": {},
   "outputs": [
    {
     "data": {
      "text/html": [
       "<div>\n",
       "<style scoped>\n",
       "    .dataframe tbody tr th:only-of-type {\n",
       "        vertical-align: middle;\n",
       "    }\n",
       "\n",
       "    .dataframe tbody tr th {\n",
       "        vertical-align: top;\n",
       "    }\n",
       "\n",
       "    .dataframe thead th {\n",
       "        text-align: right;\n",
       "    }\n",
       "</style>\n",
       "<table border=\"1\" class=\"dataframe\">\n",
       "  <thead>\n",
       "    <tr style=\"text-align: right;\">\n",
       "      <th></th>\n",
       "      <th>count</th>\n",
       "      <th>mean</th>\n",
       "      <th>std</th>\n",
       "      <th>min</th>\n",
       "      <th>25%</th>\n",
       "      <th>50%</th>\n",
       "      <th>75%</th>\n",
       "      <th>max</th>\n",
       "    </tr>\n",
       "  </thead>\n",
       "  <tbody>\n",
       "    <tr>\n",
       "      <th>Sex</th>\n",
       "      <td>4177.0</td>\n",
       "      <td>1.955470</td>\n",
       "      <td>0.827815</td>\n",
       "      <td>1.0000</td>\n",
       "      <td>1.0000</td>\n",
       "      <td>2.0000</td>\n",
       "      <td>3.000</td>\n",
       "      <td>3.0000</td>\n",
       "    </tr>\n",
       "    <tr>\n",
       "      <th>Length</th>\n",
       "      <td>4177.0</td>\n",
       "      <td>0.523992</td>\n",
       "      <td>0.120093</td>\n",
       "      <td>0.0750</td>\n",
       "      <td>0.4500</td>\n",
       "      <td>0.5450</td>\n",
       "      <td>0.615</td>\n",
       "      <td>0.8150</td>\n",
       "    </tr>\n",
       "    <tr>\n",
       "      <th>Diameter</th>\n",
       "      <td>4177.0</td>\n",
       "      <td>0.407881</td>\n",
       "      <td>0.099240</td>\n",
       "      <td>0.0550</td>\n",
       "      <td>0.3500</td>\n",
       "      <td>0.4250</td>\n",
       "      <td>0.480</td>\n",
       "      <td>0.6500</td>\n",
       "    </tr>\n",
       "    <tr>\n",
       "      <th>Height</th>\n",
       "      <td>4177.0</td>\n",
       "      <td>0.139516</td>\n",
       "      <td>0.041827</td>\n",
       "      <td>0.0000</td>\n",
       "      <td>0.1150</td>\n",
       "      <td>0.1400</td>\n",
       "      <td>0.165</td>\n",
       "      <td>1.1300</td>\n",
       "    </tr>\n",
       "    <tr>\n",
       "      <th>Whole weight</th>\n",
       "      <td>4177.0</td>\n",
       "      <td>0.828742</td>\n",
       "      <td>0.490389</td>\n",
       "      <td>0.0020</td>\n",
       "      <td>0.4415</td>\n",
       "      <td>0.7995</td>\n",
       "      <td>1.153</td>\n",
       "      <td>2.8255</td>\n",
       "    </tr>\n",
       "    <tr>\n",
       "      <th>Shucked weight</th>\n",
       "      <td>4177.0</td>\n",
       "      <td>0.359367</td>\n",
       "      <td>0.221963</td>\n",
       "      <td>0.0010</td>\n",
       "      <td>0.1860</td>\n",
       "      <td>0.3360</td>\n",
       "      <td>0.502</td>\n",
       "      <td>1.4880</td>\n",
       "    </tr>\n",
       "    <tr>\n",
       "      <th>Viscera weight</th>\n",
       "      <td>4177.0</td>\n",
       "      <td>0.180594</td>\n",
       "      <td>0.109614</td>\n",
       "      <td>0.0005</td>\n",
       "      <td>0.0935</td>\n",
       "      <td>0.1710</td>\n",
       "      <td>0.253</td>\n",
       "      <td>0.7600</td>\n",
       "    </tr>\n",
       "    <tr>\n",
       "      <th>Shell weight</th>\n",
       "      <td>4177.0</td>\n",
       "      <td>0.238831</td>\n",
       "      <td>0.139203</td>\n",
       "      <td>0.0015</td>\n",
       "      <td>0.1300</td>\n",
       "      <td>0.2340</td>\n",
       "      <td>0.329</td>\n",
       "      <td>1.0050</td>\n",
       "    </tr>\n",
       "  </tbody>\n",
       "</table>\n",
       "</div>"
      ],
      "text/plain": [
       "                 count      mean       std     min     25%     50%    75%  \\\n",
       "Sex             4177.0  1.955470  0.827815  1.0000  1.0000  2.0000  3.000   \n",
       "Length          4177.0  0.523992  0.120093  0.0750  0.4500  0.5450  0.615   \n",
       "Diameter        4177.0  0.407881  0.099240  0.0550  0.3500  0.4250  0.480   \n",
       "Height          4177.0  0.139516  0.041827  0.0000  0.1150  0.1400  0.165   \n",
       "Whole weight    4177.0  0.828742  0.490389  0.0020  0.4415  0.7995  1.153   \n",
       "Shucked weight  4177.0  0.359367  0.221963  0.0010  0.1860  0.3360  0.502   \n",
       "Viscera weight  4177.0  0.180594  0.109614  0.0005  0.0935  0.1710  0.253   \n",
       "Shell weight    4177.0  0.238831  0.139203  0.0015  0.1300  0.2340  0.329   \n",
       "\n",
       "                   max  \n",
       "Sex             3.0000  \n",
       "Length          0.8150  \n",
       "Diameter        0.6500  \n",
       "Height          1.1300  \n",
       "Whole weight    2.8255  \n",
       "Shucked weight  1.4880  \n",
       "Viscera weight  0.7600  \n",
       "Shell weight    1.0050  "
      ]
     },
     "execution_count": 35,
     "metadata": {},
     "output_type": "execute_result"
    }
   ],
   "source": [
    "abalone_df.describe().T"
   ]
  },
  {
   "cell_type": "markdown",
   "metadata": {},
   "source": [
    "#### Visualize Scales"
   ]
  },
  {
   "cell_type": "markdown",
   "metadata": {},
   "source": [
    "##### Feature Histogram"
   ]
  },
  {
   "cell_type": "markdown",
   "metadata": {},
   "source": [
    "##### Single Feature"
   ]
  },
  {
   "cell_type": "code",
   "execution_count": 36,
   "metadata": {
    "collapsed": true,
    "jupyter": {
     "outputs_hidden": true
    }
   },
   "outputs": [
    {
     "data": {
      "image/png": "[encoded data removed]",
      "text/plain": [
       "<Figure size 640x480 with 1 Axes>"
      ]
     },
     "metadata": {},
     "output_type": "display_data"
    }
   ],
   "source": [
    "col = \"Height\"\n",
    "scale_range = abalone_df[col].max() - abalone_df[col].min()\n",
    "bins = 10\n",
    "sns.histplot(data=abalone_df, x=col, bins=bins, binwidth=scale_range/50)\n",
    "plt.xlabel(col, fontsize=16)\n",
    "plt.ylabel(\"Count\", fontsize=16)\n",
    "plt.title(\"Histogram: Single Feature\")\n",
    "plt.show()"
   ]
  },
  {
   "cell_type": "markdown",
   "metadata": {},
   "source": [
    "##### Single Feature with KDE and Hue"
   ]
  },
  {
   "cell_type": "code",
   "execution_count": 37,
   "metadata": {
    "collapsed": true,
    "jupyter": {
     "outputs_hidden": true
    }
   },
   "outputs": [
    {
     "data": {
      "image/png": "[encoded data removed]",
      "text/plain": [
       "<Figure size 640x480 with 1 Axes>"
      ]
     },
     "metadata": {},
     "output_type": "display_data"
    }
   ],
   "source": [
    "col = \"Height\"\n",
    "scale_range = abalone_df[col].max() - abalone_df[col].min()\n",
    "bins = 10\n",
    "sns.histplot(data=abalone_df, x=col, bins=bins, binwidth=scale_range/50, kde=True, hue=\"Sex\")\n",
    "plt.xlabel(col, fontsize=16)\n",
    "plt.ylabel(\"Count\", fontsize=16)\n",
    "plt.title(\"Histogram: Single Feature\")\n",
    "plt.show()"
   ]
  },
  {
   "cell_type": "markdown",
   "metadata": {},
   "source": [
    "##### All Features"
   ]
  },
  {
   "cell_type": "code",
   "execution_count": 38,
   "metadata": {
    "collapsed": true,
    "jupyter": {
     "outputs_hidden": true
    }
   },
   "outputs": [
    {
     "data": {
      "image/png": "[encoded data removed]",
      "text/plain": [
       "<Figure size 640x480 with 1 Axes>"
      ]
     },
     "metadata": {},
     "output_type": "display_data"
    }
   ],
   "source": [
    "sns.histplot(data=abalone_df)\n",
    "plt.xlabel(\"Value\", fontsize=16)\n",
    "plt.ylabel(\"Count\", fontsize=16)\n",
    "plt.title(\"Histogram: All Feature\")\n",
    "plt.show()"
   ]
  },
  {
   "cell_type": "markdown",
   "metadata": {},
   "source": [
    "##### All Features but with pandas"
   ]
  },
  {
   "cell_type": "code",
   "execution_count": 39,
   "metadata": {
    "collapsed": true,
    "jupyter": {
     "outputs_hidden": true
    }
   },
   "outputs": [
    {
     "data": {
      "image/png": "[encoded data removed]",
      "text/plain": [
       "<Figure size 1500x1000 with 9 Axes>"
      ]
     },
     "metadata": {},
     "output_type": "display_data"
    }
   ],
   "source": [
    "abalone_df.hist(bins=15, figsize=(15, 10))\n",
    "plt.show()"
   ]
  },
  {
   "cell_type": "markdown",
   "metadata": {},
   "source": [
    "##### Feature KDE"
   ]
  },
  {
   "cell_type": "code",
   "execution_count": 51,
   "metadata": {},
   "outputs": [],
   "source": [
    "# Kernel density estimation plot"
   ]
  },
  {
   "cell_type": "code",
   "execution_count": 42,
   "metadata": {},
   "outputs": [
    {
     "data": {
      "image/png": "[encoded data removed]",
      "text/plain": [
       "<Figure size 640x480 with 1 Axes>"
      ]
     },
     "metadata": {},
     "output_type": "display_data"
    }
   ],
   "source": [
    "abalone_df.plot.kde()\n",
    "plt.show()"
   ]
  },
  {
   "cell_type": "code",
   "execution_count": 43,
   "metadata": {},
   "outputs": [],
   "source": [
    "# its visible that all features are on different scales"
   ]
  },
  {
   "cell_type": "markdown",
   "metadata": {},
   "source": [
    "##### Box plot"
   ]
  },
  {
   "cell_type": "code",
   "execution_count": 68,
   "metadata": {
    "collapsed": true,
    "jupyter": {
     "outputs_hidden": true
    }
   },
   "outputs": [
    {
     "data": {
      "image/png": "[encoded data removed]",
      "text/plain": [
       "<Figure size 780x600 with 1 Axes>"
      ]
     },
     "metadata": {},
     "output_type": "display_data"
    }
   ],
   "source": [
    "p = sns.catplot(data=abalone_df, orient=\"h\", kind=\"box\", height=6, aspect=1.3)\n",
    "p.set_yticklabels(size = 15)\n",
    "plt.show()"
   ]
  },
  {
   "cell_type": "markdown",
   "metadata": {},
   "source": [
    "##### Violin plot"
   ]
  },
  {
   "cell_type": "code",
   "execution_count": 69,
   "metadata": {},
   "outputs": [],
   "source": [
    "# based on KDE of underlying distribution"
   ]
  },
  {
   "cell_type": "code",
   "execution_count": 82,
   "metadata": {
    "collapsed": true,
    "jupyter": {
     "outputs_hidden": true
    }
   },
   "outputs": [
    {
     "data": {
      "image/png": "[encoded data removed]",
      "text/plain": [
       "<Figure size 780x600 with 1 Axes>"
      ]
     },
     "metadata": {},
     "output_type": "display_data"
    }
   ],
   "source": [
    "p = sns.catplot(kind=\"violin\", data=abalone_df, bw=.15, cut=0, orient=\"h\", height=6, aspect=1.3)\n",
    "p.set_yticklabels(size = 12)\n",
    "plt.show()"
   ]
  },
  {
   "cell_type": "markdown",
   "metadata": {},
   "source": [
    "##### Boxen plot"
   ]
  },
  {
   "cell_type": "code",
   "execution_count": 83,
   "metadata": {},
   "outputs": [],
   "source": [
    "# violin plot is difficult, so use boxen "
   ]
  },
  {
   "cell_type": "code",
   "execution_count": 84,
   "metadata": {
    "collapsed": true,
    "jupyter": {
     "outputs_hidden": true
    }
   },
   "outputs": [
    {
     "data": {
      "image/png": "[encoded data removed]",
      "text/plain": [
       "<Figure size 780x600 with 1 Axes>"
      ]
     },
     "metadata": {},
     "output_type": "display_data"
    }
   ],
   "source": [
    "p = sns.catplot(kind=\"boxen\", data=abalone_df, orient=\"h\", height=6, aspect=1.3)\n",
    "p.set_yticklabels(size = 12)\n",
    "plt.show()"
   ]
  },
  {
   "cell_type": "markdown",
   "metadata": {},
   "source": [
    "## Numeric Transformers"
   ]
  },
  {
   "cell_type": "markdown",
   "metadata": {},
   "source": [
    "### Features Scaling"
   ]
  },
  {
   "cell_type": "markdown",
   "metadata": {},
   "source": [
    "#### MaxAbsoluteScaler"
   ]
  },
  {
   "cell_type": "code",
   "execution_count": 85,
   "metadata": {},
   "outputs": [],
   "source": [
    "# New data range: [-1, 1]"
   ]
  },
  {
   "cell_type": "code",
   "execution_count": 86,
   "metadata": {},
   "outputs": [
    {
     "name": "stdout",
     "output_type": "stream",
     "text": [
      "Shape: (5,)\n",
      "Shape: (5, 1)\n",
      "[[   4]\n",
      " [   2]\n",
      " [   5]\n",
      " [  -2]\n",
      " [-100]]\n"
     ]
    }
   ],
   "source": [
    "x = np.array([4, 2, 5, -2, -100])\n",
    "print(f\"Shape: {x.shape}\")\n",
    "x = x.reshape(-1,1)\n",
    "print(f\"Shape: {x.shape}\\n{x}\")"
   ]
  },
  {
   "cell_type": "code",
   "execution_count": 88,
   "metadata": {},
   "outputs": [
    {
     "name": "stdout",
     "output_type": "stream",
     "text": [
      "[[ 0.04]\n",
      " [ 0.02]\n",
      " [ 0.05]\n",
      " [-0.02]\n",
      " [-1.  ]]\n"
     ]
    }
   ],
   "source": [
    "mas = MaxAbsScaler()\n",
    "x_new = mas.fit_transform(x)\n",
    "print(x_new)"
   ]
  },
  {
   "cell_type": "markdown",
   "metadata": {},
   "source": [
    "#### MinMaxScaler"
   ]
  },
  {
   "cell_type": "code",
   "execution_count": 89,
   "metadata": {},
   "outputs": [],
   "source": [
    "# New data range: [0, 1]"
   ]
  },
  {
   "cell_type": "code",
   "execution_count": 90,
   "metadata": {},
   "outputs": [
    {
     "name": "stdout",
     "output_type": "stream",
     "text": [
      "Shape: (5,)\n",
      "Shape: (5, 1)\n",
      "[[   4]\n",
      " [   2]\n",
      " [   5]\n",
      " [  -2]\n",
      " [-100]]\n"
     ]
    }
   ],
   "source": [
    "x = np.array([4, 2, 5, -2, -100])\n",
    "print(f\"Shape: {x.shape}\")\n",
    "x = x.reshape(-1,1)\n",
    "print(f\"Shape: {x.shape}\\n{x}\")"
   ]
  },
  {
   "cell_type": "code",
   "execution_count": 91,
   "metadata": {},
   "outputs": [
    {
     "name": "stdout",
     "output_type": "stream",
     "text": [
      "[[0.99047619]\n",
      " [0.97142857]\n",
      " [1.        ]\n",
      " [0.93333333]\n",
      " [0.        ]]\n"
     ]
    }
   ],
   "source": [
    "mms = MinMaxScaler()\n",
    "x_new = mms.fit_transform(x)\n",
    "print(x_new)"
   ]
  },
  {
   "cell_type": "markdown",
   "metadata": {},
   "source": [
    "#### MinMaxScaler on real data"
   ]
  },
  {
   "cell_type": "code",
   "execution_count": 93,
   "metadata": {},
   "outputs": [
    {
     "data": {
      "text/html": [
       "<div>\n",
       "<style scoped>\n",
       "    .dataframe tbody tr th:only-of-type {\n",
       "        vertical-align: middle;\n",
       "    }\n",
       "\n",
       "    .dataframe tbody tr th {\n",
       "        vertical-align: top;\n",
       "    }\n",
       "\n",
       "    .dataframe thead th {\n",
       "        text-align: right;\n",
       "    }\n",
       "</style>\n",
       "<table border=\"1\" class=\"dataframe\">\n",
       "  <thead>\n",
       "    <tr style=\"text-align: right;\">\n",
       "      <th></th>\n",
       "      <th>Sex</th>\n",
       "      <th>Length</th>\n",
       "      <th>Diameter</th>\n",
       "      <th>Height</th>\n",
       "      <th>Whole weight</th>\n",
       "      <th>Shucked weight</th>\n",
       "      <th>Viscera weight</th>\n",
       "      <th>Shell weight</th>\n",
       "    </tr>\n",
       "  </thead>\n",
       "  <tbody>\n",
       "    <tr>\n",
       "      <th>0</th>\n",
       "      <td>0.0</td>\n",
       "      <td>0.513514</td>\n",
       "      <td>0.521008</td>\n",
       "      <td>0.084071</td>\n",
       "      <td>0.181335</td>\n",
       "      <td>0.150303</td>\n",
       "      <td>0.132324</td>\n",
       "      <td>0.147982</td>\n",
       "    </tr>\n",
       "    <tr>\n",
       "      <th>1</th>\n",
       "      <td>0.0</td>\n",
       "      <td>0.371622</td>\n",
       "      <td>0.352941</td>\n",
       "      <td>0.079646</td>\n",
       "      <td>0.079157</td>\n",
       "      <td>0.066241</td>\n",
       "      <td>0.063199</td>\n",
       "      <td>0.068261</td>\n",
       "    </tr>\n",
       "  </tbody>\n",
       "</table>\n",
       "</div>"
      ],
      "text/plain": [
       "   Sex    Length  Diameter    Height  Whole weight  Shucked weight  \\\n",
       "0  0.0  0.513514  0.521008  0.084071      0.181335        0.150303   \n",
       "1  0.0  0.371622  0.352941  0.079646      0.079157        0.066241   \n",
       "\n",
       "   Viscera weight  Shell weight  \n",
       "0        0.132324      0.147982  \n",
       "1        0.063199      0.068261  "
      ]
     },
     "execution_count": 93,
     "metadata": {},
     "output_type": "execute_result"
    }
   ],
   "source": [
    "abalone_norm_df = abalone_df.copy(deep=True)\n",
    "mms = MinMaxScaler()\n",
    "abalone_norm_df.iloc[:,:] = mms.fit_transform(abalone_df)\n",
    "abalone_norm_df.head(2)"
   ]
  },
  {
   "cell_type": "code",
   "execution_count": 95,
   "metadata": {},
   "outputs": [
    {
     "data": {
      "text/html": [
       "<div>\n",
       "<style scoped>\n",
       "    .dataframe tbody tr th:only-of-type {\n",
       "        vertical-align: middle;\n",
       "    }\n",
       "\n",
       "    .dataframe tbody tr th {\n",
       "        vertical-align: top;\n",
       "    }\n",
       "\n",
       "    .dataframe thead th {\n",
       "        text-align: right;\n",
       "    }\n",
       "</style>\n",
       "<table border=\"1\" class=\"dataframe\">\n",
       "  <thead>\n",
       "    <tr style=\"text-align: right;\">\n",
       "      <th></th>\n",
       "      <th>count</th>\n",
       "      <th>mean</th>\n",
       "      <th>std</th>\n",
       "      <th>min</th>\n",
       "      <th>25%</th>\n",
       "      <th>50%</th>\n",
       "      <th>75%</th>\n",
       "      <th>max</th>\n",
       "    </tr>\n",
       "  </thead>\n",
       "  <tbody>\n",
       "    <tr>\n",
       "      <th>Sex</th>\n",
       "      <td>4177.0</td>\n",
       "      <td>0.477735</td>\n",
       "      <td>0.413907</td>\n",
       "      <td>0.0</td>\n",
       "      <td>0.000000</td>\n",
       "      <td>0.500000</td>\n",
       "      <td>1.000000</td>\n",
       "      <td>1.0</td>\n",
       "    </tr>\n",
       "    <tr>\n",
       "      <th>Length</th>\n",
       "      <td>4177.0</td>\n",
       "      <td>0.606746</td>\n",
       "      <td>0.162288</td>\n",
       "      <td>0.0</td>\n",
       "      <td>0.506757</td>\n",
       "      <td>0.635135</td>\n",
       "      <td>0.729730</td>\n",
       "      <td>1.0</td>\n",
       "    </tr>\n",
       "    <tr>\n",
       "      <th>Diameter</th>\n",
       "      <td>4177.0</td>\n",
       "      <td>0.593078</td>\n",
       "      <td>0.166790</td>\n",
       "      <td>0.0</td>\n",
       "      <td>0.495798</td>\n",
       "      <td>0.621849</td>\n",
       "      <td>0.714286</td>\n",
       "      <td>1.0</td>\n",
       "    </tr>\n",
       "    <tr>\n",
       "      <th>Height</th>\n",
       "      <td>4177.0</td>\n",
       "      <td>0.123466</td>\n",
       "      <td>0.037015</td>\n",
       "      <td>0.0</td>\n",
       "      <td>0.101770</td>\n",
       "      <td>0.123894</td>\n",
       "      <td>0.146018</td>\n",
       "      <td>1.0</td>\n",
       "    </tr>\n",
       "    <tr>\n",
       "      <th>Whole weight</th>\n",
       "      <td>4177.0</td>\n",
       "      <td>0.292808</td>\n",
       "      <td>0.173681</td>\n",
       "      <td>0.0</td>\n",
       "      <td>0.155658</td>\n",
       "      <td>0.282451</td>\n",
       "      <td>0.407650</td>\n",
       "      <td>1.0</td>\n",
       "    </tr>\n",
       "    <tr>\n",
       "      <th>Shucked weight</th>\n",
       "      <td>4177.0</td>\n",
       "      <td>0.241000</td>\n",
       "      <td>0.149269</td>\n",
       "      <td>0.0</td>\n",
       "      <td>0.124412</td>\n",
       "      <td>0.225286</td>\n",
       "      <td>0.336920</td>\n",
       "      <td>1.0</td>\n",
       "    </tr>\n",
       "    <tr>\n",
       "      <th>Viscera weight</th>\n",
       "      <td>4177.0</td>\n",
       "      <td>0.237121</td>\n",
       "      <td>0.144324</td>\n",
       "      <td>0.0</td>\n",
       "      <td>0.122449</td>\n",
       "      <td>0.224490</td>\n",
       "      <td>0.332456</td>\n",
       "      <td>1.0</td>\n",
       "    </tr>\n",
       "    <tr>\n",
       "      <th>Shell weight</th>\n",
       "      <td>4177.0</td>\n",
       "      <td>0.236503</td>\n",
       "      <td>0.138717</td>\n",
       "      <td>0.0</td>\n",
       "      <td>0.128052</td>\n",
       "      <td>0.231689</td>\n",
       "      <td>0.326358</td>\n",
       "      <td>1.0</td>\n",
       "    </tr>\n",
       "  </tbody>\n",
       "</table>\n",
       "</div>"
      ],
      "text/plain": [
       "                 count      mean       std  min       25%       50%       75%  \\\n",
       "Sex             4177.0  0.477735  0.413907  0.0  0.000000  0.500000  1.000000   \n",
       "Length          4177.0  0.606746  0.162288  0.0  0.506757  0.635135  0.729730   \n",
       "Diameter        4177.0  0.593078  0.166790  0.0  0.495798  0.621849  0.714286   \n",
       "Height          4177.0  0.123466  0.037015  0.0  0.101770  0.123894  0.146018   \n",
       "Whole weight    4177.0  0.292808  0.173681  0.0  0.155658  0.282451  0.407650   \n",
       "Shucked weight  4177.0  0.241000  0.149269  0.0  0.124412  0.225286  0.336920   \n",
       "Viscera weight  4177.0  0.237121  0.144324  0.0  0.122449  0.224490  0.332456   \n",
       "Shell weight    4177.0  0.236503  0.138717  0.0  0.128052  0.231689  0.326358   \n",
       "\n",
       "                max  \n",
       "Sex             1.0  \n",
       "Length          1.0  \n",
       "Diameter        1.0  \n",
       "Height          1.0  \n",
       "Whole weight    1.0  \n",
       "Shucked weight  1.0  \n",
       "Viscera weight  1.0  \n",
       "Shell weight    1.0  "
      ]
     },
     "execution_count": 95,
     "metadata": {},
     "output_type": "execute_result"
    }
   ],
   "source": [
    "abalone_norm_df.describe().T"
   ]
  },
  {
   "cell_type": "markdown",
   "metadata": {},
   "source": [
    "#### Visualize Scales after Scaling"
   ]
  },
  {
   "cell_type": "markdown",
   "metadata": {},
   "source": [
    "##### All Features"
   ]
  },
  {
   "cell_type": "code",
   "execution_count": 97,
   "metadata": {},
   "outputs": [
    {
     "data": {
      "image/png": "[encoded data removed]",
      "text/plain": [
       "<Figure size 640x480 with 1 Axes>"
      ]
     },
     "metadata": {},
     "output_type": "display_data"
    }
   ],
   "source": [
    "sns.histplot(data=abalone_norm_df)\n",
    "plt.xlabel(\"Value\", fontsize=16)\n",
    "plt.ylabel(\"Count\", fontsize=16)\n",
    "plt.title(\"Histogram: All Feature\")\n",
    "plt.show()"
   ]
  },
  {
   "cell_type": "markdown",
   "metadata": {},
   "source": [
    "##### Feature KDE"
   ]
  },
  {
   "cell_type": "code",
   "execution_count": 51,
   "metadata": {},
   "outputs": [],
   "source": [
    "# Kernel density estimation plot"
   ]
  },
  {
   "cell_type": "code",
   "execution_count": 98,
   "metadata": {},
   "outputs": [
    {
     "data": {
      "image/png": "[encoded data removed]",
      "text/plain": [
       "<Figure size 640x480 with 1 Axes>"
      ]
     },
     "metadata": {},
     "output_type": "display_data"
    }
   ],
   "source": [
    "abalone_norm_df.plot.kde()\n",
    "plt.show()"
   ]
  },
  {
   "cell_type": "markdown",
   "metadata": {},
   "source": [
    "##### Boxen plot"
   ]
  },
  {
   "cell_type": "code",
   "execution_count": 83,
   "metadata": {},
   "outputs": [],
   "source": [
    "# violin plot is difficult, so use boxen "
   ]
  },
  {
   "cell_type": "code",
   "execution_count": 99,
   "metadata": {},
   "outputs": [
    {
     "data": {
      "image/png": "[encoded data removed]",
      "text/plain": [
       "<Figure size 780x600 with 1 Axes>"
      ]
     },
     "metadata": {},
     "output_type": "display_data"
    }
   ],
   "source": [
    "p = sns.catplot(kind=\"boxen\", data=abalone_norm_df, orient=\"h\", height=6, aspect=1.3)\n",
    "p.set_yticklabels(size = 12)\n",
    "plt.show()"
   ]
  },
  {
   "cell_type": "markdown",
   "metadata": {},
   "source": [
    "#### StandardScaler"
   ]
  },
  {
   "cell_type": "code",
   "execution_count": 100,
   "metadata": {},
   "outputs": [],
   "source": [
    "# New data range: range is not fixed but mean=0, std=1"
   ]
  },
  {
   "cell_type": "code",
   "execution_count": 101,
   "metadata": {},
   "outputs": [
    {
     "name": "stdout",
     "output_type": "stream",
     "text": [
      "Shape: (5,)\n",
      "Shape: (5, 1)\n",
      "[[   4]\n",
      " [   2]\n",
      " [   5]\n",
      " [  -2]\n",
      " [-100]]\n"
     ]
    }
   ],
   "source": [
    "x = np.array([4, 2, 5, -2, -100])\n",
    "print(f\"Shape: {x.shape}\")\n",
    "x = x.reshape(-1,1)\n",
    "print(f\"Shape: {x.shape}\\n{x}\")"
   ]
  },
  {
   "cell_type": "code",
   "execution_count": 102,
   "metadata": {},
   "outputs": [
    {
     "name": "stdout",
     "output_type": "stream",
     "text": [
      "[[ 0.54185681]\n",
      " [ 0.49304089]\n",
      " [ 0.56626478]\n",
      " [ 0.39540903]\n",
      " [-1.99657151]]\n"
     ]
    }
   ],
   "source": [
    "ss = StandardScaler()\n",
    "x_new = ss.fit_transform(x)\n",
    "print(x_new)"
   ]
  },
  {
   "cell_type": "markdown",
   "metadata": {},
   "source": [
    "#### StandardScaler on real data"
   ]
  },
  {
   "cell_type": "code",
   "execution_count": 103,
   "metadata": {},
   "outputs": [
    {
     "data": {
      "text/html": [
       "<div>\n",
       "<style scoped>\n",
       "    .dataframe tbody tr th:only-of-type {\n",
       "        vertical-align: middle;\n",
       "    }\n",
       "\n",
       "    .dataframe tbody tr th {\n",
       "        vertical-align: top;\n",
       "    }\n",
       "\n",
       "    .dataframe thead th {\n",
       "        text-align: right;\n",
       "    }\n",
       "</style>\n",
       "<table border=\"1\" class=\"dataframe\">\n",
       "  <thead>\n",
       "    <tr style=\"text-align: right;\">\n",
       "      <th></th>\n",
       "      <th>Sex</th>\n",
       "      <th>Length</th>\n",
       "      <th>Diameter</th>\n",
       "      <th>Height</th>\n",
       "      <th>Whole weight</th>\n",
       "      <th>Shucked weight</th>\n",
       "      <th>Viscera weight</th>\n",
       "      <th>Shell weight</th>\n",
       "    </tr>\n",
       "  </thead>\n",
       "  <tbody>\n",
       "    <tr>\n",
       "      <th>0</th>\n",
       "      <td>-1.154346</td>\n",
       "      <td>-0.574558</td>\n",
       "      <td>-0.432149</td>\n",
       "      <td>-1.064424</td>\n",
       "      <td>-0.641898</td>\n",
       "      <td>-0.607685</td>\n",
       "      <td>-0.726212</td>\n",
       "      <td>-0.638217</td>\n",
       "    </tr>\n",
       "    <tr>\n",
       "      <th>1</th>\n",
       "      <td>-1.154346</td>\n",
       "      <td>-1.448986</td>\n",
       "      <td>-1.439929</td>\n",
       "      <td>-1.183978</td>\n",
       "      <td>-1.230277</td>\n",
       "      <td>-1.170910</td>\n",
       "      <td>-1.205221</td>\n",
       "      <td>-1.212987</td>\n",
       "    </tr>\n",
       "  </tbody>\n",
       "</table>\n",
       "</div>"
      ],
      "text/plain": [
       "        Sex    Length  Diameter    Height  Whole weight  Shucked weight  \\\n",
       "0 -1.154346 -0.574558 -0.432149 -1.064424     -0.641898       -0.607685   \n",
       "1 -1.154346 -1.448986 -1.439929 -1.183978     -1.230277       -1.170910   \n",
       "\n",
       "   Viscera weight  Shell weight  \n",
       "0       -0.726212     -0.638217  \n",
       "1       -1.205221     -1.212987  "
      ]
     },
     "execution_count": 103,
     "metadata": {},
     "output_type": "execute_result"
    }
   ],
   "source": [
    "abalone_std_df = abalone_df.copy(deep=True)\n",
    "ss = StandardScaler()\n",
    "abalone_std_df.iloc[:,:] = ss.fit_transform(abalone_df)\n",
    "abalone_std_df.head(2)"
   ]
  },
  {
   "cell_type": "code",
   "execution_count": 104,
   "metadata": {},
   "outputs": [
    {
     "data": {
      "text/html": [
       "<div>\n",
       "<style scoped>\n",
       "    .dataframe tbody tr th:only-of-type {\n",
       "        vertical-align: middle;\n",
       "    }\n",
       "\n",
       "    .dataframe tbody tr th {\n",
       "        vertical-align: top;\n",
       "    }\n",
       "\n",
       "    .dataframe thead th {\n",
       "        text-align: right;\n",
       "    }\n",
       "</style>\n",
       "<table border=\"1\" class=\"dataframe\">\n",
       "  <thead>\n",
       "    <tr style=\"text-align: right;\">\n",
       "      <th></th>\n",
       "      <th>count</th>\n",
       "      <th>mean</th>\n",
       "      <th>std</th>\n",
       "      <th>min</th>\n",
       "      <th>25%</th>\n",
       "      <th>50%</th>\n",
       "      <th>75%</th>\n",
       "      <th>max</th>\n",
       "    </tr>\n",
       "  </thead>\n",
       "  <tbody>\n",
       "    <tr>\n",
       "      <th>Sex</th>\n",
       "      <td>4177.0</td>\n",
       "      <td>-7.593745e-16</td>\n",
       "      <td>1.00012</td>\n",
       "      <td>-1.154346</td>\n",
       "      <td>-1.154346</td>\n",
       "      <td>0.053798</td>\n",
       "      <td>1.261943</td>\n",
       "      <td>1.261943</td>\n",
       "    </tr>\n",
       "    <tr>\n",
       "      <th>Length</th>\n",
       "      <td>4177.0</td>\n",
       "      <td>-6.651770e-16</td>\n",
       "      <td>1.00012</td>\n",
       "      <td>-3.739154</td>\n",
       "      <td>-0.616198</td>\n",
       "      <td>0.174951</td>\n",
       "      <td>0.757903</td>\n",
       "      <td>2.423480</td>\n",
       "    </tr>\n",
       "    <tr>\n",
       "      <th>Diameter</th>\n",
       "      <td>4177.0</td>\n",
       "      <td>-3.957146e-16</td>\n",
       "      <td>1.00012</td>\n",
       "      <td>-3.556267</td>\n",
       "      <td>-0.583316</td>\n",
       "      <td>0.172519</td>\n",
       "      <td>0.726798</td>\n",
       "      <td>2.440025</td>\n",
       "    </tr>\n",
       "    <tr>\n",
       "      <th>Height</th>\n",
       "      <td>4177.0</td>\n",
       "      <td>5.082520e-16</td>\n",
       "      <td>1.00012</td>\n",
       "      <td>-3.335953</td>\n",
       "      <td>-0.586208</td>\n",
       "      <td>0.011563</td>\n",
       "      <td>0.609334</td>\n",
       "      <td>23.683287</td>\n",
       "    </tr>\n",
       "    <tr>\n",
       "      <th>Whole weight</th>\n",
       "      <td>4177.0</td>\n",
       "      <td>1.466122e-16</td>\n",
       "      <td>1.00012</td>\n",
       "      <td>-1.686092</td>\n",
       "      <td>-0.789758</td>\n",
       "      <td>-0.059638</td>\n",
       "      <td>0.661305</td>\n",
       "      <td>4.072271</td>\n",
       "    </tr>\n",
       "    <tr>\n",
       "      <th>Shucked weight</th>\n",
       "      <td>4177.0</td>\n",
       "      <td>-4.582295e-17</td>\n",
       "      <td>1.00012</td>\n",
       "      <td>-1.614731</td>\n",
       "      <td>-0.781159</td>\n",
       "      <td>-0.105289</td>\n",
       "      <td>0.642673</td>\n",
       "      <td>5.085388</td>\n",
       "    </tr>\n",
       "    <tr>\n",
       "      <th>Viscera weight</th>\n",
       "      <td>4177.0</td>\n",
       "      <td>1.085504e-16</td>\n",
       "      <td>1.00012</td>\n",
       "      <td>-1.643173</td>\n",
       "      <td>-0.794642</td>\n",
       "      <td>-0.087532</td>\n",
       "      <td>0.660635</td>\n",
       "      <td>5.286500</td>\n",
       "    </tr>\n",
       "    <tr>\n",
       "      <th>Shell weight</th>\n",
       "      <td>4177.0</td>\n",
       "      <td>3.648825e-16</td>\n",
       "      <td>1.00012</td>\n",
       "      <td>-1.705134</td>\n",
       "      <td>-0.781909</td>\n",
       "      <td>-0.034708</td>\n",
       "      <td>0.647832</td>\n",
       "      <td>5.504642</td>\n",
       "    </tr>\n",
       "  </tbody>\n",
       "</table>\n",
       "</div>"
      ],
      "text/plain": [
       "                 count          mean      std       min       25%       50%  \\\n",
       "Sex             4177.0 -7.593745e-16  1.00012 -1.154346 -1.154346  0.053798   \n",
       "Length          4177.0 -6.651770e-16  1.00012 -3.739154 -0.616198  0.174951   \n",
       "Diameter        4177.0 -3.957146e-16  1.00012 -3.556267 -0.583316  0.172519   \n",
       "Height          4177.0  5.082520e-16  1.00012 -3.335953 -0.586208  0.011563   \n",
       "Whole weight    4177.0  1.466122e-16  1.00012 -1.686092 -0.789758 -0.059638   \n",
       "Shucked weight  4177.0 -4.582295e-17  1.00012 -1.614731 -0.781159 -0.105289   \n",
       "Viscera weight  4177.0  1.085504e-16  1.00012 -1.643173 -0.794642 -0.087532   \n",
       "Shell weight    4177.0  3.648825e-16  1.00012 -1.705134 -0.781909 -0.034708   \n",
       "\n",
       "                     75%        max  \n",
       "Sex             1.261943   1.261943  \n",
       "Length          0.757903   2.423480  \n",
       "Diameter        0.726798   2.440025  \n",
       "Height          0.609334  23.683287  \n",
       "Whole weight    0.661305   4.072271  \n",
       "Shucked weight  0.642673   5.085388  \n",
       "Viscera weight  0.660635   5.286500  \n",
       "Shell weight    0.647832   5.504642  "
      ]
     },
     "execution_count": 104,
     "metadata": {},
     "output_type": "execute_result"
    }
   ],
   "source": [
    "abalone_std_df.describe().T"
   ]
  },
  {
   "cell_type": "markdown",
   "metadata": {},
   "source": [
    "#### Visualize Scales after Scaling"
   ]
  },
  {
   "cell_type": "markdown",
   "metadata": {},
   "source": [
    "##### All Features"
   ]
  },
  {
   "cell_type": "code",
   "execution_count": 105,
   "metadata": {},
   "outputs": [
    {
     "data": {
      "image/png": "[encoded data removed]",
      "text/plain": [
       "<Figure size 640x480 with 1 Axes>"
      ]
     },
     "metadata": {},
     "output_type": "display_data"
    }
   ],
   "source": [
    "sns.histplot(data=abalone_std_df)\n",
    "plt.xlabel(\"Value\", fontsize=16)\n",
    "plt.ylabel(\"Count\", fontsize=16)\n",
    "plt.title(\"Histogram: All Feature\")\n",
    "plt.show()"
   ]
  },
  {
   "cell_type": "markdown",
   "metadata": {},
   "source": [
    "##### Feature KDE"
   ]
  },
  {
   "cell_type": "code",
   "execution_count": 51,
   "metadata": {},
   "outputs": [],
   "source": [
    "# Kernel density estimation plot"
   ]
  },
  {
   "cell_type": "code",
   "execution_count": 106,
   "metadata": {},
   "outputs": [
    {
     "data": {
      "image/png": "[encoded data removed]",
      "text/plain": [
       "<Figure size 640x480 with 1 Axes>"
      ]
     },
     "metadata": {},
     "output_type": "display_data"
    }
   ],
   "source": [
    "abalone_std_df.plot.kde()\n",
    "plt.show()"
   ]
  },
  {
   "cell_type": "markdown",
   "metadata": {},
   "source": [
    "##### Boxen plot"
   ]
  },
  {
   "cell_type": "code",
   "execution_count": 83,
   "metadata": {},
   "outputs": [],
   "source": [
    "# violin plot is difficult, so use boxen "
   ]
  },
  {
   "cell_type": "code",
   "execution_count": 107,
   "metadata": {},
   "outputs": [
    {
     "data": {
      "image/png": "[encoded data removed]",
      "text/plain": [
       "<Figure size 780x600 with 1 Axes>"
      ]
     },
     "metadata": {},
     "output_type": "display_data"
    }
   ],
   "source": [
    "p = sns.catplot(kind=\"boxen\", data=abalone_std_df, orient=\"h\", height=6, aspect=1.3)\n",
    "p.set_yticklabels(size = 12)\n",
    "plt.show()"
   ]
  },
  {
   "cell_type": "code",
   "execution_count": 108,
   "metadata": {},
   "outputs": [],
   "source": [
    "# Its visible that standardied data has 50% quartile line at 0\n",
    "# also, height column contains 2 to 3 outlier points\n",
    "# Its better to remove outliers is required"
   ]
  },
  {
   "cell_type": "code",
   "execution_count": 109,
   "metadata": {},
   "outputs": [],
   "source": [
    "# https://machinelearningmastery.com/how-to-use-statistics-to-identify-outliers-in-data/"
   ]
  },
  {
   "cell_type": "code",
   "execution_count": null,
   "metadata": {},
   "outputs": [],
   "source": [
    "# from scipy import stats\n",
    "\n",
    "# def drop_numerical_outliers(df, z_thresh=3):\n",
    "#     # Constrains will contain `True` or `False` depending on if it is a value below the threshold.\n",
    "#     constrains = df.select_dtypes(include=[np.number]) \\\n",
    "#         .apply(lambda x: np.abs(stats.zscore(x)) < z_thresh, result_type=\"reduce\") \\\n",
    "#         .all(axis=1)\n",
    "#     # Drop (inplace) values set to be rejected\n",
    "#     df.drop(df.index[~constrains], inplace=True)"
   ]
  },
  {
   "cell_type": "markdown",
   "metadata": {},
   "source": [
    "### Add dummy feature"
   ]
  },
  {
   "cell_type": "code",
   "execution_count": 114,
   "metadata": {},
   "outputs": [
    {
     "name": "stdout",
     "output_type": "stream",
     "text": [
      "Old:\n",
      " [[2 5]\n",
      " [7 6]]\n",
      "New:\n",
      " [[1. 2. 5.]\n",
      " [1. 7. 6.]]\n"
     ]
    }
   ],
   "source": [
    "x = np.array([[2,5],[7,6]])\n",
    "print(\"Old:\\n\", x)\n",
    "\n",
    "x_new = add_dummy_feature(x)\n",
    "print(\"New:\\n\", x_new)"
   ]
  },
  {
   "cell_type": "markdown",
   "metadata": {},
   "source": [
    "### Column Transformer for mixed features"
   ]
  },
  {
   "cell_type": "code",
   "execution_count": 115,
   "metadata": {},
   "outputs": [],
   "source": [
    "# # Dummy code as we dont have categorical features in our df now\n",
    "\n",
    "# numerical_pipeline = Pipeline([\n",
    "#     ('imputer', SimpleImputer(strategy=\"median\")),\n",
    "#     ('std_scalar', StandardScaler())])\n",
    "\n",
    "# numerical_attrs = list(wine_features)\n",
    "# categorical_attrs = ['dummy_cat_feat']\n",
    "\n",
    "# full_pipeline = ColumnTransformer([\n",
    "#     (\"numerical\", numerical_pipeline, numerical_attrs),\n",
    "#     (\"categorical\", OneHotEncoder(), categorical_attrs)])\n",
    "    \n",
    "# wine_features_transformed = full_pipeline.fit_transform(wine_features)"
   ]
  },
  {
   "cell_type": "markdown",
   "metadata": {},
   "source": [
    "### Custom Transformer"
   ]
  },
  {
   "cell_type": "markdown",
   "metadata": {},
   "source": [
    "#### Load data"
   ]
  },
  {
   "cell_type": "code",
   "execution_count": 110,
   "metadata": {},
   "outputs": [
    {
     "name": "stdout",
     "output_type": "stream",
     "text": [
      "Data Shape: (1599, 12)\n"
     ]
    }
   ],
   "source": [
    "data_path = os.path.join(root_path, 'winequality-red.csv')\n",
    "df = pd.read_csv(data_path)\n",
    "print(f\"Data Shape: {df.shape}\")"
   ]
  },
  {
   "cell_type": "code",
   "execution_count": 116,
   "metadata": {},
   "outputs": [],
   "source": [
    "# use custom defined functions as a transformer\n",
    "# For heterogenous data set (img, text caption)"
   ]
  },
  {
   "cell_type": "code",
   "execution_count": 118,
   "metadata": {},
   "outputs": [
    {
     "data": {
      "text/html": [
       "<div>\n",
       "<style scoped>\n",
       "    .dataframe tbody tr th:only-of-type {\n",
       "        vertical-align: middle;\n",
       "    }\n",
       "\n",
       "    .dataframe tbody tr th {\n",
       "        vertical-align: top;\n",
       "    }\n",
       "\n",
       "    .dataframe thead th {\n",
       "        text-align: right;\n",
       "    }\n",
       "</style>\n",
       "<table border=\"1\" class=\"dataframe\">\n",
       "  <thead>\n",
       "    <tr style=\"text-align: right;\">\n",
       "      <th></th>\n",
       "      <th>count</th>\n",
       "      <th>mean</th>\n",
       "      <th>std</th>\n",
       "      <th>min</th>\n",
       "      <th>25%</th>\n",
       "      <th>50%</th>\n",
       "      <th>75%</th>\n",
       "      <th>max</th>\n",
       "    </tr>\n",
       "  </thead>\n",
       "  <tbody>\n",
       "    <tr>\n",
       "      <th>fixed acidity</th>\n",
       "      <td>1599.0</td>\n",
       "      <td>8.319637</td>\n",
       "      <td>1.741096</td>\n",
       "      <td>4.60000</td>\n",
       "      <td>7.1000</td>\n",
       "      <td>7.90000</td>\n",
       "      <td>9.200000</td>\n",
       "      <td>15.90000</td>\n",
       "    </tr>\n",
       "    <tr>\n",
       "      <th>volatile acidity</th>\n",
       "      <td>1599.0</td>\n",
       "      <td>0.527821</td>\n",
       "      <td>0.179060</td>\n",
       "      <td>0.12000</td>\n",
       "      <td>0.3900</td>\n",
       "      <td>0.52000</td>\n",
       "      <td>0.640000</td>\n",
       "      <td>1.58000</td>\n",
       "    </tr>\n",
       "    <tr>\n",
       "      <th>citric acid</th>\n",
       "      <td>1599.0</td>\n",
       "      <td>0.270976</td>\n",
       "      <td>0.194801</td>\n",
       "      <td>0.00000</td>\n",
       "      <td>0.0900</td>\n",
       "      <td>0.26000</td>\n",
       "      <td>0.420000</td>\n",
       "      <td>1.00000</td>\n",
       "    </tr>\n",
       "    <tr>\n",
       "      <th>residual sugar</th>\n",
       "      <td>1599.0</td>\n",
       "      <td>2.538806</td>\n",
       "      <td>1.409928</td>\n",
       "      <td>0.90000</td>\n",
       "      <td>1.9000</td>\n",
       "      <td>2.20000</td>\n",
       "      <td>2.600000</td>\n",
       "      <td>15.50000</td>\n",
       "    </tr>\n",
       "    <tr>\n",
       "      <th>chlorides</th>\n",
       "      <td>1599.0</td>\n",
       "      <td>0.087467</td>\n",
       "      <td>0.047065</td>\n",
       "      <td>0.01200</td>\n",
       "      <td>0.0700</td>\n",
       "      <td>0.07900</td>\n",
       "      <td>0.090000</td>\n",
       "      <td>0.61100</td>\n",
       "    </tr>\n",
       "    <tr>\n",
       "      <th>free sulfur dioxide</th>\n",
       "      <td>1599.0</td>\n",
       "      <td>15.874922</td>\n",
       "      <td>10.460157</td>\n",
       "      <td>1.00000</td>\n",
       "      <td>7.0000</td>\n",
       "      <td>14.00000</td>\n",
       "      <td>21.000000</td>\n",
       "      <td>72.00000</td>\n",
       "    </tr>\n",
       "    <tr>\n",
       "      <th>total sulfur dioxide</th>\n",
       "      <td>1599.0</td>\n",
       "      <td>46.467792</td>\n",
       "      <td>32.895324</td>\n",
       "      <td>6.00000</td>\n",
       "      <td>22.0000</td>\n",
       "      <td>38.00000</td>\n",
       "      <td>62.000000</td>\n",
       "      <td>289.00000</td>\n",
       "    </tr>\n",
       "    <tr>\n",
       "      <th>density</th>\n",
       "      <td>1599.0</td>\n",
       "      <td>0.996747</td>\n",
       "      <td>0.001887</td>\n",
       "      <td>0.99007</td>\n",
       "      <td>0.9956</td>\n",
       "      <td>0.99675</td>\n",
       "      <td>0.997835</td>\n",
       "      <td>1.00369</td>\n",
       "    </tr>\n",
       "    <tr>\n",
       "      <th>pH</th>\n",
       "      <td>1599.0</td>\n",
       "      <td>3.311113</td>\n",
       "      <td>0.154386</td>\n",
       "      <td>2.74000</td>\n",
       "      <td>3.2100</td>\n",
       "      <td>3.31000</td>\n",
       "      <td>3.400000</td>\n",
       "      <td>4.01000</td>\n",
       "    </tr>\n",
       "    <tr>\n",
       "      <th>sulphates</th>\n",
       "      <td>1599.0</td>\n",
       "      <td>0.658149</td>\n",
       "      <td>0.169507</td>\n",
       "      <td>0.33000</td>\n",
       "      <td>0.5500</td>\n",
       "      <td>0.62000</td>\n",
       "      <td>0.730000</td>\n",
       "      <td>2.00000</td>\n",
       "    </tr>\n",
       "    <tr>\n",
       "      <th>alcohol</th>\n",
       "      <td>1599.0</td>\n",
       "      <td>10.422983</td>\n",
       "      <td>1.065668</td>\n",
       "      <td>8.40000</td>\n",
       "      <td>9.5000</td>\n",
       "      <td>10.20000</td>\n",
       "      <td>11.100000</td>\n",
       "      <td>14.90000</td>\n",
       "    </tr>\n",
       "    <tr>\n",
       "      <th>quality</th>\n",
       "      <td>1599.0</td>\n",
       "      <td>5.636023</td>\n",
       "      <td>0.807569</td>\n",
       "      <td>3.00000</td>\n",
       "      <td>5.0000</td>\n",
       "      <td>6.00000</td>\n",
       "      <td>6.000000</td>\n",
       "      <td>8.00000</td>\n",
       "    </tr>\n",
       "  </tbody>\n",
       "</table>\n",
       "</div>"
      ],
      "text/plain": [
       "                       count       mean        std      min      25%  \\\n",
       "fixed acidity         1599.0   8.319637   1.741096  4.60000   7.1000   \n",
       "volatile acidity      1599.0   0.527821   0.179060  0.12000   0.3900   \n",
       "citric acid           1599.0   0.270976   0.194801  0.00000   0.0900   \n",
       "residual sugar        1599.0   2.538806   1.409928  0.90000   1.9000   \n",
       "chlorides             1599.0   0.087467   0.047065  0.01200   0.0700   \n",
       "free sulfur dioxide   1599.0  15.874922  10.460157  1.00000   7.0000   \n",
       "total sulfur dioxide  1599.0  46.467792  32.895324  6.00000  22.0000   \n",
       "density               1599.0   0.996747   0.001887  0.99007   0.9956   \n",
       "pH                    1599.0   3.311113   0.154386  2.74000   3.2100   \n",
       "sulphates             1599.0   0.658149   0.169507  0.33000   0.5500   \n",
       "alcohol               1599.0  10.422983   1.065668  8.40000   9.5000   \n",
       "quality               1599.0   5.636023   0.807569  3.00000   5.0000   \n",
       "\n",
       "                           50%        75%        max  \n",
       "fixed acidity          7.90000   9.200000   15.90000  \n",
       "volatile acidity       0.52000   0.640000    1.58000  \n",
       "citric acid            0.26000   0.420000    1.00000  \n",
       "residual sugar         2.20000   2.600000   15.50000  \n",
       "chlorides              0.07900   0.090000    0.61100  \n",
       "free sulfur dioxide   14.00000  21.000000   72.00000  \n",
       "total sulfur dioxide  38.00000  62.000000  289.00000  \n",
       "density                0.99675   0.997835    1.00369  \n",
       "pH                     3.31000   3.400000    4.01000  \n",
       "sulphates              0.62000   0.730000    2.00000  \n",
       "alcohol               10.20000  11.100000   14.90000  \n",
       "quality                6.00000   6.000000    8.00000  "
      ]
     },
     "execution_count": 118,
     "metadata": {},
     "output_type": "execute_result"
    }
   ],
   "source": [
    "df.describe().T"
   ]
  },
  {
   "cell_type": "code",
   "execution_count": 119,
   "metadata": {},
   "outputs": [
    {
     "data": {
      "text/html": [
       "<div>\n",
       "<style scoped>\n",
       "    .dataframe tbody tr th:only-of-type {\n",
       "        vertical-align: middle;\n",
       "    }\n",
       "\n",
       "    .dataframe tbody tr th {\n",
       "        vertical-align: top;\n",
       "    }\n",
       "\n",
       "    .dataframe thead th {\n",
       "        text-align: right;\n",
       "    }\n",
       "</style>\n",
       "<table border=\"1\" class=\"dataframe\">\n",
       "  <thead>\n",
       "    <tr style=\"text-align: right;\">\n",
       "      <th></th>\n",
       "      <th>count</th>\n",
       "      <th>mean</th>\n",
       "      <th>std</th>\n",
       "      <th>min</th>\n",
       "      <th>25%</th>\n",
       "      <th>50%</th>\n",
       "      <th>75%</th>\n",
       "      <th>max</th>\n",
       "    </tr>\n",
       "  </thead>\n",
       "  <tbody>\n",
       "    <tr>\n",
       "      <th>fixed acidity</th>\n",
       "      <td>1599.0</td>\n",
       "      <td>2.215842</td>\n",
       "      <td>0.178100</td>\n",
       "      <td>1.722767</td>\n",
       "      <td>2.091864</td>\n",
       "      <td>2.186051</td>\n",
       "      <td>2.322388</td>\n",
       "      <td>2.827314</td>\n",
       "    </tr>\n",
       "    <tr>\n",
       "      <th>volatile acidity</th>\n",
       "      <td>1599.0</td>\n",
       "      <td>0.417173</td>\n",
       "      <td>0.114926</td>\n",
       "      <td>0.113329</td>\n",
       "      <td>0.329304</td>\n",
       "      <td>0.418710</td>\n",
       "      <td>0.494696</td>\n",
       "      <td>0.947789</td>\n",
       "    </tr>\n",
       "    <tr>\n",
       "      <th>citric acid</th>\n",
       "      <td>1599.0</td>\n",
       "      <td>0.228147</td>\n",
       "      <td>0.152423</td>\n",
       "      <td>0.000000</td>\n",
       "      <td>0.086178</td>\n",
       "      <td>0.231112</td>\n",
       "      <td>0.350657</td>\n",
       "      <td>0.693147</td>\n",
       "    </tr>\n",
       "    <tr>\n",
       "      <th>residual sugar</th>\n",
       "      <td>1599.0</td>\n",
       "      <td>1.218131</td>\n",
       "      <td>0.269969</td>\n",
       "      <td>0.641854</td>\n",
       "      <td>1.064711</td>\n",
       "      <td>1.163151</td>\n",
       "      <td>1.280934</td>\n",
       "      <td>2.803360</td>\n",
       "    </tr>\n",
       "    <tr>\n",
       "      <th>chlorides</th>\n",
       "      <td>1599.0</td>\n",
       "      <td>0.083038</td>\n",
       "      <td>0.038991</td>\n",
       "      <td>0.011929</td>\n",
       "      <td>0.067659</td>\n",
       "      <td>0.076035</td>\n",
       "      <td>0.086178</td>\n",
       "      <td>0.476855</td>\n",
       "    </tr>\n",
       "    <tr>\n",
       "      <th>free sulfur dioxide</th>\n",
       "      <td>1599.0</td>\n",
       "      <td>2.639013</td>\n",
       "      <td>0.623790</td>\n",
       "      <td>0.693147</td>\n",
       "      <td>2.079442</td>\n",
       "      <td>2.708050</td>\n",
       "      <td>3.091042</td>\n",
       "      <td>4.290459</td>\n",
       "    </tr>\n",
       "    <tr>\n",
       "      <th>total sulfur dioxide</th>\n",
       "      <td>1599.0</td>\n",
       "      <td>3.634750</td>\n",
       "      <td>0.682575</td>\n",
       "      <td>1.945910</td>\n",
       "      <td>3.135494</td>\n",
       "      <td>3.663562</td>\n",
       "      <td>4.143135</td>\n",
       "      <td>5.669881</td>\n",
       "    </tr>\n",
       "    <tr>\n",
       "      <th>density</th>\n",
       "      <td>1599.0</td>\n",
       "      <td>0.691519</td>\n",
       "      <td>0.000945</td>\n",
       "      <td>0.688170</td>\n",
       "      <td>0.690945</td>\n",
       "      <td>0.691521</td>\n",
       "      <td>0.692064</td>\n",
       "      <td>0.694990</td>\n",
       "    </tr>\n",
       "    <tr>\n",
       "      <th>pH</th>\n",
       "      <td>1599.0</td>\n",
       "      <td>1.460557</td>\n",
       "      <td>0.035760</td>\n",
       "      <td>1.319086</td>\n",
       "      <td>1.437463</td>\n",
       "      <td>1.460938</td>\n",
       "      <td>1.481605</td>\n",
       "      <td>1.611436</td>\n",
       "    </tr>\n",
       "    <tr>\n",
       "      <th>sulphates</th>\n",
       "      <td>1599.0</td>\n",
       "      <td>0.501073</td>\n",
       "      <td>0.093731</td>\n",
       "      <td>0.285179</td>\n",
       "      <td>0.438255</td>\n",
       "      <td>0.482426</td>\n",
       "      <td>0.548121</td>\n",
       "      <td>1.098612</td>\n",
       "    </tr>\n",
       "    <tr>\n",
       "      <th>alcohol</th>\n",
       "      <td>1599.0</td>\n",
       "      <td>2.431458</td>\n",
       "      <td>0.090434</td>\n",
       "      <td>2.240710</td>\n",
       "      <td>2.351375</td>\n",
       "      <td>2.415914</td>\n",
       "      <td>2.493205</td>\n",
       "      <td>2.766319</td>\n",
       "    </tr>\n",
       "    <tr>\n",
       "      <th>quality</th>\n",
       "      <td>1599.0</td>\n",
       "      <td>1.885054</td>\n",
       "      <td>0.122749</td>\n",
       "      <td>1.386294</td>\n",
       "      <td>1.791759</td>\n",
       "      <td>1.945910</td>\n",
       "      <td>1.945910</td>\n",
       "      <td>2.197225</td>\n",
       "    </tr>\n",
       "  </tbody>\n",
       "</table>\n",
       "</div>"
      ],
      "text/plain": [
       "                       count      mean       std       min       25%  \\\n",
       "fixed acidity         1599.0  2.215842  0.178100  1.722767  2.091864   \n",
       "volatile acidity      1599.0  0.417173  0.114926  0.113329  0.329304   \n",
       "citric acid           1599.0  0.228147  0.152423  0.000000  0.086178   \n",
       "residual sugar        1599.0  1.218131  0.269969  0.641854  1.064711   \n",
       "chlorides             1599.0  0.083038  0.038991  0.011929  0.067659   \n",
       "free sulfur dioxide   1599.0  2.639013  0.623790  0.693147  2.079442   \n",
       "total sulfur dioxide  1599.0  3.634750  0.682575  1.945910  3.135494   \n",
       "density               1599.0  0.691519  0.000945  0.688170  0.690945   \n",
       "pH                    1599.0  1.460557  0.035760  1.319086  1.437463   \n",
       "sulphates             1599.0  0.501073  0.093731  0.285179  0.438255   \n",
       "alcohol               1599.0  2.431458  0.090434  2.240710  2.351375   \n",
       "quality               1599.0  1.885054  0.122749  1.386294  1.791759   \n",
       "\n",
       "                           50%       75%       max  \n",
       "fixed acidity         2.186051  2.322388  2.827314  \n",
       "volatile acidity      0.418710  0.494696  0.947789  \n",
       "citric acid           0.231112  0.350657  0.693147  \n",
       "residual sugar        1.163151  1.280934  2.803360  \n",
       "chlorides             0.076035  0.086178  0.476855  \n",
       "free sulfur dioxide   2.708050  3.091042  4.290459  \n",
       "total sulfur dioxide  3.663562  4.143135  5.669881  \n",
       "density               0.691521  0.692064  0.694990  \n",
       "pH                    1.460938  1.481605  1.611436  \n",
       "sulphates             0.482426  0.548121  1.098612  \n",
       "alcohol               2.415914  2.493205  2.766319  \n",
       "quality               1.945910  1.945910  2.197225  "
      ]
     },
     "execution_count": 119,
     "metadata": {},
     "output_type": "execute_result"
    }
   ],
   "source": [
    "# log1p returns natural log of (1 + feat_val)\n",
    "\n",
    "transformer = FunctionTransformer(np.log1p, validate=True)\n",
    "df_transformed = transformer.transform(np.array(df))\n",
    "pd.DataFrame(df_transformed, columns=df.columns).describe().T"
   ]
  },
  {
   "cell_type": "markdown",
   "metadata": {},
   "source": [
    "### Polynomial Features"
   ]
  },
  {
   "cell_type": "code",
   "execution_count": 121,
   "metadata": {},
   "outputs": [
    {
     "name": "stdout",
     "output_type": "stream",
     "text": [
      "Shape: (1599, 11)\n",
      "Shape: (1599, 78)\n"
     ]
    }
   ],
   "source": [
    "df_train = df.drop(['quality'], axis=1)\n",
    "print(f\"Shape: {df_train.shape}\")\n",
    "\n",
    "poly = PolynomialFeatures(degree=2)\n",
    "df_train_poly = poly.fit_transform(df_train)\n",
    "print(f\"Shape: {df_train_poly.shape}\")"
   ]
  },
  {
   "cell_type": "code",
   "execution_count": 122,
   "metadata": {},
   "outputs": [
    {
     "data": {
      "text/plain": [
       "array(['fixed acidity', 'volatile acidity', 'citric acid',\n",
       "       'residual sugar', 'chlorides', 'free sulfur dioxide',\n",
       "       'total sulfur dioxide', 'density', 'pH', 'sulphates', 'alcohol'],\n",
       "      dtype=object)"
      ]
     },
     "execution_count": 122,
     "metadata": {},
     "output_type": "execute_result"
    }
   ],
   "source": [
    "poly.feature_names_in_"
   ]
  },
  {
   "cell_type": "code",
   "execution_count": 125,
   "metadata": {},
   "outputs": [
    {
     "data": {
      "text/plain": [
       "array(['1', 'fixed acidity', 'volatile acidity', 'citric acid',\n",
       "       'residual sugar', 'chlorides', 'free sulfur dioxide',\n",
       "       'total sulfur dioxide', 'density', 'pH', 'sulphates', 'alcohol',\n",
       "       'fixed acidity^2', 'fixed acidity volatile acidity',\n",
       "       'fixed acidity citric acid', 'fixed acidity residual sugar',\n",
       "       'fixed acidity chlorides', 'fixed acidity free sulfur dioxide',\n",
       "       'fixed acidity total sulfur dioxide', 'fixed acidity density',\n",
       "       'fixed acidity pH', 'fixed acidity sulphates',\n",
       "       'fixed acidity alcohol', 'volatile acidity^2',\n",
       "       'volatile acidity citric acid', 'volatile acidity residual sugar',\n",
       "       'volatile acidity chlorides',\n",
       "       'volatile acidity free sulfur dioxide',\n",
       "       'volatile acidity total sulfur dioxide',\n",
       "       'volatile acidity density', 'volatile acidity pH',\n",
       "       'volatile acidity sulphates', 'volatile acidity alcohol',\n",
       "       'citric acid^2', 'citric acid residual sugar',\n",
       "       'citric acid chlorides', 'citric acid free sulfur dioxide',\n",
       "       'citric acid total sulfur dioxide', 'citric acid density',\n",
       "       'citric acid pH', 'citric acid sulphates', 'citric acid alcohol',\n",
       "       'residual sugar^2', 'residual sugar chlorides',\n",
       "       'residual sugar free sulfur dioxide',\n",
       "       'residual sugar total sulfur dioxide', 'residual sugar density',\n",
       "       'residual sugar pH', 'residual sugar sulphates',\n",
       "       'residual sugar alcohol', 'chlorides^2',\n",
       "       'chlorides free sulfur dioxide', 'chlorides total sulfur dioxide',\n",
       "       'chlorides density', 'chlorides pH', 'chlorides sulphates',\n",
       "       'chlorides alcohol', 'free sulfur dioxide^2',\n",
       "       'free sulfur dioxide total sulfur dioxide',\n",
       "       'free sulfur dioxide density', 'free sulfur dioxide pH',\n",
       "       'free sulfur dioxide sulphates', 'free sulfur dioxide alcohol',\n",
       "       'total sulfur dioxide^2', 'total sulfur dioxide density',\n",
       "       'total sulfur dioxide pH', 'total sulfur dioxide sulphates',\n",
       "       'total sulfur dioxide alcohol', 'density^2', 'density pH',\n",
       "       'density sulphates', 'density alcohol', 'pH^2', 'pH sulphates',\n",
       "       'pH alcohol', 'sulphates^2', 'sulphates alcohol', 'alcohol^2'],\n",
       "      dtype=object)"
      ]
     },
     "execution_count": 125,
     "metadata": {},
     "output_type": "execute_result"
    }
   ],
   "source": [
    "poly.get_feature_names_out()"
   ]
  },
  {
   "cell_type": "markdown",
   "metadata": {},
   "source": [
    "### Discretization"
   ]
  },
  {
   "cell_type": "code",
   "execution_count": 126,
   "metadata": {},
   "outputs": [],
   "source": [
    "# Known as quantization or binning. \n",
    "# Used to partition continuous feature into discrete values \n",
    "# Convert continuous attribute column to only nominal attr col\n",
    "# onehot models are expensive but interpretable\n",
    "# Discretization introduces nonlinearity to linear model."
   ]
  },
  {
   "cell_type": "markdown",
   "metadata": {},
   "source": [
    "#### KBinsDiscretizer"
   ]
  },
  {
   "cell_type": "markdown",
   "metadata": {},
   "source": [
    "##### KBD Ordinal"
   ]
  },
  {
   "cell_type": "code",
   "execution_count": 133,
   "metadata": {},
   "outputs": [
    {
     "name": "stdout",
     "output_type": "stream",
     "text": [
      "Old:\n",
      "[[0. ]\n",
      " [2.3]\n",
      " [4.5]\n",
      " [8.3]\n",
      " [9.1]]\n",
      "New:\n",
      "[[0.]\n",
      " [0.]\n",
      " [1.]\n",
      " [2.]\n",
      " [2.]]\n"
     ]
    }
   ],
   "source": [
    "x = np.array([0,2.3,4.5,8.3,9.1]).reshape(-1,1)\n",
    "print(f\"Old:\\n{x}\")\n",
    "\n",
    "kbd_enc = KBinsDiscretizer(n_bins=3, encode=\"ordinal\")\n",
    "x_new = kbd_enc.fit_transform(x)\n",
    "print(f\"New:\\n{x_new}\")"
   ]
  },
  {
   "cell_type": "markdown",
   "metadata": {},
   "source": [
    "##### KBD Onehot"
   ]
  },
  {
   "cell_type": "code",
   "execution_count": 139,
   "metadata": {},
   "outputs": [
    {
     "name": "stdout",
     "output_type": "stream",
     "text": [
      "Old:\n",
      "[[0. ]\n",
      " [2.3]\n",
      " [4.5]\n",
      " [8.3]\n",
      " [9.1]]\n",
      "New:\n",
      "[[1. 0. 0.]\n",
      " [1. 0. 0.]\n",
      " [0. 1. 0.]\n",
      " [0. 0. 1.]\n",
      " [0. 0. 1.]]\n"
     ]
    }
   ],
   "source": [
    "x = np.array([0,2.3,4.5,8.3,9.1]).reshape(-1,1)\n",
    "print(f\"Old:\\n{x}\")\n",
    "\n",
    "kbd_enc = KBinsDiscretizer(n_bins=3, encode=\"onehot\")\n",
    "x_new = kbd_enc.fit_transform(x)\n",
    "print(f\"New:\\n{x_new.toarray()}\")"
   ]
  },
  {
   "cell_type": "code",
   "execution_count": 140,
   "metadata": {},
   "outputs": [],
   "source": [
    "# no of cols = no of bins\n",
    "# each col will contain 0 or 1 \n",
    "# return is sparse matrix but can be converted to full np array"
   ]
  },
  {
   "cell_type": "markdown",
   "metadata": {},
   "source": [
    "## Categorical Transformers"
   ]
  },
  {
   "cell_type": "markdown",
   "metadata": {},
   "source": [
    "### Feature Encoding"
   ]
  },
  {
   "cell_type": "markdown",
   "metadata": {},
   "source": [
    "#### One Hot Encoding"
   ]
  },
  {
   "cell_type": "code",
   "execution_count": 143,
   "metadata": {},
   "outputs": [
    {
     "name": "stdout",
     "output_type": "stream",
     "text": [
      "Old:\n",
      "[['red']\n",
      " ['blue']\n",
      " ['green']\n",
      " ['blue']]\n",
      "New:\n",
      "[[0. 0. 1.]\n",
      " [1. 0. 0.]\n",
      " [0. 1. 0.]\n",
      " [1. 0. 0.]]\n"
     ]
    }
   ],
   "source": [
    "x = np.array(['red', 'blue', 'green', 'blue']).reshape(-1,1)\n",
    "print(f\"Old:\\n{x}\")\n",
    "\n",
    "oh_enc = OneHotEncoder()\n",
    "x_new = oh_enc.fit_transform(x)\n",
    "print(f\"New:\\n{x_new.toarray()}\")"
   ]
  },
  {
   "cell_type": "code",
   "execution_count": 144,
   "metadata": {},
   "outputs": [
    {
     "data": {
      "text/plain": [
       "[array(['blue', 'green', 'red'], dtype='<U5')]"
      ]
     },
     "execution_count": 144,
     "metadata": {},
     "output_type": "execute_result"
    }
   ],
   "source": [
    "oh_enc.categories_"
   ]
  },
  {
   "cell_type": "markdown",
   "metadata": {},
   "source": [
    "#### Ordinal Encoding"
   ]
  },
  {
   "cell_type": "code",
   "execution_count": 141,
   "metadata": {},
   "outputs": [],
   "source": [
    "# red:1, blue:2, green:3\n",
    "# but blue is not twice of red\n",
    "# this type of encoding sometimes provides wrong info to ML models\n",
    "# best way is to use one hot encoding."
   ]
  },
  {
   "cell_type": "code",
   "execution_count": 148,
   "metadata": {},
   "outputs": [
    {
     "name": "stdout",
     "output_type": "stream",
     "text": [
      "Old:\n",
      "[['red']\n",
      " ['blue']\n",
      " ['green']\n",
      " ['blue']]\n",
      "New:\n",
      "[[2.]\n",
      " [0.]\n",
      " [1.]\n",
      " [0.]]\n"
     ]
    }
   ],
   "source": [
    "x = np.array(['red', 'blue', 'green', 'blue']).reshape(-1,1)\n",
    "print(f\"Old:\\n{x}\")\n",
    "\n",
    "or_enc = OrdinalEncoder()\n",
    "x_new = or_enc.fit_transform(x)\n",
    "print(f\"New:\\n{x_new}\")"
   ]
  },
  {
   "cell_type": "markdown",
   "metadata": {},
   "source": [
    "### Label Encoding"
   ]
  },
  {
   "cell_type": "markdown",
   "metadata": {},
   "source": [
    "#### Label Encoder"
   ]
  },
  {
   "cell_type": "code",
   "execution_count": 153,
   "metadata": {},
   "outputs": [
    {
     "name": "stdout",
     "output_type": "stream",
     "text": [
      "Old:\n",
      "['red' 'blue' 'green' 'blue']\n",
      "New:\n",
      "[2 0 1 0]\n"
     ]
    }
   ],
   "source": [
    "# transform categorical features into integer scales\n",
    "# Only 1D array input\n",
    "# For label column\n",
    "# encoding: 0 to k-1 values\n",
    "\n",
    "x = np.array(['red', 'blue', 'green', 'blue'])\n",
    "print(f\"Old:\\n{x}\")\n",
    "\n",
    "l_enc = LabelEncoder()\n",
    "x_new = l_enc.fit_transform(x)\n",
    "print(f\"New:\\n{x_new}\")"
   ]
  },
  {
   "cell_type": "markdown",
   "metadata": {},
   "source": [
    "#### Multilabel Binarizer"
   ]
  },
  {
   "cell_type": "code",
   "execution_count": 155,
   "metadata": {},
   "outputs": [
    {
     "data": {
      "text/plain": [
       "array([[1, 0, 0, 0, 1, 1],\n",
       "       [0, 0, 1, 0, 1, 0],\n",
       "       [0, 1, 0, 1, 0, 0],\n",
       "       [1, 0, 0, 0, 0, 1]])"
      ]
     },
     "execution_count": 155,
     "metadata": {},
     "output_type": "execute_result"
    }
   ],
   "source": [
    "# transform categorical features into integer scales\n",
    "# encoding: 0 to k-1 values\n",
    "# for mulitple labels datasets\n",
    "\n",
    "movie_genres = [{'action', 'thriller', 'scifi'},\n",
    "               {'comedy', 'scifi'},\n",
    "               {'adventure', 'drama'},\n",
    "               {'action', 'thriller'}]\n",
    "\n",
    "mlb_enc = MultiLabelBinarizer()\n",
    "movie_genres_new = mlb_enc.fit_transform(movie_genres)\n",
    "movie_genres_new"
   ]
  },
  {
   "cell_type": "code",
   "execution_count": 156,
   "metadata": {},
   "outputs": [
    {
     "data": {
      "text/plain": [
       "array(['action', 'adventure', 'comedy', 'drama', 'scifi', 'thriller'],\n",
       "      dtype=object)"
      ]
     },
     "execution_count": 156,
     "metadata": {},
     "output_type": "execute_result"
    }
   ],
   "source": [
    "mlb_enc.classes_"
   ]
  },
  {
   "cell_type": "markdown",
   "metadata": {},
   "source": [
    "### Get Dummies from pandas"
   ]
  },
  {
   "cell_type": "code",
   "execution_count": null,
   "metadata": {},
   "outputs": [],
   "source": [
    "# to create one-hot encoding from each unique categorical value\n",
    "\n",
    "# new_df = pd.get_dummies(df, columns=[''], prefix=['one_hot'])"
   ]
  },
  {
   "cell_type": "markdown",
   "metadata": {},
   "source": [
    "## Composite Transformers"
   ]
  },
  {
   "cell_type": "markdown",
   "metadata": {},
   "source": [
    "### Column Transformers"
   ]
  },
  {
   "cell_type": "code",
   "execution_count": 157,
   "metadata": {},
   "outputs": [],
   "source": [
    "# set of features applied to columns,\n",
    "# each column may have diff transfromer\n",
    "# column is specified from column index\n",
    "# useful for transforming heterogenous data\n",
    "# Returns single transformer object"
   ]
  },
  {
   "cell_type": "code",
   "execution_count": 159,
   "metadata": {},
   "outputs": [
    {
     "name": "stdout",
     "output_type": "stream",
     "text": [
      "[[1.0 20.0 0.0 1.0]\n",
      " [0.55 11.0 1.0 0.0]\n",
      " [0.8 16.0 0.0 1.0]\n",
      " [0.5 10.0 1.0 0.0]]\n"
     ]
    }
   ],
   "source": [
    "x = [[20.0, 'male'],\n",
    "    [11.0, 'female'],\n",
    "    [16.0, 'male'],\n",
    "    [10.0, 'female']]\n",
    "\n",
    "transformers = [('scaler', MaxAbsScaler(), [0]),\n",
    "               ('pass', 'passthrough', [0]),\n",
    "               ('encoder', OneHotEncoder(), [1])]\n",
    "\n",
    "# by default, columns which are not specified will be dropped\n",
    "\n",
    "ct = ColumnTransformer(transformers=transformers)\n",
    "x_new = ct.fit_transform(x)\n",
    "print(x_new)"
   ]
  },
  {
   "cell_type": "markdown",
   "metadata": {},
   "source": [
    "### Transformed target Regressor"
   ]
  },
  {
   "cell_type": "code",
   "execution_count": 160,
   "metadata": {},
   "outputs": [],
   "source": [
    "# transforms target variable 'y' before fitting a regression model\n",
    "# inverse transform predicted values\n",
    "# takes input as regressor and transformer"
   ]
  },
  {
   "cell_type": "code",
   "execution_count": 162,
   "metadata": {},
   "outputs": [
    {
     "name": "stdout",
     "output_type": "stream",
     "text": [
      "Score: 0.594323265246617\n"
     ]
    }
   ],
   "source": [
    "X, y = fetch_california_housing(return_X_y=True)\n",
    "X_train, X_test, y_train, y_test = train_test_split(X, y, test_size=0.2, random_state=0)\n",
    "\n",
    "line_reg = LinearRegression()\n",
    "transformer = MaxAbsScaler()\n",
    "\n",
    "regr = TransformedTargetRegressor(regressor=line_reg, transformer=transformer)\n",
    "\n",
    "regr.fit(X_train, y_train)\n",
    "print(f\"Score: {regr.score(X_test, y_test)}\")"
   ]
  },
  {
   "cell_type": "markdown",
   "metadata": {},
   "source": [
    "## Feature Selection"
   ]
  },
  {
   "cell_type": "code",
   "execution_count": 164,
   "metadata": {},
   "outputs": [],
   "source": [
    "# features which are not providing any info for model training can be dropped\n",
    "# Such features can be selected with two methods"
   ]
  },
  {
   "cell_type": "markdown",
   "metadata": {},
   "source": [
    "### Filter based methods"
   ]
  },
  {
   "cell_type": "code",
   "execution_count": 174,
   "metadata": {},
   "outputs": [],
   "source": [
    "# Filter based uses scoring functions\n",
    "# Scoring functions: Mutual info, chi sq, f-statistics\n",
    "# chi sq is only for classification\n",
    "# Other two are for both regression and classification"
   ]
  },
  {
   "cell_type": "markdown",
   "metadata": {},
   "source": [
    "#### Varience threshold"
   ]
  },
  {
   "cell_type": "code",
   "execution_count": 170,
   "metadata": {},
   "outputs": [
    {
     "name": "stdout",
     "output_type": "stream",
     "text": [
      "Transformed Data:\n",
      "[[ 15. 130.]\n",
      " [ 17. 145.]\n",
      " [ 18. 160.]]\n",
      "Column wise varience: [  1.55555556 150.        ]\n"
     ]
    }
   ],
   "source": [
    "# Too less varience means data is almost constant and will not help in training model\n",
    "# Features with variences less than the threshold will be dropped.\n",
    "\n",
    "data = [{'age': 15, 'height': 130},\n",
    "         {'age': 17, 'height': 145},\n",
    "         {'age': 18, 'height': 160}]\n",
    "\n",
    "dv = DictVectorizer(sparse=False)\n",
    "data_tr = dv.fit_transform(data) # sparse false: returns data as np array\n",
    "print(f\"Transformed Data:\\n{data_tr}\")\n",
    "\n",
    "print(f\"Column wise varience: {np.var(data_tr, axis=0)}\")"
   ]
  },
  {
   "cell_type": "code",
   "execution_count": 172,
   "metadata": {},
   "outputs": [
    {
     "name": "stdout",
     "output_type": "stream",
     "text": [
      "Transformed Data:\n",
      "[[130.]\n",
      " [145.]\n",
      " [160.]]\n"
     ]
    }
   ],
   "source": [
    "# we want to drop columns with var<10\n",
    "\n",
    "var_thresh = 10\n",
    "vt = VarianceThreshold(threshold=var_thresh)\n",
    "data_tr_new = vt.fit_transform(data_tr) \n",
    "print(f\"Transformed Data:\\n{data_tr_new}\")"
   ]
  },
  {
   "cell_type": "markdown",
   "metadata": {},
   "source": [
    "#### SelectKBest"
   ]
  },
  {
   "cell_type": "code",
   "execution_count": 179,
   "metadata": {},
   "outputs": [
    {
     "name": "stdout",
     "output_type": "stream",
     "text": [
      "Shape before: (16512, 8)\n",
      "Shape after: (16512, 3)\n"
     ]
    }
   ],
   "source": [
    "# Keeps top k highest scoring features , rest are dropped\n",
    "\n",
    "X, y = fetch_california_housing(return_X_y=True)\n",
    "X_train, X_test, y_train, y_test = train_test_split(X, y, test_size=0.2, random_state=0)\n",
    "\n",
    "skb = SelectKBest(score_func=mutual_info_regression, k=3) # callable function  as param\n",
    "X_new = skb.fit_transform(X_train, y_train)\n",
    "\n",
    "print(f\"Shape before: {X_train.shape}\")\n",
    "print(f\"Shape after: {X_new.shape}\")"
   ]
  },
  {
   "cell_type": "code",
   "execution_count": 181,
   "metadata": {},
   "outputs": [
    {
     "data": {
      "text/plain": [
       "array([[   4.2386,   33.83  , -117.55  ],\n",
       "       [   4.3898,   37.73  , -122.44  ],\n",
       "       [   3.9333,   33.83  , -118.    ],\n",
       "       [   1.4653,   34.01  , -118.26  ],\n",
       "       [   3.1765,   34.08  , -118.36  ]])"
      ]
     },
     "execution_count": 181,
     "metadata": {},
     "output_type": "execute_result"
    }
   ],
   "source": [
    "X_new[:5]"
   ]
  },
  {
   "cell_type": "code",
   "execution_count": 183,
   "metadata": {},
   "outputs": [
    {
     "data": {
      "text/plain": [
       "array(['x0', 'x6', 'x7'], dtype=object)"
      ]
     },
     "execution_count": 183,
     "metadata": {},
     "output_type": "execute_result"
    }
   ],
   "source": [
    "skb.get_feature_names_out()\n",
    "# 1st, 7th and 8th feature is selected"
   ]
  },
  {
   "cell_type": "markdown",
   "metadata": {},
   "source": [
    "#### SelectPercentile"
   ]
  },
  {
   "cell_type": "code",
   "execution_count": 184,
   "metadata": {},
   "outputs": [
    {
     "name": "stdout",
     "output_type": "stream",
     "text": [
      "Shape before: (16512, 8)\n",
      "Shape after: (16512, 3)\n"
     ]
    }
   ],
   "source": [
    "# Keeps top <percentile> highest scoring features , rest are dropped\n",
    "\n",
    "X, y = fetch_california_housing(return_X_y=True)\n",
    "X_train, X_test, y_train, y_test = train_test_split(X, y, test_size=0.2, random_state=0)\n",
    "\n",
    "sp = SelectPercentile(score_func=mutual_info_regression, percentile=30) # callable function  as param\n",
    "X_new = sp.fit_transform(X_train, y_train)\n",
    "\n",
    "print(f\"Shape before: {X_train.shape}\")\n",
    "print(f\"Shape after: {X_new.shape}\")"
   ]
  },
  {
   "cell_type": "code",
   "execution_count": 186,
   "metadata": {},
   "outputs": [
    {
     "data": {
      "text/plain": [
       "array(['x0', 'x6', 'x7'], dtype=object)"
      ]
     },
     "execution_count": 186,
     "metadata": {},
     "output_type": "execute_result"
    }
   ],
   "source": [
    "sp.get_feature_names_out()\n",
    "# 1st, 7th and 8th feature is selected"
   ]
  },
  {
   "cell_type": "markdown",
   "metadata": {},
   "source": [
    "#### GenericUnivariateSelect"
   ]
  },
  {
   "cell_type": "code",
   "execution_count": 187,
   "metadata": {},
   "outputs": [
    {
     "name": "stdout",
     "output_type": "stream",
     "text": [
      "Shape before: (16512, 8)\n",
      "Shape after: (16512, 3)\n"
     ]
    }
   ],
   "source": [
    "# strategy is passed through \"mode\" param\n",
    "# mode: k_best, percentile, fpr, fdr, fwe\n",
    "\n",
    "X, y = fetch_california_housing(return_X_y=True)\n",
    "X_train, X_test, y_train, y_test = train_test_split(X, y, test_size=0.2, random_state=0)\n",
    "\n",
    "gus = GenericUnivariateSelect(score_func=mutual_info_regression, mode=\"k_best\", param=3) # select top 3 feat based on k_best strategy\n",
    "X_new = gus.fit_transform(X_train, y_train)\n",
    "\n",
    "print(f\"Shape before: {X_train.shape}\")\n",
    "print(f\"Shape after: {X_new.shape}\")"
   ]
  },
  {
   "cell_type": "code",
   "execution_count": 188,
   "metadata": {},
   "outputs": [
    {
     "data": {
      "text/plain": [
       "array(['x0', 'x6', 'x7'], dtype=object)"
      ]
     },
     "execution_count": 188,
     "metadata": {},
     "output_type": "execute_result"
    }
   ],
   "source": [
    "gus.get_feature_names_out()\n",
    "# 1st, 7th and 8th feature is selected"
   ]
  },
  {
   "cell_type": "markdown",
   "metadata": {},
   "source": [
    "### Wrapper based methods"
   ]
  },
  {
   "cell_type": "code",
   "execution_count": 189,
   "metadata": {},
   "outputs": [],
   "source": [
    "# wrapper based uses estimator class"
   ]
  },
  {
   "cell_type": "markdown",
   "metadata": {},
   "source": [
    "#### Recursive Feature Elimination (RFE)"
   ]
  },
  {
   "cell_type": "code",
   "execution_count": 190,
   "metadata": {},
   "outputs": [],
   "source": [
    "# fits a model first and then ranks features and removes feat based on \"step\" param"
   ]
  },
  {
   "cell_type": "code",
   "execution_count": 194,
   "metadata": {},
   "outputs": [
    {
     "name": "stdout",
     "output_type": "stream",
     "text": [
      "Support array (which feat are selected):\n",
      "\t[ True False False False False False  True  True]\n",
      "Rank of each feature:\n",
      "\t[1 4 3 2 6 5 1 1]\n",
      "Shape before: (16512, 8)\n",
      "Shape after: (16512, 3)\n"
     ]
    }
   ],
   "source": [
    "# strategy is passed through \"mode\" param\n",
    "# mode: k_best, percentile, fpr, fdr, fwe\n",
    "\n",
    "X, y = fetch_california_housing(return_X_y=True)\n",
    "X_train, X_test, y_train, y_test = train_test_split(X, y, test_size=0.2, random_state=0)\n",
    "\n",
    "lin_reg = LinearRegression()\n",
    "\n",
    "# per iteration 1 least imp feat will be removed. Process continues till 3 feat are left.\n",
    "rfe_selector = RFE(estimator=lin_reg, n_features_to_select=3, step=1) \n",
    "rfe_selector = rfe_selector.fit(X_train, y_train)\n",
    "\n",
    "print(f\"Support array (which feat are selected):\\n\\t{rfe_selector.support_}\")\n",
    "print(f\"Rank of each feature:\\n\\t{rfe_selector.ranking_}\") # rank 1 : best\n",
    "\n",
    "X_new = rfe_selector.transform(X_train)\n",
    "\n",
    "print(f\"Shape before: {X_train.shape}\")\n",
    "print(f\"Shape after: {X_new.shape}\")"
   ]
  },
  {
   "cell_type": "markdown",
   "metadata": {},
   "source": [
    "#### RFE_CV"
   ]
  },
  {
   "cell_type": "code",
   "execution_count": 195,
   "metadata": {},
   "outputs": [],
   "source": [
    "# same as RFE\n",
    "# does not require number of feat to select as input\n",
    "# Runs algo till optimal no of feat are left\n",
    "# Uses cv to find optimal no of feat"
   ]
  },
  {
   "cell_type": "markdown",
   "metadata": {},
   "source": [
    "#### Select from model"
   ]
  },
  {
   "cell_type": "code",
   "execution_count": 197,
   "metadata": {},
   "outputs": [
    {
     "name": "stdout",
     "output_type": "stream",
     "text": [
      "Feature importance:\n",
      "\t[ 4.33333407e-01  9.29324337e-03 -9.86433739e-02  5.93215487e-01\n",
      " -7.56192502e-06 -4.74516383e-03 -4.21449336e-01 -4.34166041e-01]\n",
      "Shape before: (16512, 8)\n",
      "Shape after: (16512, 3)\n"
     ]
    }
   ],
   "source": [
    "# fits a model first and select desired no of feat based on certain threshold\n",
    "# feat imp: coef_, importance_getter, feature_importances\n",
    "\n",
    "X, y = fetch_california_housing(return_X_y=True)\n",
    "X_train, X_test, y_train, y_test = train_test_split(X, y, test_size=0.2, random_state=0)\n",
    "\n",
    "lin_reg = LinearRegression()\n",
    "lin_reg.fit(X_train, y_train)\n",
    "\n",
    "sfm = SelectFromModel(estimator=lin_reg, max_features=3, prefit=True)\n",
    "\n",
    "print(f\"Feature importance:\\n\\t{lin_reg.coef_}\")\n",
    "\n",
    "X_new = sfm.transform(X_train)\n",
    "\n",
    "print(f\"Shape before: {X_train.shape}\")\n",
    "print(f\"Shape after: {X_new.shape}\")"
   ]
  },
  {
   "cell_type": "markdown",
   "metadata": {},
   "source": [
    "#### SequentialFeatureSelector"
   ]
  },
  {
   "cell_type": "code",
   "execution_count": 205,
   "metadata": {},
   "outputs": [],
   "source": [
    "# select or drop feature based on directions: Forward / Backward\n",
    "# Slow process\n",
    "# Feature selection: Greedy\n",
    "# to remove or add a feature, one model per feature per cv is generated\n",
    "# at any itertion for k fold cv and m feat (which are selected): total models trained = m*k\n",
    "\n",
    "# ex: total 5 features, cv=3, to_select= 3\n",
    "# feat_1 trained 3 times (cv=3)\n",
    "# feat_2 trained 3 times\n",
    "# feat_3 trained 3 times\n",
    "# feat_4 trained 3 times\n",
    "# feat_5 trained 3 times\n",
    "# Now one feat for which cv score is best is selected. (lets say feat_1 selected)\n",
    "# feat_1, feat_2 trained 3 times\n",
    "# feat_1, feat_3 trained 3 times\n",
    "# feat_1, feat_4 trained 3 times\n",
    "# feat_1, feat_5 trained 3 times\n",
    "# Now one feat for which cv score is best is selected. (lets say feat_2 selected)\n",
    "# feat_1, feat_2 feat_3 trained 3 times\n",
    "# feat_1, feat_2 feat_4 trained 3 times\n",
    "# feat_1, feat_2 feat_5 trained 3 times\n",
    "# Now one feat for which cv score is best is selected. (lets say feat_3 selected)\n",
    "# Required 3 features are selected\n",
    "\n",
    "X, y = fetch_california_housing(return_X_y=True)\n",
    "X_train, X_test, y_train, y_test = train_test_split(X, y, test_size=0.2, random_state=0)"
   ]
  },
  {
   "cell_type": "code",
   "execution_count": 204,
   "metadata": {},
   "outputs": [
    {
     "name": "stdout",
     "output_type": "stream",
     "text": [
      "Feature selection:\n",
      "\t[ True  True False False False False  True False]\n",
      "Shape before: (16512, 8)\n",
      "Shape after: (16512, 3)\n",
      "CPU times: total: 891 ms\n",
      "Wall time: 477 ms\n"
     ]
    }
   ],
   "source": [
    "%%time\n",
    "\n",
    "# Forward Process\n",
    "\n",
    "lin_reg = LinearRegression()\n",
    "sfs = SequentialFeatureSelector(estimator=lin_reg, n_features_to_select=3, direction=\"forward\", cv=5)\n",
    "X_new = sfs.fit_transform(X_train, y_train)\n",
    "\n",
    "print(f\"Feature selection:\\n\\t{sfs.get_support()}\")\n",
    "\n",
    "print(f\"Shape before: {X_train.shape}\")\n",
    "print(f\"Shape after: {X_new.shape}\")"
   ]
  },
  {
   "cell_type": "code",
   "execution_count": 206,
   "metadata": {},
   "outputs": [
    {
     "name": "stdout",
     "output_type": "stream",
     "text": [
      "Feature selection:\n",
      "\t[ True False False False False False  True  True]\n",
      "Shape before: (16512, 8)\n",
      "Shape after: (16512, 3)\n",
      "CPU times: total: 1.44 s\n",
      "Wall time: 831 ms\n"
     ]
    }
   ],
   "source": [
    "%%time\n",
    "\n",
    "# Backward Process\n",
    "\n",
    "lin_reg = LinearRegression()\n",
    "sfs = SequentialFeatureSelector(estimator=lin_reg, n_features_to_select=3, direction=\"backward\", cv=5)\n",
    "X_new = sfs.fit_transform(X_train, y_train)\n",
    "\n",
    "print(f\"Feature selection:\\n\\t{sfs.get_support()}\")\n",
    "\n",
    "print(f\"Shape before: {X_train.shape}\")\n",
    "print(f\"Shape after: {X_new.shape}\")"
   ]
  },
  {
   "cell_type": "code",
   "execution_count": 207,
   "metadata": {},
   "outputs": [],
   "source": [
    "# Both direction may yield different results\n",
    "# choose best direction based on total no of feat and no of feat to select"
   ]
  },
  {
   "cell_type": "markdown",
   "metadata": {},
   "source": [
    "## Dimentionality Reduction"
   ]
  },
  {
   "cell_type": "markdown",
   "metadata": {},
   "source": [
    "### PCA"
   ]
  },
  {
   "cell_type": "code",
   "execution_count": 209,
   "metadata": {},
   "outputs": [
    {
     "name": "stdout",
     "output_type": "stream",
     "text": [
      "No. of pca components: 3\n",
      "Axes of pca components:\n",
      "[[ 7.56885343e-06 -3.29547877e-03 -1.47671696e-04 -2.60873467e-05\n",
      "   9.99994435e-01  4.09733914e-04 -2.14612765e-04  1.84428633e-04]\n",
      " [-1.98264191e-02  9.98589214e-01 -3.82984196e-02 -4.09255163e-03\n",
      "   3.27631160e-03  2.66795570e-02 -3.11968220e-03 -1.45159219e-02]\n",
      " [ 2.39978315e-03 -2.63041101e-02  7.77888586e-03  6.10118512e-04\n",
      "  -4.95415291e-04  9.99613979e-01  1.45594451e-03  3.31341067e-03]]\n"
     ]
    }
   ],
   "source": [
    "X, y = fetch_california_housing(return_X_y=True)\n",
    "X_train, X_test, y_train, y_test = train_test_split(X, y, test_size=0.2, random_state=0)\n",
    "\n",
    "pca = PCA(n_components=3)\n",
    "pca.fit(X_train)\n",
    "\n",
    "print(f\"No. of pca components: {pca.n_components_}\")\n",
    "print(f\"Axes of pca components:\\n{pca.components_}\")"
   ]
  },
  {
   "cell_type": "code",
   "execution_count": 212,
   "metadata": {},
   "outputs": [
    {
     "data": {
      "text/plain": [
       "array([1.30660701e+06, 1.44962015e+02, 4.11997703e+01])"
      ]
     },
     "execution_count": 212,
     "metadata": {},
     "output_type": "execute_result"
    }
   ],
   "source": [
    "pca.explained_variance_\n",
    "\n",
    "# varience captured by each componets"
   ]
  },
  {
   "cell_type": "code",
   "execution_count": 211,
   "metadata": {},
   "outputs": [
    {
     "data": {
      "text/plain": [
       "array([ 3.87629834e+00,  2.86190649e+01,  5.43260683e+00,  1.09617439e+00,\n",
       "        1.42543774e+03,  3.03051803e+00,  3.56247826e+01, -1.19563008e+02])"
      ]
     },
     "execution_count": 211,
     "metadata": {},
     "output_type": "execute_result"
    }
   ],
   "source": [
    "pca.mean_"
   ]
  },
  {
   "cell_type": "code",
   "execution_count": 213,
   "metadata": {},
   "outputs": [
    {
     "name": "stdout",
     "output_type": "stream",
     "text": [
      "Shape before: (16512, 8)\n",
      "Shape after: (16512, 3)\n"
     ]
    }
   ],
   "source": [
    "X_new = pca.transform(X_train)\n",
    "\n",
    "print(f\"Shape before: {X_train.shape}\")\n",
    "print(f\"Shape after: {X_new.shape}\")"
   ]
  },
  {
   "cell_type": "markdown",
   "metadata": {},
   "source": [
    "## Chaining transformers"
   ]
  },
  {
   "cell_type": "code",
   "execution_count": 215,
   "metadata": {},
   "outputs": [],
   "source": [
    "# All transformers should be applied to train, valid, test  set in same order\n",
    "# To do that, chain all transformer into one object\n",
    "# intermediate steps must be transformers: must implement 'fit' and 'transform'\n",
    "# final step need only 'fit' method."
   ]
  },
  {
   "cell_type": "markdown",
   "metadata": {},
   "source": [
    "### Pipeline"
   ]
  },
  {
   "cell_type": "markdown",
   "metadata": {},
   "source": [
    "#### Create Pipeline"
   ]
  },
  {
   "cell_type": "code",
   "execution_count": 216,
   "metadata": {},
   "outputs": [],
   "source": [
    "estimators = [('imputer', SimpleImputer()),\n",
    "             ('scaler', StandardScaler())]\n",
    "\n",
    "pipe = Pipeline(steps=estimators)"
   ]
  },
  {
   "cell_type": "markdown",
   "metadata": {},
   "source": [
    "#### Access params"
   ]
  },
  {
   "cell_type": "code",
   "execution_count": 217,
   "metadata": {},
   "outputs": [
    {
     "name": "stdout",
     "output_type": "stream",
     "text": [
      "2\n"
     ]
    }
   ],
   "source": [
    "print(len(pipe.steps))"
   ]
  },
  {
   "cell_type": "code",
   "execution_count": 218,
   "metadata": {},
   "outputs": [
    {
     "data": {
      "text/plain": [
       "[('imputer', SimpleImputer()), ('scaler', StandardScaler())]"
      ]
     },
     "execution_count": 218,
     "metadata": {},
     "output_type": "execute_result"
    }
   ],
   "source": [
    "pipe.steps"
   ]
  },
  {
   "cell_type": "code",
   "execution_count": 219,
   "metadata": {},
   "outputs": [
    {
     "data": {
      "text/plain": [
       "{'imputer': SimpleImputer(), 'scaler': StandardScaler()}"
      ]
     },
     "execution_count": 219,
     "metadata": {},
     "output_type": "execute_result"
    }
   ],
   "source": [
    "pipe.named_steps"
   ]
  },
  {
   "cell_type": "code",
   "execution_count": 220,
   "metadata": {},
   "outputs": [
    {
     "data": {
      "text/plain": [
       "StandardScaler()"
      ]
     },
     "execution_count": 220,
     "metadata": {},
     "output_type": "execute_result"
    }
   ],
   "source": [
    "pipe.named_steps.scaler"
   ]
  },
  {
   "cell_type": "code",
   "execution_count": 224,
   "metadata": {},
   "outputs": [
    {
     "data": {
      "text/plain": [
       "StandardScaler()"
      ]
     },
     "execution_count": 224,
     "metadata": {},
     "output_type": "execute_result"
    }
   ],
   "source": [
    "pipe[1]"
   ]
  },
  {
   "cell_type": "code",
   "execution_count": 225,
   "metadata": {},
   "outputs": [
    {
     "data": {
      "text/plain": [
       "('scaler', StandardScaler())"
      ]
     },
     "execution_count": 225,
     "metadata": {},
     "output_type": "execute_result"
    }
   ],
   "source": [
    "pipe.steps[1]"
   ]
  },
  {
   "cell_type": "code",
   "execution_count": 223,
   "metadata": {},
   "outputs": [
    {
     "data": {
      "text/plain": [
       "StandardScaler()"
      ]
     },
     "execution_count": 223,
     "metadata": {},
     "output_type": "execute_result"
    }
   ],
   "source": [
    "pipe['scaler']"
   ]
  },
  {
   "cell_type": "markdown",
   "metadata": {},
   "source": [
    "#### Set params "
   ]
  },
  {
   "cell_type": "code",
   "execution_count": 227,
   "metadata": {},
   "outputs": [
    {
     "data": {
      "text/plain": [
       "Pipeline(steps=[('imputer', SimpleImputer()), ('scaler', StandardScaler())])"
      ]
     },
     "execution_count": 227,
     "metadata": {},
     "output_type": "execute_result"
    }
   ],
   "source": [
    "pipe.set_params(scaler__with_mean=True)"
   ]
  },
  {
   "cell_type": "markdown",
   "metadata": {},
   "source": [
    "### GridSearch with Pipeline"
   ]
  },
  {
   "cell_type": "code",
   "execution_count": 232,
   "metadata": {},
   "outputs": [
    {
     "data": {
      "text/plain": [
       "{'imputer': ['passthrough', SimpleImputer(), KNNImputer()],\n",
       " 'clf': [SVC(), LogisticRegression()],\n",
       " 'clf__C': [0.1, 10, 100]}"
      ]
     },
     "execution_count": 232,
     "metadata": {},
     "output_type": "execute_result"
    }
   ],
   "source": [
    "param_grid = dict(imputer=['passthrough', SimpleImputer(), KNNImputer()],\n",
    "                 clf=[SVC(), LogisticRegression()],\n",
    "                 clf__C=[0.1,10,100])\n",
    "# C is inverse of regularization\n",
    "param_grid"
   ]
  },
  {
   "cell_type": "code",
   "execution_count": 233,
   "metadata": {},
   "outputs": [],
   "source": [
    "grid_search = GridSearchCV(pipe, param_grid=param_grid)"
   ]
  },
  {
   "cell_type": "markdown",
   "metadata": {},
   "source": [
    "## Caching transformers"
   ]
  },
  {
   "cell_type": "code",
   "execution_count": 235,
   "metadata": {},
   "outputs": [
    {
     "data": {
      "text/plain": [
       "<TemporaryDirectory 'C:\\\\Users\\\\tusha\\\\AppData\\\\Local\\\\Temp\\\\tmp004epni8'>"
      ]
     },
     "execution_count": 235,
     "metadata": {},
     "output_type": "execute_result"
    }
   ],
   "source": [
    "# Save transformed data \n",
    "\n",
    "temp_dir_path = tempfile.TemporaryDirectory()\n",
    "temp_dir_path"
   ]
  },
  {
   "cell_type": "code",
   "execution_count": 236,
   "metadata": {},
   "outputs": [],
   "source": [
    "pipe = Pipeline(estimators, memory=temp_dir_path)"
   ]
  },
  {
   "cell_type": "markdown",
   "metadata": {},
   "source": [
    "## Feature Union"
   ]
  },
  {
   "cell_type": "code",
   "execution_count": 244,
   "metadata": {},
   "outputs": [
    {
     "data": {
      "text/html": [
       "<style>#sk-a1ee28e0-8e45-4603-9bb3-3596599214ec {color: black;background-color: white;}#sk-a1ee28e0-8e45-4603-9bb3-3596599214ec pre{padding: 0;}#sk-a1ee28e0-8e45-4603-9bb3-3596599214ec div.sk-toggleable {background-color: white;}#sk-a1ee28e0-8e45-4603-9bb3-3596599214ec label.sk-toggleable__label {cursor: pointer;display: block;width: 100%;margin-bottom: 0;padding: 0.3em;box-sizing: border-box;text-align: center;}#sk-a1ee28e0-8e45-4603-9bb3-3596599214ec div.sk-toggleable__content {max-height: 0;max-width: 0;overflow: hidden;text-align: left;background-color: #f0f8ff;}#sk-a1ee28e0-8e45-4603-9bb3-3596599214ec div.sk-toggleable__content pre {margin: 0.2em;color: black;border-radius: 0.25em;background-color: #f0f8ff;}#sk-a1ee28e0-8e45-4603-9bb3-3596599214ec input.sk-toggleable__control:checked~div.sk-toggleable__content {max-height: 200px;max-width: 100%;overflow: auto;}#sk-a1ee28e0-8e45-4603-9bb3-3596599214ec div.sk-estimator input.sk-toggleable__control:checked~label.sk-toggleable__label {background-color: #d4ebff;}#sk-a1ee28e0-8e45-4603-9bb3-3596599214ec div.sk-label input.sk-toggleable__control:checked~label.sk-toggleable__label {background-color: #d4ebff;}#sk-a1ee28e0-8e45-4603-9bb3-3596599214ec input.sk-hidden--visually {border: 0;clip: rect(1px 1px 1px 1px);clip: rect(1px, 1px, 1px, 1px);height: 1px;margin: -1px;overflow: hidden;padding: 0;position: absolute;width: 1px;}#sk-a1ee28e0-8e45-4603-9bb3-3596599214ec div.sk-estimator {font-family: monospace;background-color: #f0f8ff;border: 1px dotted black;border-radius: 0.25em;box-sizing: border-box;margin-bottom: 0.5em;}#sk-a1ee28e0-8e45-4603-9bb3-3596599214ec div.sk-estimator:hover {background-color: #d4ebff;}#sk-a1ee28e0-8e45-4603-9bb3-3596599214ec div.sk-parallel-item::after {content: \"\";width: 100%;border-bottom: 1px solid gray;flex-grow: 1;}#sk-a1ee28e0-8e45-4603-9bb3-3596599214ec div.sk-label:hover label.sk-toggleable__label {background-color: #d4ebff;}#sk-a1ee28e0-8e45-4603-9bb3-3596599214ec div.sk-serial::before {content: \"\";position: absolute;border-left: 1px solid gray;box-sizing: border-box;top: 2em;bottom: 0;left: 50%;}#sk-a1ee28e0-8e45-4603-9bb3-3596599214ec div.sk-serial {display: flex;flex-direction: column;align-items: center;background-color: white;padding-right: 0.2em;padding-left: 0.2em;}#sk-a1ee28e0-8e45-4603-9bb3-3596599214ec div.sk-item {z-index: 1;}#sk-a1ee28e0-8e45-4603-9bb3-3596599214ec div.sk-parallel {display: flex;align-items: stretch;justify-content: center;background-color: white;}#sk-a1ee28e0-8e45-4603-9bb3-3596599214ec div.sk-parallel::before {content: \"\";position: absolute;border-left: 1px solid gray;box-sizing: border-box;top: 2em;bottom: 0;left: 50%;}#sk-a1ee28e0-8e45-4603-9bb3-3596599214ec div.sk-parallel-item {display: flex;flex-direction: column;position: relative;background-color: white;}#sk-a1ee28e0-8e45-4603-9bb3-3596599214ec div.sk-parallel-item:first-child::after {align-self: flex-end;width: 50%;}#sk-a1ee28e0-8e45-4603-9bb3-3596599214ec div.sk-parallel-item:last-child::after {align-self: flex-start;width: 50%;}#sk-a1ee28e0-8e45-4603-9bb3-3596599214ec div.sk-parallel-item:only-child::after {width: 0;}#sk-a1ee28e0-8e45-4603-9bb3-3596599214ec div.sk-dashed-wrapped {border: 1px dashed gray;margin: 0 0.4em 0.5em 0.4em;box-sizing: border-box;padding-bottom: 0.4em;background-color: white;position: relative;}#sk-a1ee28e0-8e45-4603-9bb3-3596599214ec div.sk-label label {font-family: monospace;font-weight: bold;background-color: white;display: inline-block;line-height: 1.2em;}#sk-a1ee28e0-8e45-4603-9bb3-3596599214ec div.sk-label-container {position: relative;z-index: 2;text-align: center;}#sk-a1ee28e0-8e45-4603-9bb3-3596599214ec div.sk-container {display: inline-block;position: relative;}</style><div id=\"sk-a1ee28e0-8e45-4603-9bb3-3596599214ec\" class\"sk-top-container\"><div class=\"sk-container\"><div class=\"sk-item sk-dashed-wrapped\"><div class=\"sk-label-container\"><div class=\"sk-label sk-toggleable\"><input class=\"sk-toggleable__control sk-hidden--visually\" id=\"84dad1af-f63b-4560-85db-d2886abd15a9\" type=\"checkbox\" ><label class=\"sk-toggleable__label\" for=\"84dad1af-f63b-4560-85db-d2886abd15a9\">FeatureUnion</label><div class=\"sk-toggleable__content\"><pre>FeatureUnion(transformer_list=[('num_pipeline',\n",
       "                                Pipeline(steps=[('selector',\n",
       "                                                 ColumnTransformer(transformers=[('select_first_4',\n",
       "                                                                                  'passthrough',\n",
       "                                                                                  slice(0, 4, None))])),\n",
       "                                                ('imputer', SimpleImputer()),\n",
       "                                                ('scaler', StandardScaler())])),\n",
       "                               ('cat_pipeline',\n",
       "                                ColumnTransformer(transformers=[('label_binarizer',\n",
       "                                                                 LabelBinarizer(),\n",
       "                                                                 [4])]))])</pre></div></div></div><div class=\"sk-parallel\"><div class=\"sk-parallel-item\"><div class=\"sk-item\"><div class=\"sk-label-container\"><div class=\"sk-label sk-toggleable\"><label>num_pipeline</label></div></div><div class=\"sk-serial\"><div class=\"sk-item\"><div class=\"sk-serial\"><div class=\"sk-item sk-dashed-wrapped\"><div class=\"sk-label-container\"><div class=\"sk-label sk-toggleable\"><input class=\"sk-toggleable__control sk-hidden--visually\" id=\"1770d63d-557e-4e7f-9d62-ecefa81939fd\" type=\"checkbox\" ><label class=\"sk-toggleable__label\" for=\"1770d63d-557e-4e7f-9d62-ecefa81939fd\">selector: ColumnTransformer</label><div class=\"sk-toggleable__content\"><pre>ColumnTransformer(transformers=[('select_first_4', 'passthrough',\n",
       "                                 slice(0, 4, None))])</pre></div></div></div><div class=\"sk-parallel\"><div class=\"sk-parallel-item\"><div class=\"sk-item\"><div class=\"sk-label-container\"><div class=\"sk-label sk-toggleable\"><input class=\"sk-toggleable__control sk-hidden--visually\" id=\"1b4b9973-2566-42d4-9b74-7ee8a8eda0d1\" type=\"checkbox\" ><label class=\"sk-toggleable__label\" for=\"1b4b9973-2566-42d4-9b74-7ee8a8eda0d1\">select_first_4</label><div class=\"sk-toggleable__content\"><pre>slice(0, 4, None)</pre></div></div></div><div class=\"sk-serial\"><div class=\"sk-item\"><div class=\"sk-estimator sk-toggleable\"><input class=\"sk-toggleable__control sk-hidden--visually\" id=\"3f77b8e5-2459-4a50-a922-fc9d7cae08cf\" type=\"checkbox\" ><label class=\"sk-toggleable__label\" for=\"3f77b8e5-2459-4a50-a922-fc9d7cae08cf\">passthrough</label><div class=\"sk-toggleable__content\"><pre>passthrough</pre></div></div></div></div></div></div></div></div><div class=\"sk-item\"><div class=\"sk-estimator sk-toggleable\"><input class=\"sk-toggleable__control sk-hidden--visually\" id=\"3b179d11-1ff6-48a6-9a60-9fadae4758ca\" type=\"checkbox\" ><label class=\"sk-toggleable__label\" for=\"3b179d11-1ff6-48a6-9a60-9fadae4758ca\">SimpleImputer</label><div class=\"sk-toggleable__content\"><pre>SimpleImputer()</pre></div></div></div><div class=\"sk-item\"><div class=\"sk-estimator sk-toggleable\"><input class=\"sk-toggleable__control sk-hidden--visually\" id=\"adc82e43-3ac2-4941-8f97-6a61f83a5d89\" type=\"checkbox\" ><label class=\"sk-toggleable__label\" for=\"adc82e43-3ac2-4941-8f97-6a61f83a5d89\">StandardScaler</label><div class=\"sk-toggleable__content\"><pre>StandardScaler()</pre></div></div></div></div></div></div></div></div><div class=\"sk-parallel-item\"><div class=\"sk-item\"><div class=\"sk-label-container\"><div class=\"sk-label sk-toggleable\"><label>cat_pipeline</label></div></div><div class=\"sk-serial\"><div class=\"sk-item sk-dashed-wrapped\"><div class=\"sk-parallel\"><div class=\"sk-parallel-item\"><div class=\"sk-item\"><div class=\"sk-label-container\"><div class=\"sk-label sk-toggleable\"><input class=\"sk-toggleable__control sk-hidden--visually\" id=\"3495b4c9-389b-4de6-8d18-fa3a558cc4ba\" type=\"checkbox\" ><label class=\"sk-toggleable__label\" for=\"3495b4c9-389b-4de6-8d18-fa3a558cc4ba\">label_binarizer</label><div class=\"sk-toggleable__content\"><pre>[4]</pre></div></div></div><div class=\"sk-serial\"><div class=\"sk-item\"><div class=\"sk-estimator sk-toggleable\"><input class=\"sk-toggleable__control sk-hidden--visually\" id=\"5e26db65-5714-4932-8141-cf663ec0ff9b\" type=\"checkbox\" ><label class=\"sk-toggleable__label\" for=\"5e26db65-5714-4932-8141-cf663ec0ff9b\">LabelBinarizer</label><div class=\"sk-toggleable__content\"><pre>LabelBinarizer()</pre></div></div></div></div></div></div></div></div></div></div></div></div></div></div></div>"
      ],
      "text/plain": [
       "FeatureUnion(transformer_list=[('num_pipeline',\n",
       "                                Pipeline(steps=[('selector',\n",
       "                                                 ColumnTransformer(transformers=[('select_first_4',\n",
       "                                                                                  'passthrough',\n",
       "                                                                                  slice(0, 4, None))])),\n",
       "                                                ('imputer', SimpleImputer()),\n",
       "                                                ('scaler', StandardScaler())])),\n",
       "                               ('cat_pipeline',\n",
       "                                ColumnTransformer(transformers=[('label_binarizer',\n",
       "                                                                 LabelBinarizer(),\n",
       "                                                                 [4])]))])"
      ]
     },
     "execution_count": 244,
     "metadata": {},
     "output_type": "execute_result"
    }
   ],
   "source": [
    "# concats result of multiple transformer objects\n",
    "\n",
    "num_pipeline = Pipeline(steps=[('selector', ColumnTransformer([('select_first_4', 'passthrough', slice(0,4))])),\n",
    "                               ('imputer', SimpleImputer(strategy='mean')),\n",
    "                               ('scaler', StandardScaler(with_mean=True, with_std=True))])\n",
    "                        \n",
    "cat_pipeline = ColumnTransformer([('label_binarizer', LabelBinarizer(), [4])])\n",
    "\n",
    "transformer_list = [('num_pipeline', num_pipeline),\n",
    "                   ('cat_pipeline', cat_pipeline)]\n",
    "\n",
    "full_pipelines = FeatureUnion(transformer_list=transformer_list)\n",
    "\n",
    "# display pipeline\n",
    "full_pipelines"
   ]
  },
  {
   "cell_type": "code",
   "execution_count": 246,
   "metadata": {},
   "outputs": [],
   "source": [
    "# https://towardsdatascience.com/pipeline-columntransformer-and-featureunion-explained-f5491f815f"
   ]
  },
  {
   "cell_type": "markdown",
   "metadata": {},
   "source": [
    "## Imbalanced Data"
   ]
  },
  {
   "cell_type": "code",
   "execution_count": 247,
   "metadata": {},
   "outputs": [],
   "source": [
    "# when a column with classes have imbalanced data distribution.\n",
    "# Minority of  classes may have  majority of the data\n",
    "# Two solution: undersampling, oversampling"
   ]
  },
  {
   "cell_type": "code",
   "execution_count": 250,
   "metadata": {},
   "outputs": [
    {
     "data": {
      "text/plain": [
       "5    681\n",
       "6    638\n",
       "7    199\n",
       "4     53\n",
       "8     18\n",
       "3     10\n",
       "Name: quality, dtype: int64"
      ]
     },
     "execution_count": 250,
     "metadata": {},
     "output_type": "execute_result"
    }
   ],
   "source": [
    "# wine data\n",
    "df['quality'].value_counts()\n",
    "# class 5 and 6 contain majority of data"
   ]
  },
  {
   "cell_type": "markdown",
   "metadata": {},
   "source": [
    "### UnderSampling"
   ]
  },
  {
   "cell_type": "code",
   "execution_count": 253,
   "metadata": {},
   "outputs": [
    {
     "name": "stdout",
     "output_type": "stream",
     "text": [
      "Old label vector: Counter({5: 681, 6: 638, 7: 199, 4: 53, 8: 18, 3: 10})\n",
      "Nee label vector: Counter({3: 10, 4: 10, 5: 10, 6: 10, 7: 10, 8: 10})\n"
     ]
    }
   ],
   "source": [
    "X = df.drop(['quality'], axis=1)\n",
    "y = df['quality']\n",
    "\n",
    "u_samp = RandomUnderSampler(random_state=0)\n",
    "X_rus, y_rus = u_samp.fit_resample(X, y)\n",
    "\n",
    "print(f\"Old label vector: {Counter(y)}\")\n",
    "print(f\"Nee label vector: {Counter(y_rus)}\")"
   ]
  },
  {
   "cell_type": "code",
   "execution_count": 254,
   "metadata": {},
   "outputs": [],
   "source": [
    "# least number of ex is 10 So 10 ex from each class selected"
   ]
  },
  {
   "cell_type": "markdown",
   "metadata": {},
   "source": [
    "### OverSampling"
   ]
  },
  {
   "cell_type": "code",
   "execution_count": 256,
   "metadata": {},
   "outputs": [
    {
     "name": "stdout",
     "output_type": "stream",
     "text": [
      "Old label vector: Counter({5: 681, 6: 638, 7: 199, 4: 53, 8: 18, 3: 10})\n",
      "Nee label vector: Counter({5: 681, 6: 681, 7: 681, 4: 681, 8: 681, 3: 681})\n"
     ]
    }
   ],
   "source": [
    "o_samp = RandomOverSampler(random_state=0)\n",
    "X_ros, y_ros = o_samp.fit_resample(X, y)\n",
    "\n",
    "print(f\"Old label vector: {Counter(y)}\")\n",
    "print(f\"Nee label vector: {Counter(y_ros)}\")"
   ]
  },
  {
   "cell_type": "markdown",
   "metadata": {},
   "source": [
    "### OverSampling with SMOTE"
   ]
  },
  {
   "cell_type": "code",
   "execution_count": 258,
   "metadata": {},
   "outputs": [
    {
     "name": "stdout",
     "output_type": "stream",
     "text": [
      "Old label vector: Counter({5: 681, 6: 638, 7: 199, 4: 53, 8: 18, 3: 10})\n",
      "Nee label vector: Counter({5: 681, 6: 681, 7: 681, 4: 681, 8: 681, 3: 681})\n"
     ]
    }
   ],
   "source": [
    "# Synthetic Minority Over Sampling\n",
    "\n",
    "o_samp = SMOTE()\n",
    "X_ros, y_ros = o_samp.fit_resample(X, y)\n",
    "\n",
    "print(f\"Old label vector: {Counter(y)}\")\n",
    "print(f\"Nee label vector: {Counter(y_ros)}\")"
   ]
  },
  {
   "cell_type": "markdown",
   "metadata": {},
   "source": [
    "# Assignment"
   ]
  },
  {
   "cell_type": "code",
   "execution_count": null,
   "metadata": {},
   "outputs": [],
   "source": []
  }
 ],
 "metadata": {
  "kernelspec": {
   "display_name": "Python 3",
   "language": "python",
   "name": "python3"
  },
  "language_info": {
   "codemirror_mode": {
    "name": "ipython",
    "version": 3
   },
   "file_extension": ".py",
   "mimetype": "text/x-python",
   "name": "python",
   "nbconvert_exporter": "python",
   "pygments_lexer": "ipython3",
   "version": "3.8.3"
  },
  "toc-showtags": false
 },
 "nbformat": 4,
 "nbformat_minor": 4
}
