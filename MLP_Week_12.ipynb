{
 "cells": [
  {
   "cell_type": "markdown",
   "metadata": {},
   "source": [
    "# IITM - MLP - Week 12"
   ]
  },
  {
   "cell_type": "markdown",
   "metadata": {},
   "source": [
    "## Imports"
   ]
  },
  {
   "cell_type": "code",
   "execution_count": 5,
   "metadata": {},
   "outputs": [],
   "source": [
    "# ---------- Common ------------\n",
    "import os, time, json, random, ast\n",
    "from datetime import datetime ; from collections import Counter; from pprint import pprint; from statistics import mode\n",
    "\n",
    "# ---------- Data Manipulation ------------\n",
    "import pandas as pd; import numpy as np\n",
    "\n",
    "# ---------- Data Visualization ------------\n",
    "from pandas.plotting import scatter_matrix\n",
    "from pandas.core import missing\n",
    "import matplotlib as mpl; from matplotlib import pyplot as plt; from matplotlib.colors import ListedColormap\n",
    "%matplotlib inline\n",
    "import seaborn as sns\n",
    "import plotly.express as px\n",
    "\n",
    "# ---------- Sklearn ------------\n",
    "from sklearn import set_config\n",
    "\n",
    "from sklearn.model_selection import train_test_split, StratifiedShuffleSplit, cross_val_score, cross_validate, cross_val_predict, validation_curve, learning_curve, ShuffleSplit, GridSearchCV, RandomizedSearchCV, KFold, RepeatedKFold, permutation_test_score\n",
    "from sklearn.preprocessing import add_dummy_feature, OrdinalEncoder, OneHotEncoder, LabelBinarizer, LabelEncoder, MultiLabelBinarizer, MinMaxScaler, MaxAbsScaler, StandardScaler, FunctionTransformer, PolynomialFeatures, KBinsDiscretizer\n",
    "from sklearn.linear_model import LinearRegression, LogisticRegression, LogisticRegressionCV, SGDRegressor, Ridge, RidgeCV, Lasso, LassoCV, Perceptron, SGDClassifier, RidgeClassifier\n",
    "from sklearn.metrics import mean_squared_error, mean_absolute_percentage_error, explained_variance_score, max_error, mean_absolute_error, r2_score, confusion_matrix, plot_confusion_matrix, ConfusionMatrixDisplay, roc_curve, roc_auc_score, plot_roc_curve, precision_recall_curve, accuracy_score, precision_score, recall_score, f1_score, accuracy_score, classification_report, hinge_loss, make_scorer, log_loss\n",
    "from sklearn.feature_selection import VarianceThreshold, SelectPercentile, SelectKBest, GenericUnivariateSelect, mutual_info_classif, mutual_info_regression, chi2, f_classif, f_regression, RFE, RFECV, SequentialFeatureSelector, SelectFromModel\n",
    "from sklearn.datasets import load_iris, fetch_california_housing, make_blobs, make_regression, make_classification, make_multilabel_classification, fetch_openml\n",
    "\n",
    "from sklearn.tree import export_text, DecisionTreeRegressor, DecisionTreeClassifier\n",
    "from sklearn import tree\n",
    "from sklearn.ensemble import BaggingClassifier, BaggingRegressor, RandomForestRegressor, RandomForestClassifier, AdaBoostClassifier, AdaBoostRegressor, GradientBoostingClassifier, GradientBoostingRegressor\n",
    "from sklearn.svm import SVC\n",
    "from sklearn.neighbors import NearestNeighbors, KNeighborsClassifier\n",
    "from sklearn.dummy import DummyClassifier, DummyRegressor\n",
    "from sklearn.impute import KNNImputer, SimpleImputer\n",
    "from sklearn.pipeline import Pipeline, FeatureUnion\n",
    "from sklearn.compose import ColumnTransformer, TransformedTargetRegressor\n",
    "from sklearn.base import BaseEstimator, TransformerMixin\n",
    "from sklearn.decomposition import PCA\n",
    "from sklearn.feature_extraction import DictVectorizer\n",
    "from sklearn.neural_network import MLPClassifier, MLPRegressor\n",
    "\n",
    "\n",
    "# ---------- Imblearn ------------\n",
    "from imblearn.under_sampling import RandomUnderSampler\n",
    "from imblearn.over_sampling import RandomOverSampler, SMOTE\n",
    "\n",
    "# ---------- Scipy ------------\n",
    "from scipy import stats\n",
    "from scipy.stats import pearsonr, spearmanr, kendalltau, loguniform, uniform\n",
    "\n",
    "# ---------- Extras ------------\n",
    "import pickle\n",
    "# pickle.dump(model, open(filename, 'wb'))\n",
    "# loaded_model = pickle.load(open(filename, 'rb'))\n",
    "\n",
    "import tempfile\n",
    "\n",
    "import warnings\n",
    "warnings.filterwarnings(\"ignore\")  # supress all warning (use with care)"
   ]
  },
  {
   "cell_type": "markdown",
   "metadata": {},
   "source": [
    "## Presets"
   ]
  },
  {
   "cell_type": "code",
   "execution_count": 2,
   "metadata": {},
   "outputs": [],
   "source": [
    "pd.set_option('display.max_rows', 50)\n",
    "pd.set_option('display.max_columns', None)\n",
    "\n",
    "plt.style.use('seaborn')\n",
    "sns.set_theme(style=\"whitegrid\")\n",
    "# custom_params = {\"axes.spines.right\": False, \"axes.spines.top\": False}\n",
    "# sns.set_theme(style=\"ticks\", rc=custom_params)\n",
    "\n",
    "# set_config(display='diagram')\n",
    "\n",
    "np.random.seed(306)\n",
    "cv = ShuffleSplit(n_splits=5, test_size=0.2, random_state=42)\n",
    "\n",
    "mpl.rc(\"axes\", labelsize=14)\n",
    "mpl.rc(\"xtick\", labelsize=12)\n",
    "mpl.rc(\"ytick\", labelsize=12)\n",
    "# mpl.rc(\"figure\", figsize=(8,6))"
   ]
  },
  {
   "cell_type": "markdown",
   "metadata": {},
   "source": [
    "# Load MNIST data"
   ]
  },
  {
   "cell_type": "code",
   "execution_count": 3,
   "metadata": {
    "id": "SqPlQqVx18r7"
   },
   "outputs": [
    {
     "name": "stdout",
     "output_type": "stream",
     "text": [
      "(60000, 784) (60000,) (10000, 784) (10000,)\n"
     ]
    }
   ],
   "source": [
    "X, y = fetch_openml('mnist_784', version=1, return_X_y=True)\n",
    "\n",
    "X = X.to_numpy()\n",
    "y = y.to_numpy()\n",
    "X_train, X_test, y_train, y_test = X[:60000], X[60000:], y[:60000], y[60000:]\n",
    "\n",
    "# Flatten each input image into a vector of length 784\n",
    "X_train = X_train.reshape(X_train.shape[0], 28 * 28)\n",
    "X_test = X_test.reshape(X_test.shape[0], 28 * 28)\n",
    "\n",
    "# Normalizing\n",
    "X_train = X_train/255\n",
    "X_test = X_test/255\n",
    "\n",
    "print(X_train.shape, y_train.shape, X_test.shape, y_test.shape)"
   ]
  },
  {
   "cell_type": "markdown",
   "metadata": {},
   "source": [
    "# Load California Housing Dataset"
   ]
  },
  {
   "cell_type": "code",
   "execution_count": 6,
   "metadata": {
    "id": "7DTtszIqHeFO"
   },
   "outputs": [],
   "source": [
    "features, labels = fetch_california_housing(as_frame=True, return_X_y=True)\n",
    "labels *= 100"
   ]
  },
  {
   "cell_type": "code",
   "execution_count": 7,
   "metadata": {
    "id": "oA1Ia1SfHyn3"
   },
   "outputs": [],
   "source": [
    "com_train_features, test_features, com_train_labels, test_labels = train_test_split(features, labels, random_state=42)\n",
    "train_features, dev_features, train_labels, dev_labels = train_test_split(com_train_features, com_train_labels, random_state=42)"
   ]
  },
  {
   "cell_type": "markdown",
   "metadata": {},
   "source": [
    "# Multilayer Perceptron Classifier : MNIST"
   ]
  },
  {
   "cell_type": "markdown",
   "metadata": {
    "id": "XS4ESxMH2o8G"
   },
   "source": [
    "## Fit MLPCLassifier with 1 hidden layer with 128 neurons."
   ]
  },
  {
   "cell_type": "code",
   "execution_count": 4,
   "metadata": {
    "colab": {
     "base_uri": "https://localhost:8080/"
    },
    "id": "5yUA1H1U2xwF",
    "outputId": "57121ab8-67a5-4979-c882-18a8d0176b67"
   },
   "outputs": [
    {
     "name": "stdout",
     "output_type": "stream",
     "text": [
      "97.66666666666669\n"
     ]
    },
    {
     "data": {
      "text/plain": [
       "array([[3.63878377e-11, 5.65035142e-15, 1.39354691e-09, 2.31826648e-07,\n",
       "        3.29105479e-20, 1.90210796e-14, 4.54402987e-22, 9.99999764e-01,\n",
       "        1.39866079e-12, 2.86684663e-09],\n",
       "       [9.42753736e-17, 1.23345119e-11, 1.00000000e+00, 2.71759117e-13,\n",
       "        1.38317215e-31, 4.76230471e-17, 7.72986093e-16, 2.29824143e-27,\n",
       "        1.53872216e-11, 1.33975724e-24],\n",
       "       [9.01831319e-11, 9.99954690e-01, 8.01696775e-06, 8.59140571e-10,\n",
       "        2.16798059e-09, 1.02709366e-09, 8.79842963e-10, 1.02487910e-06,\n",
       "        3.62628646e-05, 1.22200320e-10],\n",
       "       [9.99999995e-01, 1.42515943e-18, 5.25084616e-09, 8.50671452e-16,\n",
       "        1.06154114e-16, 3.86157090e-14, 1.81282357e-12, 5.80525896e-15,\n",
       "        5.50665561e-21, 1.35582547e-11],\n",
       "       [2.43889124e-13, 1.27955905e-18, 1.37715983e-13, 4.77024429e-18,\n",
       "        9.99993024e-01, 1.74520670e-18, 2.13192172e-12, 4.98681948e-11,\n",
       "        1.00192839e-12, 6.97596095e-06]])"
      ]
     },
     "execution_count": 4,
     "metadata": {},
     "output_type": "execute_result"
    }
   ],
   "source": [
    "mlpc = MLPClassifier(hidden_layer_sizes=(128,))\n",
    "mlpc.fit(X_train, y_train)\n",
    "\n",
    "cv_score = cross_val_score(mlpc, X_train, y_train, cv=cv)\n",
    "print(cv_score.mean() * 100)\n",
    "\n",
    "mlpc.predict_proba(X_test[:5]) # probabilities for first 5 samples, on each of the 10 digits."
   ]
  },
  {
   "cell_type": "code",
   "execution_count": 8,
   "metadata": {
    "colab": {
     "base_uri": "https://localhost:8080/"
    },
    "id": "-tsbv5_T5O8e",
    "outputId": "109b2ae8-8136-49b3-81fc-955c48058c56"
   },
   "outputs": [
    {
     "name": "stdout",
     "output_type": "stream",
     "text": [
      "Train acc: 1.0\n",
      "Test acc: 0.9777\n",
      "              precision    recall  f1-score   support\n",
      "\n",
      "           0       0.98      0.99      0.99       980\n",
      "           1       0.99      0.99      0.99      1135\n",
      "           2       0.97      0.98      0.98      1032\n",
      "           3       0.97      0.97      0.97      1010\n",
      "           4       0.98      0.98      0.98       982\n",
      "           5       0.98      0.97      0.98       892\n",
      "           6       0.98      0.98      0.98       958\n",
      "           7       0.98      0.97      0.98      1028\n",
      "           8       0.98      0.96      0.97       974\n",
      "           9       0.97      0.97      0.97      1009\n",
      "\n",
      "    accuracy                           0.98     10000\n",
      "   macro avg       0.98      0.98      0.98     10000\n",
      "weighted avg       0.98      0.98      0.98     10000\n",
      "\n"
     ]
    }
   ],
   "source": [
    "print(f\"Train acc: {accuracy_score(y_train, mlpc.predict(X_train))}\")\n",
    "print(f\"Test acc: {accuracy_score(y_test, mlpc.predict(X_test))}\")\n",
    "\n",
    "print(classification_report(y_test, mlpc.predict(X_test)))"
   ]
  },
  {
   "cell_type": "code",
   "execution_count": 11,
   "metadata": {},
   "outputs": [
    {
     "data": {
      "image/png": "[encoded data removed]",
      "text/plain": [
       "<Figure size 432x288 with 2 Axes>"
      ]
     },
     "metadata": {
      "needs_background": "light"
     },
     "output_type": "display_data"
    }
   ],
   "source": [
    "ConfusionMatrixDisplay.from_predictions(y_test, mlpc.predict(X_test))\n",
    "plt.grid(False)\n",
    "plt.show()"
   ]
  },
  {
   "cell_type": "code",
   "execution_count": 9,
   "metadata": {
    "colab": {
     "base_uri": "https://localhost:8080/",
     "height": 312
    },
    "id": "x9Nll52H8E-u",
    "outputId": "4e016eab-b64d-432b-8485-ec89b2086a38"
   },
   "outputs": [
    {
     "data": {
      "image/png": "[encoded data removed]",
      "text/plain": [
       "<Figure size 432x288 with 1 Axes>"
      ]
     },
     "metadata": {
      "needs_background": "light"
     },
     "output_type": "display_data"
    }
   ],
   "source": [
    "plt.plot(mlpc.loss_curve_, 'b-')\n",
    "plt.xlabel('epoch')\n",
    "plt.ylabel('loss')\n",
    "plt.title('Loss curve')\n",
    "plt.show()"
   ]
  },
  {
   "cell_type": "markdown",
   "metadata": {},
   "source": [
    "# Multilayer Perceptron Regressor : California Housing"
   ]
  },
  {
   "cell_type": "code",
   "execution_count": 12,
   "metadata": {
    "colab": {
     "base_uri": "https://localhost:8080/"
    },
    "id": "ocPTxzkRJkJV",
    "outputId": "2c749f43-806e-4189-eaaa-3c8cc81c0db6"
   },
   "outputs": [
    {
     "name": "stdout",
     "output_type": "stream",
     "text": [
      "training score: 0.258 +/- 0.002\n",
      "testing score: 0.257 +/- 0.004\n"
     ]
    }
   ],
   "source": [
    "pipe = Pipeline([\n",
    "    ('scaler', StandardScaler()), \n",
    "    ('regressor', MLPRegressor(hidden_layer_sizes=(32)))\n",
    "])\n",
    "\n",
    "cv_results = cross_validate(pipe, \n",
    "                            com_train_features, \n",
    "                            com_train_labels, \n",
    "                            cv=cv, \n",
    "                            scoring='neg_mean_absolute_percentage_error', \n",
    "                            return_train_score=True, \n",
    "                            return_estimator=True)\n",
    "\n",
    "mlp_train_error = -1 * cv_results['train_score']\n",
    "mlp_test_error = -1 * cv_results['test_score']\n",
    "\n",
    "print(f'training score: {mlp_train_error.mean():.3f} +/- {mlp_train_error.std():0.3f}')\n",
    "print(f'testing score: {mlp_test_error.mean():.3f} +/- {mlp_test_error.std():0.3f}')"
   ]
  },
  {
   "cell_type": "code",
   "execution_count": 13,
   "metadata": {
    "colab": {
     "base_uri": "https://localhost:8080/"
    },
    "id": "Z2lrAfhMK-sj",
    "outputId": "f99b1017-c83f-46bc-e38d-2f512c2fba8d"
   },
   "outputs": [
    {
     "name": "stdout",
     "output_type": "stream",
     "text": [
      "0.2535970431550168\n",
      "0.2619726011364738\n"
     ]
    }
   ],
   "source": [
    "pipe.fit(com_train_features, com_train_labels)\n",
    "\n",
    "print(mean_absolute_percentage_error(com_train_labels, pipe.predict(com_train_features)))\n",
    "print(mean_absolute_percentage_error(test_labels, pipe.predict(test_features)))"
   ]
  },
  {
   "cell_type": "code",
   "execution_count": 14,
   "metadata": {
    "colab": {
     "base_uri": "https://localhost:8080/",
     "height": 282
    },
    "id": "O9nM01BvLU84",
    "outputId": "0c9dc01f-aea0-431f-9db6-46e764e718bd"
   },
   "outputs": [
    {
     "data": {
      "image/png": "[encoded data removed]",
      "text/plain": [
       "<Figure size 432x288 with 1 Axes>"
      ]
     },
     "metadata": {
      "needs_background": "light"
     },
     "output_type": "display_data"
    }
   ],
   "source": [
    "plt.plot(test_labels, pipe.predict(test_features), 'b*')\n",
    "plt.plot(test_labels, test_labels, 'g-')\n",
    "plt.show()"
   ]
  },
  {
   "cell_type": "code",
   "execution_count": null,
   "metadata": {},
   "outputs": [],
   "source": []
  },
  {
   "cell_type": "markdown",
   "metadata": {},
   "source": [
    "# END"
   ]
  }
 ],
 "metadata": {
  "kernelspec": {
   "display_name": "Python 3",
   "language": "python",
   "name": "python3"
  },
  "language_info": {
   "codemirror_mode": {
    "name": "ipython",
    "version": 3
   },
   "file_extension": ".py",
   "mimetype": "text/x-python",
   "name": "python",
   "nbconvert_exporter": "python",
   "pygments_lexer": "ipython3",
   "version": "3.8.3"
  }
 },
 "nbformat": 4,
 "nbformat_minor": 4
}
