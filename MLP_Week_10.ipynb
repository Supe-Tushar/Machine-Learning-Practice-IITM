{
 "cells": [
  {
   "cell_type": "markdown",
   "metadata": {},
   "source": [
    "# IITM - MLP - Week 10 (Dont run: Takes hours)"
   ]
  },
  {
   "cell_type": "markdown",
   "metadata": {},
   "source": [
    "## Imports"
   ]
  },
  {
   "cell_type": "code",
   "execution_count": 28,
   "metadata": {},
   "outputs": [],
   "source": [
    "# ---------- Common ------------\n",
    "import os, time, json, random, ast\n",
    "from datetime import datetime ; from collections import Counter; from pprint import pprint; from statistics import mode\n",
    "\n",
    "# ---------- Data Manipulation ------------\n",
    "import pandas as pd; import numpy as np\n",
    "\n",
    "# ---------- Data Visualization ------------\n",
    "from pandas.plotting import scatter_matrix\n",
    "from pandas.core import missing\n",
    "import matplotlib as mpl; from matplotlib import pyplot as plt; from matplotlib.colors import ListedColormap\n",
    "%matplotlib inline\n",
    "import seaborn as sns\n",
    "import plotly.express as px\n",
    "\n",
    "# ---------- Sklearn ------------\n",
    "from sklearn import set_config\n",
    "\n",
    "from sklearn.model_selection import train_test_split, StratifiedShuffleSplit, cross_val_score, cross_validate, cross_val_predict, validation_curve, learning_curve, ShuffleSplit, GridSearchCV, RandomizedSearchCV, KFold, RepeatedKFold, permutation_test_score\n",
    "from sklearn.preprocessing import add_dummy_feature, OrdinalEncoder, OneHotEncoder, LabelBinarizer, LabelEncoder, MultiLabelBinarizer, MinMaxScaler, MaxAbsScaler, StandardScaler, FunctionTransformer, PolynomialFeatures, KBinsDiscretizer\n",
    "from sklearn.linear_model import LinearRegression, LogisticRegression, LogisticRegressionCV, SGDRegressor, Ridge, RidgeCV, Lasso, LassoCV, Perceptron, SGDClassifier, RidgeClassifier\n",
    "from sklearn.metrics import mean_squared_error, mean_absolute_percentage_error, explained_variance_score, max_error, mean_absolute_error, r2_score, confusion_matrix, plot_confusion_matrix, ConfusionMatrixDisplay, roc_curve, roc_auc_score, plot_roc_curve, precision_recall_curve, accuracy_score, precision_score, recall_score, f1_score, accuracy_score, classification_report, hinge_loss, make_scorer, log_loss\n",
    "from sklearn.feature_selection import VarianceThreshold, SelectPercentile, SelectKBest, GenericUnivariateSelect, mutual_info_classif, mutual_info_regression, chi2, f_classif, f_regression, RFE, RFECV, SequentialFeatureSelector, SelectFromModel\n",
    "from sklearn.datasets import load_iris, fetch_california_housing, make_blobs, make_regression, make_classification, make_multilabel_classification, fetch_openml\n",
    "\n",
    "from sklearn.tree import export_text, DecisionTreeRegressor, DecisionTreeClassifier\n",
    "from sklearn import tree\n",
    "from sklearn.ensemble import BaggingClassifier, BaggingRegressor, RandomForestRegressor, RandomForestClassifier, AdaBoostClassifier, AdaBoostRegressor, GradientBoostingClassifier, GradientBoostingRegressor\n",
    "from sklearn.svm import SVC\n",
    "from sklearn.neighbors import NearestNeighbors, KNeighborsClassifier\n",
    "from sklearn.dummy import DummyClassifier, DummyRegressor\n",
    "from sklearn.impute import KNNImputer, SimpleImputer\n",
    "from sklearn.pipeline import Pipeline, FeatureUnion\n",
    "from sklearn.compose import ColumnTransformer, TransformedTargetRegressor\n",
    "from sklearn.base import BaseEstimator, TransformerMixin\n",
    "from sklearn.decomposition import PCA\n",
    "from sklearn.feature_extraction import DictVectorizer\n",
    "\n",
    "# ---------- Keras dataset --------\n",
    "# from keras.datasets import mnist # takes time for loading data\n",
    "\n",
    "# ---------- Imblearn ------------\n",
    "from imblearn.under_sampling import RandomUnderSampler\n",
    "from imblearn.over_sampling import RandomOverSampler, SMOTE\n",
    "\n",
    "# ---------- Scipy ------------\n",
    "from scipy import stats\n",
    "from scipy.stats import pearsonr, spearmanr, kendalltau, loguniform, uniform\n",
    "\n",
    "# ---------- Extras ------------\n",
    "import pickle\n",
    "# pickle.dump(model, open(filename, 'wb'))\n",
    "# loaded_model = pickle.load(open(filename, 'rb'))\n",
    "\n",
    "import tempfile\n",
    "\n",
    "import warnings\n",
    "warnings.filterwarnings(\"ignore\")  # supress all warning (use with care)"
   ]
  },
  {
   "cell_type": "code",
   "execution_count": 29,
   "metadata": {
    "id": "LTHjoBc_s2bf"
   },
   "outputs": [],
   "source": [
    "from xgboost import XGBClassifier, XGBRegressor \n",
    "# extreme gradient boosting : xgboost"
   ]
  },
  {
   "cell_type": "markdown",
   "metadata": {},
   "source": [
    "## Presets"
   ]
  },
  {
   "cell_type": "code",
   "execution_count": 30,
   "metadata": {},
   "outputs": [],
   "source": [
    "pd.set_option('display.max_rows', 50)\n",
    "pd.set_option('display.max_columns', None)\n",
    "\n",
    "plt.style.use('seaborn')\n",
    "sns.set_theme(style=\"whitegrid\")\n",
    "# custom_params = {\"axes.spines.right\": False, \"axes.spines.top\": False}\n",
    "# sns.set_theme(style=\"ticks\", rc=custom_params)\n",
    "\n",
    "# set_config(display='diagram')\n",
    "\n",
    "np.random.seed(306)\n",
    "cv = ShuffleSplit(n_splits=10, test_size=0.2, random_state=42)\n",
    "\n",
    "mpl.rc(\"axes\", labelsize=14)\n",
    "mpl.rc(\"xtick\", labelsize=12)\n",
    "mpl.rc(\"ytick\", labelsize=12)\n",
    "# mpl.rc(\"figure\", figsize=(8,6))"
   ]
  },
  {
   "cell_type": "markdown",
   "metadata": {},
   "source": [
    "# Load MNIST data from keras"
   ]
  },
  {
   "cell_type": "code",
   "execution_count": 4,
   "metadata": {},
   "outputs": [
    {
     "name": "stdout",
     "output_type": "stream",
     "text": [
      "(60000, 28, 28) (60000,) (10000, 28, 28) (10000,)\n",
      "(60000, 784) (60000,) (10000, 784) (10000,)\n"
     ]
    }
   ],
   "source": [
    "# from keras.datasets import mnist\n",
    "\n",
    "(X_train, y_train), (X_test, y_test) = mnist.load_data()\n",
    "\n",
    "print(X_train.shape, y_train.shape, X_test.shape, y_test.shape)\n",
    "\n",
    "# Flattening 28 * 28 pixels to 784 features.\n",
    "X_train = X_train.reshape(60000, 28 * 28)\n",
    "X_test = X_test.reshape(10000, 28 * 28)\n",
    "\n",
    "X_train = X_train/255\n",
    "X_test = X_test/255\n",
    "\n",
    "print(X_train.shape, y_train.shape, X_test.shape, y_test.shape)"
   ]
  },
  {
   "cell_type": "markdown",
   "metadata": {},
   "source": [
    "# Load California Housing Dataset"
   ]
  },
  {
   "cell_type": "code",
   "execution_count": 13,
   "metadata": {
    "id": "7DTtszIqHeFO"
   },
   "outputs": [],
   "source": [
    "features, labels = fetch_california_housing(as_frame=True, return_X_y=True)\n",
    "labels *= 100"
   ]
  },
  {
   "cell_type": "code",
   "execution_count": 14,
   "metadata": {
    "id": "oA1Ia1SfHyn3"
   },
   "outputs": [],
   "source": [
    "com_train_features, test_features, com_train_labels, test_labels = train_test_split(features, labels, random_state=42)\n",
    "train_features, dev_features, train_labels, dev_labels = train_test_split(com_train_features, com_train_labels, random_state=42)"
   ]
  },
  {
   "cell_type": "markdown",
   "metadata": {},
   "source": [
    "# Common Functions"
   ]
  },
  {
   "cell_type": "code",
   "execution_count": 11,
   "metadata": {
    "id": "I8nbW4vJDsYy"
   },
   "outputs": [],
   "source": [
    "def train_classifiers(estimator, X_train, y_train, cv, name):\n",
    "    estimator.fit(X_train, y_train)\n",
    "    cv_train_score = cross_val_score(estimator, X_train, y_train, cv=cv, scoring='f1_macro')\n",
    "    print(f\"\\nOn an average, {name} model has f1 score of {cv_train_score.mean():.3f} +/- {cv_train_score.std():.3f} on training set\\n\")"
   ]
  },
  {
   "cell_type": "code",
   "execution_count": 10,
   "metadata": {
    "id": "vFdEt3HsEPoc"
   },
   "outputs": [],
   "source": [
    "def eval_(estimator, X_test, y_test):\n",
    "    y_pred = estimator.predict(X_test)\n",
    "    \n",
    "    print(f\"\\n# Classification report:\\n{classification_report(y_test, y_pred)}\\n\")\n",
    "    \n",
    "    print(f\"\\n# Confusion Matrix:\\n\")\n",
    "    disp = ConfusionMatrixDisplay(confusion_matrix=confusion_matrix(y_test, y_pred))\n",
    "    disp.plot()\n",
    "    plt.grid(False)\n",
    "    plt.title('Çonfusion Matrix')\n",
    "    plt.show()  "
   ]
  },
  {
   "cell_type": "code",
   "execution_count": 15,
   "metadata": {
    "id": "OiNlvaHsIKzT"
   },
   "outputs": [],
   "source": [
    "def train_regressor(estimator, X_train, y_train, cv, name):\n",
    "    cv_results = cross_validate(estimator, \n",
    "                                X_train, \n",
    "                                y_train, \n",
    "                                cv=cv, \n",
    "                                scoring='neg_mean_absolute_error', \n",
    "                                return_train_score=True, \n",
    "                                return_estimator=True)\n",
    "    \n",
    "    cv_train_error = -1 * (cv_results['train_score'])\n",
    "    cv_test_error = -1 * (cv_results['test_score'])\n",
    "    \n",
    "    print(f'On an average, {name} makes an error of {cv_train_error.mean():.3f}k +/- {cv_train_error.std():.3f}k on the training set')\n",
    "    print(f'On an average, {name} makes an error of {cv_test_error.mean():.3f}k +/- {cv_test_error.std():.3f}k on the test set')"
   ]
  },
  {
   "cell_type": "markdown",
   "metadata": {},
   "source": [
    "# Decision tree, Bagging, Random Forest Classifier : MNIST"
   ]
  },
  {
   "cell_type": "markdown",
   "metadata": {},
   "source": [
    "Bagging Classifier: uses decision tree as a default classifier and trains multiple decision treee classifier on different bags ontaoned through bootstrap sampling of training set\n",
    "\n",
    "Random Forest classifier: its also a bagging technique which trains different decision treee classifier by randomly selecting attributes for splitting on bags of bootstrap sample of training set"
   ]
  },
  {
   "cell_type": "markdown",
   "metadata": {
    "id": "C57G3qQwEoqn"
   },
   "source": [
    "## Decision Trees"
   ]
  },
  {
   "cell_type": "code",
   "execution_count": 12,
   "metadata": {
    "id": "0cCFKFGuEtiH"
   },
   "outputs": [
    {
     "name": "stdout",
     "output_type": "stream",
     "text": [
      "\n",
      "On an average, decision tree model has f1 score of 0.867 +/- 0.003 on training set\n",
      "\n",
      "\n",
      "# Classification report:\n",
      "              precision    recall  f1-score   support\n",
      "\n",
      "           0       0.91      0.94      0.92       980\n",
      "           1       0.95      0.96      0.96      1135\n",
      "           2       0.87      0.86      0.86      1032\n",
      "           3       0.83      0.84      0.84      1010\n",
      "           4       0.87      0.88      0.88       982\n",
      "           5       0.83      0.83      0.83       892\n",
      "           6       0.89      0.88      0.89       958\n",
      "           7       0.92      0.90      0.91      1028\n",
      "           8       0.82      0.80      0.81       974\n",
      "           9       0.84      0.85      0.85      1009\n",
      "\n",
      "    accuracy                           0.88     10000\n",
      "   macro avg       0.87      0.87      0.87     10000\n",
      "weighted avg       0.88      0.88      0.88     10000\n",
      "\n",
      "\n",
      "\n",
      "# Confusion Matrix:\n",
      "\n"
     ]
    },
    {
     "data": {
      "image/png": "[encoded data removed]",
      "text/plain": [
       "<Figure size 576x396 with 2 Axes>"
      ]
     },
     "metadata": {},
     "output_type": "display_data"
    }
   ],
   "source": [
    "dt_pipeline = Pipeline([('classifier', DecisionTreeClassifier())])\n",
    "\n",
    "train_classifiers(dt_pipeline, X_train, y_train, cv, \"decision tree\")\n",
    "eval_(dt_pipeline, X_test, y_test)"
   ]
  },
  {
   "cell_type": "markdown",
   "metadata": {
    "id": "wZxS7PdUXYM9"
   },
   "source": [
    "## Bagging"
   ]
  },
  {
   "cell_type": "code",
   "execution_count": 20,
   "metadata": {
    "id": "sftwSAVcXa7S"
   },
   "outputs": [
    {
     "name": "stdout",
     "output_type": "stream",
     "text": [
      "\n",
      "On an average, bagging model has f1 score of 0.936 +/- 0.004 on training set\n",
      "\n",
      "\n",
      "# Classification report:\n",
      "              precision    recall  f1-score   support\n",
      "\n",
      "           0       0.94      0.98      0.96       980\n",
      "           1       0.97      0.98      0.98      1135\n",
      "           2       0.92      0.94      0.93      1032\n",
      "           3       0.92      0.92      0.92      1010\n",
      "           4       0.94      0.94      0.94       982\n",
      "           5       0.92      0.92      0.92       892\n",
      "           6       0.96      0.95      0.95       958\n",
      "           7       0.96      0.95      0.95      1028\n",
      "           8       0.92      0.91      0.91       974\n",
      "           9       0.95      0.91      0.93      1009\n",
      "\n",
      "    accuracy                           0.94     10000\n",
      "   macro avg       0.94      0.94      0.94     10000\n",
      "weighted avg       0.94      0.94      0.94     10000\n",
      "\n",
      "\n",
      "\n",
      "# Confusion Matrix:\n",
      "\n"
     ]
    },
    {
     "data": {
      "image/png": "[encoded data removed]",
      "text/plain": [
       "<Figure size 576x396 with 2 Axes>"
      ]
     },
     "metadata": {},
     "output_type": "display_data"
    }
   ],
   "source": [
    "bagging_pipeline = Pipeline([('classifier', BaggingClassifier())])\n",
    "\n",
    "train_classifiers(bagging_pipeline, X_train, y_train, cv, 'bagging')\n",
    "eval_(bagging_pipeline, X_test, y_test)"
   ]
  },
  {
   "cell_type": "markdown",
   "metadata": {
    "id": "tbKvdMeHX1wt"
   },
   "source": [
    "## Random Forest"
   ]
  },
  {
   "cell_type": "code",
   "execution_count": 21,
   "metadata": {
    "id": "W01QqaebX1wt"
   },
   "outputs": [
    {
     "name": "stdout",
     "output_type": "stream",
     "text": [
      "\n",
      "On an average, random forest model has f1 score of 0.967 +/- 0.002 on training set\n",
      "\n",
      "\n",
      "# Classification report:\n",
      "              precision    recall  f1-score   support\n",
      "\n",
      "           0       0.97      0.99      0.98       980\n",
      "           1       0.99      0.99      0.99      1135\n",
      "           2       0.96      0.97      0.96      1032\n",
      "           3       0.96      0.97      0.96      1010\n",
      "           4       0.97      0.97      0.97       982\n",
      "           5       0.97      0.96      0.97       892\n",
      "           6       0.98      0.98      0.98       958\n",
      "           7       0.97      0.96      0.97      1028\n",
      "           8       0.96      0.95      0.96       974\n",
      "           9       0.96      0.95      0.95      1009\n",
      "\n",
      "    accuracy                           0.97     10000\n",
      "   macro avg       0.97      0.97      0.97     10000\n",
      "weighted avg       0.97      0.97      0.97     10000\n",
      "\n",
      "\n",
      "\n",
      "# Confusion Matrix:\n",
      "\n"
     ]
    },
    {
     "data": {
      "image/png": "[encoded data removed]",
      "text/plain": [
       "<Figure size 576x396 with 2 Axes>"
      ]
     },
     "metadata": {},
     "output_type": "display_data"
    }
   ],
   "source": [
    "rf_pipeline = Pipeline([('classifier', RandomForestClassifier())])\n",
    "\n",
    "train_classifiers(rf_pipeline, X_train, y_train, cv, 'random forest')\n",
    "eval_(rf_pipeline, X_test, y_test)\n",
    "\n",
    "# random forest gives 97% accuracy and similar accuracy was obtained using K nearest neighbours (Week 7, 8)"
   ]
  },
  {
   "cell_type": "markdown",
   "metadata": {},
   "source": [
    "# Bagging, Random Forest Regresssor : California Housing"
   ]
  },
  {
   "cell_type": "code",
   "execution_count": 16,
   "metadata": {
    "id": "YV4HxEitI6ng"
   },
   "outputs": [
    {
     "name": "stdout",
     "output_type": "stream",
     "text": [
      "On an average, decision tree regressor makes an error of 0.000k +/- 0.000k on the training set\n",
      "On an average, decision tree regressor makes an error of 47.404k +/- 1.376k on the test set\n"
     ]
    }
   ],
   "source": [
    "train_regressor(DecisionTreeRegressor(), com_train_features, com_train_labels, cv, 'decision tree regressor') # overfitted"
   ]
  },
  {
   "cell_type": "code",
   "execution_count": 17,
   "metadata": {
    "id": "r7bN2zpyJHa_"
   },
   "outputs": [
    {
     "name": "stdout",
     "output_type": "stream",
     "text": [
      "On an average, bagging regressor makes an error of 14.417k +/- 0.137k on the training set\n",
      "On an average, bagging regressor makes an error of 35.270k +/- 0.784k on the test set\n"
     ]
    }
   ],
   "source": [
    "train_regressor(BaggingRegressor(), com_train_features, com_train_labels, cv, 'bagging regressor') # bagging helps to reduce varience or overfitting"
   ]
  },
  {
   "cell_type": "code",
   "execution_count": 18,
   "metadata": {
    "id": "PRj2qOaZJsXK"
   },
   "outputs": [
    {
     "name": "stdout",
     "output_type": "stream",
     "text": [
      "On an average, random forest regressor makes an error of 12.640k +/- 0.070k on the training set\n",
      "On an average, random forest regressor makes an error of 33.203k +/- 0.720k on the test set\n"
     ]
    }
   ],
   "source": [
    "train_regressor(RandomForestRegressor(), com_train_features, com_train_labels, cv, 'random forest regressor') # RF performs better than bagging"
   ]
  },
  {
   "cell_type": "markdown",
   "metadata": {
    "id": "PHGRpDKsSLlP"
   },
   "source": [
    "## Hyper-parameter tuning"
   ]
  },
  {
   "cell_type": "code",
   "execution_count": 22,
   "metadata": {
    "id": "hck-s8HNSPlL"
   },
   "outputs": [
    {
     "data": {
      "text/plain": [
       "RandomizedSearchCV(estimator=RandomForestRegressor(), n_jobs=-1,\n",
       "                   param_distributions={'max_leaf_nodes': [10, 50, 100],\n",
       "                                        'n_estimators': [5, 10, 50, 100, 500]},\n",
       "                   random_state=0, scoring='neg_mean_absolute_error')"
      ]
     },
     "execution_count": 22,
     "metadata": {},
     "output_type": "execute_result"
    }
   ],
   "source": [
    "param_distributions = {'n_estimators': [5,10,50,100,500], \n",
    "                       'max_leaf_nodes': [10,50,100]}\n",
    "\n",
    "search_cv = RandomizedSearchCV(RandomForestRegressor(), param_distributions=param_distributions, \n",
    "                               scoring='neg_mean_absolute_error', n_iter=10, random_state=0, n_jobs=-1)\n",
    "\n",
    "search_cv.fit(com_train_features, com_train_labels)"
   ]
  },
  {
   "cell_type": "code",
   "execution_count": 23,
   "metadata": {
    "id": "eOxDvxhHT9VF"
   },
   "outputs": [
    {
     "data": {
      "text/html": [
       "<div>\n",
       "<style scoped>\n",
       "    .dataframe tbody tr th:only-of-type {\n",
       "        vertical-align: middle;\n",
       "    }\n",
       "\n",
       "    .dataframe tbody tr th {\n",
       "        vertical-align: top;\n",
       "    }\n",
       "\n",
       "    .dataframe thead th {\n",
       "        text-align: right;\n",
       "    }\n",
       "</style>\n",
       "<table border=\"1\" class=\"dataframe\">\n",
       "  <thead>\n",
       "    <tr style=\"text-align: right;\">\n",
       "      <th></th>\n",
       "      <th>param_n_estimators</th>\n",
       "      <th>param_max_leaf_nodes</th>\n",
       "      <th>mean_test_error</th>\n",
       "      <th>std_test_error</th>\n",
       "    </tr>\n",
       "  </thead>\n",
       "  <tbody>\n",
       "    <tr>\n",
       "      <th>4</th>\n",
       "      <td>500</td>\n",
       "      <td>100</td>\n",
       "      <td>40.623029</td>\n",
       "      <td>-0.758790</td>\n",
       "    </tr>\n",
       "    <tr>\n",
       "      <th>7</th>\n",
       "      <td>100</td>\n",
       "      <td>100</td>\n",
       "      <td>40.681355</td>\n",
       "      <td>-0.760984</td>\n",
       "    </tr>\n",
       "    <tr>\n",
       "      <th>8</th>\n",
       "      <td>5</td>\n",
       "      <td>100</td>\n",
       "      <td>42.117232</td>\n",
       "      <td>-0.824251</td>\n",
       "    </tr>\n",
       "    <tr>\n",
       "      <th>3</th>\n",
       "      <td>500</td>\n",
       "      <td>50</td>\n",
       "      <td>43.744893</td>\n",
       "      <td>-0.791890</td>\n",
       "    </tr>\n",
       "    <tr>\n",
       "      <th>9</th>\n",
       "      <td>50</td>\n",
       "      <td>50</td>\n",
       "      <td>43.822022</td>\n",
       "      <td>-0.973701</td>\n",
       "    </tr>\n",
       "    <tr>\n",
       "      <th>2</th>\n",
       "      <td>100</td>\n",
       "      <td>50</td>\n",
       "      <td>43.844502</td>\n",
       "      <td>-0.883712</td>\n",
       "    </tr>\n",
       "    <tr>\n",
       "      <th>1</th>\n",
       "      <td>10</td>\n",
       "      <td>50</td>\n",
       "      <td>44.185876</td>\n",
       "      <td>-1.189415</td>\n",
       "    </tr>\n",
       "    <tr>\n",
       "      <th>6</th>\n",
       "      <td>50</td>\n",
       "      <td>10</td>\n",
       "      <td>54.929169</td>\n",
       "      <td>-1.247509</td>\n",
       "    </tr>\n",
       "    <tr>\n",
       "      <th>5</th>\n",
       "      <td>500</td>\n",
       "      <td>10</td>\n",
       "      <td>55.015869</td>\n",
       "      <td>-1.066362</td>\n",
       "    </tr>\n",
       "    <tr>\n",
       "      <th>0</th>\n",
       "      <td>10</td>\n",
       "      <td>10</td>\n",
       "      <td>55.472634</td>\n",
       "      <td>-0.755866</td>\n",
       "    </tr>\n",
       "  </tbody>\n",
       "</table>\n",
       "</div>"
      ],
      "text/plain": [
       "  param_n_estimators param_max_leaf_nodes  mean_test_error  std_test_error\n",
       "4                500                  100        40.623029       -0.758790\n",
       "7                100                  100        40.681355       -0.760984\n",
       "8                  5                  100        42.117232       -0.824251\n",
       "3                500                   50        43.744893       -0.791890\n",
       "9                 50                   50        43.822022       -0.973701\n",
       "2                100                   50        43.844502       -0.883712\n",
       "1                 10                   50        44.185876       -1.189415\n",
       "6                 50                   10        54.929169       -1.247509\n",
       "5                500                   10        55.015869       -1.066362\n",
       "0                 10                   10        55.472634       -0.755866"
      ]
     },
     "execution_count": 23,
     "metadata": {},
     "output_type": "execute_result"
    }
   ],
   "source": [
    "columns = [f'param_{name}' for name in param_distributions.keys()]\n",
    "columns += ['mean_test_error', 'std_test_error']\n",
    "cv_results = pd.DataFrame(search_cv.cv_results_)\n",
    "cv_results['mean_test_error'] = -cv_results['mean_test_score']\n",
    "cv_results['std_test_error'] = -cv_results['std_test_score']\n",
    "cv_results[columns].sort_values(by='mean_test_error')"
   ]
  },
  {
   "cell_type": "code",
   "execution_count": 24,
   "metadata": {
    "id": "AfvGQq_IVxUV"
   },
   "outputs": [
    {
     "name": "stdout",
     "output_type": "stream",
     "text": [
      "On average, our random forest regressor makes an error of  40.32k$\n"
     ]
    }
   ],
   "source": [
    "error = -search_cv.score(test_features, test_labels)\n",
    "print(f'On average, our random forest regressor makes an error of {error: .2f}k$')"
   ]
  },
  {
   "cell_type": "markdown",
   "metadata": {},
   "source": [
    "# AdaBoost, Gradient Boosting, XGBoost Classifier : MNIST"
   ]
  },
  {
   "cell_type": "markdown",
   "metadata": {
    "id": "unb4Qj2EsWJP"
   },
   "source": [
    "## AdaBoostClassifier"
   ]
  },
  {
   "cell_type": "code",
   "execution_count": 25,
   "metadata": {
    "id": "S9hRX3e8rsep"
   },
   "outputs": [
    {
     "name": "stdout",
     "output_type": "stream",
     "text": [
      "\n",
      "On an average, AdaBoostClassifier model has f1 score of 0.712 +/- 0.016 on training set\n",
      "\n",
      "\n",
      "# Classification report:\n",
      "              precision    recall  f1-score   support\n",
      "\n",
      "           0       0.84      0.90      0.87       980\n",
      "           1       0.85      0.94      0.90      1135\n",
      "           2       0.79      0.58      0.67      1032\n",
      "           3       0.68      0.67      0.68      1010\n",
      "           4       0.72      0.72      0.72       982\n",
      "           5       0.69      0.59      0.64       892\n",
      "           6       0.72      0.86      0.78       958\n",
      "           7       0.68      0.78      0.73      1028\n",
      "           8       0.66      0.68      0.67       974\n",
      "           9       0.62      0.55      0.58      1009\n",
      "\n",
      "    accuracy                           0.73     10000\n",
      "   macro avg       0.73      0.73      0.72     10000\n",
      "weighted avg       0.73      0.73      0.73     10000\n",
      "\n",
      "\n",
      "\n",
      "# Confusion Matrix:\n",
      "\n"
     ]
    },
    {
     "data": {
      "image/png": "[encoded data removed]",
      "text/plain": [
       "<Figure size 576x396 with 2 Axes>"
      ]
     },
     "metadata": {},
     "output_type": "display_data"
    }
   ],
   "source": [
    "abc_pipeline = Pipeline([('abc_classifier', AdaBoostClassifier())])\n",
    "\n",
    "train_classifiers(abc_pipeline, X_train, y_train, cv, 'AdaBoostClassifier')\n",
    "eval_(abc_pipeline, X_test, y_test)"
   ]
  },
  {
   "cell_type": "markdown",
   "metadata": {
    "id": "rkMB-Woesaef"
   },
   "source": [
    "## GradientBoostingClassifier (Takes hours)"
   ]
  },
  {
   "cell_type": "code",
   "execution_count": 27,
   "metadata": {
    "id": "jDo-skg5sfN7"
   },
   "outputs": [],
   "source": [
    "gbc_pipeline = Pipeline([('gbc_classifier', GradientBoostingClassifier())])\n",
    "\n",
    "train_classifiers(gbc_pipeline, X_train, y_train, cv, 'GradientBoostingClassifier')\n",
    "eval_(gbc_pipeline, X_test, y_test)"
   ]
  },
  {
   "cell_type": "markdown",
   "metadata": {
    "id": "iyS1c1fqsxmd"
   },
   "source": [
    "## XGBoost (Takes time)"
   ]
  },
  {
   "cell_type": "code",
   "execution_count": null,
   "metadata": {
    "id": "XZyUqALhs8N-"
   },
   "outputs": [],
   "source": [
    "xbc_pipeline = Pipeline([('xbc_classifier', XGBClassifier())])\n",
    "\n",
    "train_classifiers(xbc_pipeline, X_train, y_train, cv, 'XGBClassifier')\n",
    "eval_(xbc_pipeline, X_test, y_test)"
   ]
  },
  {
   "cell_type": "markdown",
   "metadata": {},
   "source": [
    "# AdaBoost, Gradient Boosting, XGBoost Regresssor : California Housing"
   ]
  },
  {
   "cell_type": "markdown",
   "metadata": {
    "id": "dTt8PAicw6v6"
   },
   "source": [
    "## AdaBoostRegressor"
   ]
  },
  {
   "cell_type": "code",
   "execution_count": 31,
   "metadata": {
    "id": "k1XhEKdiw5lW"
   },
   "outputs": [
    {
     "name": "stdout",
     "output_type": "stream",
     "text": [
      "On an average, AdaBoostRegressor makes an error of 73.263k +/- 6.031k on the training set\n",
      "On an average, AdaBoostRegressor makes an error of 73.623k +/- 6.057k on the test set\n"
     ]
    }
   ],
   "source": [
    "train_regressor(AdaBoostRegressor(), \n",
    "                com_train_features, \n",
    "                com_train_labels, \n",
    "                cv, \n",
    "                'AdaBoostRegressor')"
   ]
  },
  {
   "cell_type": "code",
   "execution_count": 32,
   "metadata": {
    "id": "aWptFaedxVfC"
   },
   "outputs": [
    {
     "name": "stdout",
     "output_type": "stream",
     "text": [
      "On an average, GradientBoostingRegressor makes an error of 35.394k +/- 0.273k on the training set\n",
      "On an average, GradientBoostingRegressor makes an error of 36.773k +/- 0.723k on the test set\n"
     ]
    }
   ],
   "source": [
    "train_regressor(GradientBoostingRegressor(), \n",
    "                com_train_features, \n",
    "                com_train_labels, \n",
    "                cv, \n",
    "                'GradientBoostingRegressor')"
   ]
  },
  {
   "cell_type": "code",
   "execution_count": 33,
   "metadata": {
    "id": "A5IrknNJxdTL"
   },
   "outputs": [
    {
     "name": "stdout",
     "output_type": "stream",
     "text": [
      "On an average, XGBRegressor makes an error of 18.308k +/- 0.182k on the training set\n",
      "On an average, XGBRegressor makes an error of 31.845k +/- 0.753k on the test set\n"
     ]
    }
   ],
   "source": [
    "train_regressor(XGBRegressor(objective='reg:squarederror'), \n",
    "                com_train_features, \n",
    "                com_train_labels, \n",
    "                cv, \n",
    "                'XGBRegressor')"
   ]
  },
  {
   "cell_type": "markdown",
   "metadata": {},
   "source": [
    "# Exercise: Fine tune : Decision tree, Random forest, Bagging, AdaBoost, Gradient Boosting, XGBoost on MNIST and California Housing"
   ]
  },
  {
   "cell_type": "markdown",
   "metadata": {},
   "source": [
    "# Assignment"
   ]
  },
  {
   "cell_type": "markdown",
   "metadata": {},
   "source": [
    "## Q1,Q2,Q3 and Q4"
   ]
  },
  {
   "cell_type": "markdown",
   "metadata": {},
   "source": [
    "Used Cars Price Prediction dataset: https://drive.google.com/uc?export=download&id=1tKqddJuIiRqrm7ml2qyVGJlAW3JQjaZX\n",
    "</br>The target variable is 'MSRP'.\n",
    "\n",
    "Remove the rows that contain NULL values.\n",
    "</br>Drop 'Invoice' feature.\n",
    "</br>Preprocess to remove comma and dollar sign from MSRP (and cast its type as integer).\n",
    "</br>Use Pandas.get_dummies() on the categorical features : 'Make','Model','Type','Origin', 'DriveTrain'\n",
    "</br>Split the data into X and y and then train and test subsets using 70:30 ratio with \n",
    "</br>random_state = 1\n",
    "\n",
    "Train the model using the following (All with default values and random_state = 1):\n",
    "</br>BaggingRegressor\n",
    "</br>RandomForestRegressor\n",
    "</br>GradientBoostingRegressor\n",
    "</br>AdaBoostRegressor"
   ]
  },
  {
   "cell_type": "code",
   "execution_count": 14,
   "metadata": {
    "collapsed": true,
    "jupyter": {
     "outputs_hidden": true
    }
   },
   "outputs": [
    {
     "data": {
      "text/html": [
       "<div>\n",
       "<style scoped>\n",
       "    .dataframe tbody tr th:only-of-type {\n",
       "        vertical-align: middle;\n",
       "    }\n",
       "\n",
       "    .dataframe tbody tr th {\n",
       "        vertical-align: top;\n",
       "    }\n",
       "\n",
       "    .dataframe thead th {\n",
       "        text-align: right;\n",
       "    }\n",
       "</style>\n",
       "<table border=\"1\" class=\"dataframe\">\n",
       "  <thead>\n",
       "    <tr style=\"text-align: right;\">\n",
       "      <th></th>\n",
       "      <th>Make</th>\n",
       "      <th>Model</th>\n",
       "      <th>Type</th>\n",
       "      <th>Origin</th>\n",
       "      <th>DriveTrain</th>\n",
       "      <th>Invoice</th>\n",
       "      <th>EngineSize</th>\n",
       "      <th>Cylinders</th>\n",
       "      <th>Horsepower</th>\n",
       "      <th>MPG_City</th>\n",
       "      <th>MPG_Highway</th>\n",
       "      <th>Weight</th>\n",
       "      <th>Wheelbase</th>\n",
       "      <th>Length</th>\n",
       "      <th>MSRP</th>\n",
       "    </tr>\n",
       "  </thead>\n",
       "  <tbody>\n",
       "    <tr>\n",
       "      <th>0</th>\n",
       "      <td>Acura</td>\n",
       "      <td>MDX</td>\n",
       "      <td>SUV</td>\n",
       "      <td>Asia</td>\n",
       "      <td>All</td>\n",
       "      <td>$33,337</td>\n",
       "      <td>3.5</td>\n",
       "      <td>6.0</td>\n",
       "      <td>265</td>\n",
       "      <td>17</td>\n",
       "      <td>23</td>\n",
       "      <td>4451</td>\n",
       "      <td>106</td>\n",
       "      <td>189</td>\n",
       "      <td>$36,945</td>\n",
       "    </tr>\n",
       "    <tr>\n",
       "      <th>1</th>\n",
       "      <td>Acura</td>\n",
       "      <td>RSX Type S 2dr</td>\n",
       "      <td>Sedan</td>\n",
       "      <td>Asia</td>\n",
       "      <td>Front</td>\n",
       "      <td>$21,761</td>\n",
       "      <td>2.0</td>\n",
       "      <td>4.0</td>\n",
       "      <td>200</td>\n",
       "      <td>24</td>\n",
       "      <td>31</td>\n",
       "      <td>2778</td>\n",
       "      <td>101</td>\n",
       "      <td>172</td>\n",
       "      <td>$23,820</td>\n",
       "    </tr>\n",
       "    <tr>\n",
       "      <th>2</th>\n",
       "      <td>Acura</td>\n",
       "      <td>TSX 4dr</td>\n",
       "      <td>Sedan</td>\n",
       "      <td>Asia</td>\n",
       "      <td>Front</td>\n",
       "      <td>$24,647</td>\n",
       "      <td>2.4</td>\n",
       "      <td>4.0</td>\n",
       "      <td>200</td>\n",
       "      <td>22</td>\n",
       "      <td>29</td>\n",
       "      <td>3230</td>\n",
       "      <td>105</td>\n",
       "      <td>183</td>\n",
       "      <td>$26,990</td>\n",
       "    </tr>\n",
       "    <tr>\n",
       "      <th>3</th>\n",
       "      <td>Acura</td>\n",
       "      <td>TL 4dr</td>\n",
       "      <td>Sedan</td>\n",
       "      <td>Asia</td>\n",
       "      <td>Front</td>\n",
       "      <td>$30,299</td>\n",
       "      <td>3.2</td>\n",
       "      <td>6.0</td>\n",
       "      <td>270</td>\n",
       "      <td>20</td>\n",
       "      <td>28</td>\n",
       "      <td>3575</td>\n",
       "      <td>108</td>\n",
       "      <td>186</td>\n",
       "      <td>$33,195</td>\n",
       "    </tr>\n",
       "    <tr>\n",
       "      <th>4</th>\n",
       "      <td>Acura</td>\n",
       "      <td>3.5 RL 4dr</td>\n",
       "      <td>Sedan</td>\n",
       "      <td>Asia</td>\n",
       "      <td>Front</td>\n",
       "      <td>$39,014</td>\n",
       "      <td>3.5</td>\n",
       "      <td>6.0</td>\n",
       "      <td>225</td>\n",
       "      <td>18</td>\n",
       "      <td>24</td>\n",
       "      <td>3880</td>\n",
       "      <td>115</td>\n",
       "      <td>197</td>\n",
       "      <td>$43,755</td>\n",
       "    </tr>\n",
       "  </tbody>\n",
       "</table>\n",
       "</div>"
      ],
      "text/plain": [
       "    Make           Model   Type Origin DriveTrain  Invoice  EngineSize  \\\n",
       "0  Acura             MDX    SUV   Asia        All  $33,337         3.5   \n",
       "1  Acura  RSX Type S 2dr  Sedan   Asia      Front  $21,761         2.0   \n",
       "2  Acura         TSX 4dr  Sedan   Asia      Front  $24,647         2.4   \n",
       "3  Acura          TL 4dr  Sedan   Asia      Front  $30,299         3.2   \n",
       "4  Acura      3.5 RL 4dr  Sedan   Asia      Front  $39,014         3.5   \n",
       "\n",
       "   Cylinders  Horsepower  MPG_City  MPG_Highway  Weight  Wheelbase  Length  \\\n",
       "0        6.0         265        17           23    4451        106     189   \n",
       "1        4.0         200        24           31    2778        101     172   \n",
       "2        4.0         200        22           29    3230        105     183   \n",
       "3        6.0         270        20           28    3575        108     186   \n",
       "4        6.0         225        18           24    3880        115     197   \n",
       "\n",
       "      MSRP  \n",
       "0  $36,945  \n",
       "1  $23,820  \n",
       "2  $26,990  \n",
       "3  $33,195  \n",
       "4  $43,755  "
      ]
     },
     "execution_count": 14,
     "metadata": {},
     "output_type": "execute_result"
    }
   ],
   "source": [
    "df = pd.read_csv(\"wk_10_cars_data.csv\")\n",
    "df = df[['Make', 'Model', 'Type', 'Origin', 'DriveTrain', 'Invoice', 'EngineSize', 'Cylinders', 'Horsepower', \n",
    "         'MPG_City', 'MPG_Highway', 'Weight', 'Wheelbase', 'Length', 'MSRP']]\n",
    "df.head()"
   ]
  },
  {
   "cell_type": "code",
   "execution_count": 16,
   "metadata": {},
   "outputs": [
    {
     "data": {
      "text/plain": [
       "(428, 15)"
      ]
     },
     "execution_count": 16,
     "metadata": {},
     "output_type": "execute_result"
    }
   ],
   "source": [
    "df.shape"
   ]
  },
  {
   "cell_type": "code",
   "execution_count": 15,
   "metadata": {
    "collapsed": true,
    "jupyter": {
     "outputs_hidden": true
    }
   },
   "outputs": [
    {
     "name": "stdout",
     "output_type": "stream",
     "text": [
      "<class 'pandas.core.frame.DataFrame'>\n",
      "RangeIndex: 428 entries, 0 to 427\n",
      "Data columns (total 15 columns):\n",
      " #   Column       Non-Null Count  Dtype  \n",
      "---  ------       --------------  -----  \n",
      " 0   Make         428 non-null    object \n",
      " 1   Model        428 non-null    object \n",
      " 2   Type         428 non-null    object \n",
      " 3   Origin       428 non-null    object \n",
      " 4   DriveTrain   428 non-null    object \n",
      " 5   Invoice      428 non-null    object \n",
      " 6   EngineSize   428 non-null    float64\n",
      " 7   Cylinders    426 non-null    float64\n",
      " 8   Horsepower   428 non-null    int64  \n",
      " 9   MPG_City     428 non-null    int64  \n",
      " 10  MPG_Highway  428 non-null    int64  \n",
      " 11  Weight       428 non-null    int64  \n",
      " 12  Wheelbase    428 non-null    int64  \n",
      " 13  Length       428 non-null    int64  \n",
      " 14  MSRP         428 non-null    object \n",
      "dtypes: float64(2), int64(6), object(7)\n",
      "memory usage: 50.3+ KB\n"
     ]
    }
   ],
   "source": [
    "df.info()"
   ]
  },
  {
   "cell_type": "code",
   "execution_count": 18,
   "metadata": {},
   "outputs": [
    {
     "data": {
      "text/html": [
       "<div>\n",
       "<style scoped>\n",
       "    .dataframe tbody tr th:only-of-type {\n",
       "        vertical-align: middle;\n",
       "    }\n",
       "\n",
       "    .dataframe tbody tr th {\n",
       "        vertical-align: top;\n",
       "    }\n",
       "\n",
       "    .dataframe thead th {\n",
       "        text-align: right;\n",
       "    }\n",
       "</style>\n",
       "<table border=\"1\" class=\"dataframe\">\n",
       "  <thead>\n",
       "    <tr style=\"text-align: right;\">\n",
       "      <th></th>\n",
       "      <th>Make</th>\n",
       "      <th>Model</th>\n",
       "      <th>Type</th>\n",
       "      <th>Origin</th>\n",
       "      <th>DriveTrain</th>\n",
       "      <th>Invoice</th>\n",
       "      <th>EngineSize</th>\n",
       "      <th>Cylinders</th>\n",
       "      <th>Horsepower</th>\n",
       "      <th>MPG_City</th>\n",
       "      <th>MPG_Highway</th>\n",
       "      <th>Weight</th>\n",
       "      <th>Wheelbase</th>\n",
       "      <th>Length</th>\n",
       "      <th>MSRP</th>\n",
       "    </tr>\n",
       "  </thead>\n",
       "  <tbody>\n",
       "    <tr>\n",
       "      <th>0</th>\n",
       "      <td>0</td>\n",
       "      <td>0</td>\n",
       "      <td>0</td>\n",
       "      <td>0</td>\n",
       "      <td>0</td>\n",
       "      <td>0</td>\n",
       "      <td>0</td>\n",
       "      <td>2</td>\n",
       "      <td>0</td>\n",
       "      <td>0</td>\n",
       "      <td>0</td>\n",
       "      <td>0</td>\n",
       "      <td>0</td>\n",
       "      <td>0</td>\n",
       "      <td>0</td>\n",
       "    </tr>\n",
       "  </tbody>\n",
       "</table>\n",
       "</div>"
      ],
      "text/plain": [
       "   Make  Model  Type  Origin  DriveTrain  Invoice  EngineSize  Cylinders  \\\n",
       "0     0      0     0       0           0        0           0          2   \n",
       "\n",
       "   Horsepower  MPG_City  MPG_Highway  Weight  Wheelbase  Length  MSRP  \n",
       "0           0         0            0       0          0       0     0  "
      ]
     },
     "execution_count": 18,
     "metadata": {},
     "output_type": "execute_result"
    }
   ],
   "source": [
    "df.isna().sum().to_frame().T"
   ]
  },
  {
   "cell_type": "code",
   "execution_count": 19,
   "metadata": {},
   "outputs": [
    {
     "data": {
      "text/plain": [
       "(426, 15)"
      ]
     },
     "execution_count": 19,
     "metadata": {},
     "output_type": "execute_result"
    }
   ],
   "source": [
    "df.dropna(inplace=True)\n",
    "df.shape"
   ]
  },
  {
   "cell_type": "code",
   "execution_count": 20,
   "metadata": {},
   "outputs": [
    {
     "data": {
      "text/html": [
       "<div>\n",
       "<style scoped>\n",
       "    .dataframe tbody tr th:only-of-type {\n",
       "        vertical-align: middle;\n",
       "    }\n",
       "\n",
       "    .dataframe tbody tr th {\n",
       "        vertical-align: top;\n",
       "    }\n",
       "\n",
       "    .dataframe thead th {\n",
       "        text-align: right;\n",
       "    }\n",
       "</style>\n",
       "<table border=\"1\" class=\"dataframe\">\n",
       "  <thead>\n",
       "    <tr style=\"text-align: right;\">\n",
       "      <th></th>\n",
       "      <th>Make</th>\n",
       "      <th>Model</th>\n",
       "      <th>Type</th>\n",
       "      <th>Origin</th>\n",
       "      <th>DriveTrain</th>\n",
       "      <th>Invoice</th>\n",
       "      <th>EngineSize</th>\n",
       "      <th>Cylinders</th>\n",
       "      <th>Horsepower</th>\n",
       "      <th>MPG_City</th>\n",
       "      <th>MPG_Highway</th>\n",
       "      <th>Weight</th>\n",
       "      <th>Wheelbase</th>\n",
       "      <th>Length</th>\n",
       "      <th>MSRP</th>\n",
       "    </tr>\n",
       "  </thead>\n",
       "  <tbody>\n",
       "    <tr>\n",
       "      <th>0</th>\n",
       "      <td>0</td>\n",
       "      <td>0</td>\n",
       "      <td>0</td>\n",
       "      <td>0</td>\n",
       "      <td>0</td>\n",
       "      <td>0</td>\n",
       "      <td>0</td>\n",
       "      <td>0</td>\n",
       "      <td>0</td>\n",
       "      <td>0</td>\n",
       "      <td>0</td>\n",
       "      <td>0</td>\n",
       "      <td>0</td>\n",
       "      <td>0</td>\n",
       "      <td>0</td>\n",
       "    </tr>\n",
       "  </tbody>\n",
       "</table>\n",
       "</div>"
      ],
      "text/plain": [
       "   Make  Model  Type  Origin  DriveTrain  Invoice  EngineSize  Cylinders  \\\n",
       "0     0      0     0       0           0        0           0          0   \n",
       "\n",
       "   Horsepower  MPG_City  MPG_Highway  Weight  Wheelbase  Length  MSRP  \n",
       "0           0         0            0       0          0       0     0  "
      ]
     },
     "execution_count": 20,
     "metadata": {},
     "output_type": "execute_result"
    }
   ],
   "source": [
    "df.isna().sum().to_frame().T"
   ]
  },
  {
   "cell_type": "code",
   "execution_count": 21,
   "metadata": {},
   "outputs": [],
   "source": [
    "df = df[['Make', 'Model', 'Type', 'Origin', 'DriveTrain', 'EngineSize', 'Cylinders', 'Horsepower', \n",
    "         'MPG_City', 'MPG_Highway', 'Weight', 'Wheelbase', 'Length', 'MSRP']]"
   ]
  },
  {
   "cell_type": "code",
   "execution_count": 24,
   "metadata": {},
   "outputs": [
    {
     "data": {
      "text/plain": [
       "$    426\n",
       "Name: MSRP, dtype: int64"
      ]
     },
     "execution_count": 24,
     "metadata": {},
     "output_type": "execute_result"
    }
   ],
   "source": [
    "df.MSRP.str[0].value_counts()"
   ]
  },
  {
   "cell_type": "code",
   "execution_count": 26,
   "metadata": {},
   "outputs": [],
   "source": [
    "def temp(x):\n",
    "    x = x[1:]\n",
    "    x = \"\".join(x.split(\",\"))\n",
    "    return x\n",
    "\n",
    "df.MSRP = df.MSRP.apply(lambda x: temp(x))"
   ]
  },
  {
   "cell_type": "code",
   "execution_count": 27,
   "metadata": {},
   "outputs": [],
   "source": [
    "df.MSRP = df.MSRP.astype(int)"
   ]
  },
  {
   "cell_type": "code",
   "execution_count": 31,
   "metadata": {
    "collapsed": true,
    "jupyter": {
     "outputs_hidden": true
    }
   },
   "outputs": [
    {
     "name": "stdout",
     "output_type": "stream",
     "text": [
      "(426, 482)\n",
      "<class 'pandas.core.frame.DataFrame'>\n",
      "Int64Index: 426 entries, 0 to 427\n",
      "Columns: 482 entries, EngineSize to DriveTrain_Rear\n",
      "dtypes: float64(2), int32(1), int64(6), uint8(473)\n",
      "memory usage: 228.4 KB\n"
     ]
    }
   ],
   "source": [
    "df = pd.get_dummies(df, columns=['Make','Model','Type','Origin', 'DriveTrain'])\n",
    "print(df.shape)\n",
    "df.info()"
   ]
  },
  {
   "cell_type": "code",
   "execution_count": 33,
   "metadata": {},
   "outputs": [
    {
     "data": {
      "text/plain": [
       "((298, 481), (128, 481), (298,), (128,))"
      ]
     },
     "execution_count": 33,
     "metadata": {},
     "output_type": "execute_result"
    }
   ],
   "source": [
    "X = df.drop(columns=[\"MSRP\"])\n",
    "y = df[\"MSRP\"]\n",
    "\n",
    "X_train, X_test, y_train, y_test = train_test_split(X, y, test_size=0.3, random_state=1)\n",
    "\n",
    "X_train.shape, X_test.shape, y_train.shape, y_test.shape"
   ]
  },
  {
   "cell_type": "markdown",
   "metadata": {},
   "source": [
    "### Enter the value of the 'score' on testing set using BaggingRegressor."
   ]
  },
  {
   "cell_type": "code",
   "execution_count": 36,
   "metadata": {},
   "outputs": [
    {
     "data": {
      "text/plain": [
       "0.7949163237522345"
      ]
     },
     "execution_count": 36,
     "metadata": {},
     "output_type": "execute_result"
    }
   ],
   "source": [
    "bag_reg = BaggingRegressor(random_state=1)\n",
    "bag_reg.fit(X_train, y_train)\n",
    "r2_score(y_test, bag_reg.predict(X_test))"
   ]
  },
  {
   "cell_type": "markdown",
   "metadata": {},
   "source": [
    "### Enter the value of the 'score' on testing set using RandomForestRegressor."
   ]
  },
  {
   "cell_type": "code",
   "execution_count": 37,
   "metadata": {},
   "outputs": [
    {
     "data": {
      "text/plain": [
       "0.8369440882741959"
      ]
     },
     "execution_count": 37,
     "metadata": {},
     "output_type": "execute_result"
    }
   ],
   "source": [
    "rf_reg = RandomForestRegressor(random_state=1)\n",
    "rf_reg.fit(X_train, y_train)\n",
    "r2_score(y_test, rf_reg.predict(X_test))"
   ]
  },
  {
   "cell_type": "markdown",
   "metadata": {},
   "source": [
    "### Enter the value of the 'score' on testing set using GradientBoostingRegressor."
   ]
  },
  {
   "cell_type": "code",
   "execution_count": 38,
   "metadata": {},
   "outputs": [
    {
     "data": {
      "text/plain": [
       "0.8270485242007507"
      ]
     },
     "execution_count": 38,
     "metadata": {},
     "output_type": "execute_result"
    }
   ],
   "source": [
    "gb_reg = GradientBoostingRegressor(random_state=1)\n",
    "gb_reg.fit(X_train, y_train)\n",
    "r2_score(y_test, gb_reg.predict(X_test))"
   ]
  },
  {
   "cell_type": "markdown",
   "metadata": {},
   "source": [
    "### Enter the value of the 'score' on testing set using AdaBoostRegressor."
   ]
  },
  {
   "cell_type": "code",
   "execution_count": 39,
   "metadata": {},
   "outputs": [
    {
     "data": {
      "text/plain": [
       "0.711903287964231"
      ]
     },
     "execution_count": 39,
     "metadata": {},
     "output_type": "execute_result"
    }
   ],
   "source": [
    "ab_reg = AdaBoostRegressor(random_state=1)\n",
    "ab_reg.fit(X_train, y_train)\n",
    "r2_score(y_test, ab_reg.predict(X_test))"
   ]
  },
  {
   "cell_type": "markdown",
   "metadata": {},
   "source": [
    "## Q5,Q6 and Q7"
   ]
  },
  {
   "cell_type": "markdown",
   "metadata": {},
   "source": [
    "On the same data set, perform the preprocessing stated in the previous questions, and \n",
    "</br>perform Hyperparameter Tuning using GridSearchCV on AdaBoostRegressor. \n",
    "</br>Use random_state to be 1.\n",
    "</br>Hyperparameter tuning to be done over:\n",
    "</br>Use n_estimators as [100,500,1000]\n",
    "</br>Use learning_rate as [0.5,1,2]\n",
    "</br>Train the 'model' and compute the 'score' on the test data."
   ]
  },
  {
   "cell_type": "code",
   "execution_count": 50,
   "metadata": {},
   "outputs": [
    {
     "data": {
      "text/plain": [
       "GridSearchCV(cv=4, estimator=AdaBoostRegressor(random_state=1), n_jobs=-1,\n",
       "             param_grid={'learning_rate': [0.5, 1, 2],\n",
       "                         'n_estimators': [100, 500, 1000]})"
      ]
     },
     "execution_count": 50,
     "metadata": {},
     "output_type": "execute_result"
    }
   ],
   "source": [
    "ada_reg = AdaBoostRegressor(random_state=1)\n",
    "\n",
    "param_grid = {\"n_estimators\": [100, 500, 1000],\n",
    "         \"learning_rate\": [0.5, 1, 2]}\n",
    "\n",
    "gscv = GridSearchCV(ada_reg, param_grid=param_grid, refit=True, cv=4, n_jobs=-1)\n",
    "\n",
    "gscv.fit(X_train, y_train)"
   ]
  },
  {
   "cell_type": "code",
   "execution_count": 51,
   "metadata": {},
   "outputs": [
    {
     "data": {
      "text/plain": [
       "{'learning_rate': 1, 'n_estimators': 1000}"
      ]
     },
     "execution_count": 51,
     "metadata": {},
     "output_type": "execute_result"
    }
   ],
   "source": [
    "gscv.best_params_"
   ]
  },
  {
   "cell_type": "code",
   "execution_count": 52,
   "metadata": {},
   "outputs": [
    {
     "data": {
      "text/plain": [
       "AdaBoostRegressor(learning_rate=1, n_estimators=1000, random_state=1)"
      ]
     },
     "execution_count": 52,
     "metadata": {},
     "output_type": "execute_result"
    }
   ],
   "source": [
    "gscv.best_estimator_"
   ]
  },
  {
   "cell_type": "markdown",
   "metadata": {},
   "source": [
    "### Enter the value of the 'score' on testing set.\n",
    "Take cv value= 4"
   ]
  },
  {
   "cell_type": "code",
   "execution_count": 54,
   "metadata": {},
   "outputs": [
    {
     "data": {
      "text/plain": [
       "0.7130800769863186"
      ]
     },
     "execution_count": 54,
     "metadata": {},
     "output_type": "execute_result"
    }
   ],
   "source": [
    "r2_score(y_test, gscv.best_estimator_.predict(X_test))"
   ]
  },
  {
   "cell_type": "markdown",
   "metadata": {},
   "source": [
    "### Enter the value of best n_estimators of the model after training with GridSearchCV\n",
    "Take cv value= 4"
   ]
  },
  {
   "cell_type": "code",
   "execution_count": 57,
   "metadata": {},
   "outputs": [
    {
     "data": {
      "text/plain": [
       "1000"
      ]
     },
     "execution_count": 57,
     "metadata": {},
     "output_type": "execute_result"
    }
   ],
   "source": [
    "gscv.best_estimator_.n_estimators"
   ]
  },
  {
   "cell_type": "markdown",
   "metadata": {},
   "source": [
    "### Enter the value of best learning_rate of the model after training with GridSearchCV\n",
    "Take cv value= 4"
   ]
  },
  {
   "cell_type": "code",
   "execution_count": 58,
   "metadata": {},
   "outputs": [
    {
     "data": {
      "text/plain": [
       "1"
      ]
     },
     "execution_count": 58,
     "metadata": {},
     "output_type": "execute_result"
    }
   ],
   "source": [
    "gscv.best_estimator_.learning_rate"
   ]
  },
  {
   "cell_type": "markdown",
   "metadata": {},
   "source": [
    "## Answers"
   ]
  },
  {
   "cell_type": "markdown",
   "metadata": {},
   "source": [
    "1: 0.795\n",
    "2: 0.837\n",
    "3: 0.827\n",
    "4: 0.712\n",
    "5: 0.713\n",
    "6: 1000\n",
    "7: 1"
   ]
  },
  {
   "cell_type": "markdown",
   "metadata": {},
   "source": [
    "# END"
   ]
  }
 ],
 "metadata": {
  "kernelspec": {
   "display_name": "Python 3",
   "language": "python",
   "name": "python3"
  },
  "language_info": {
   "codemirror_mode": {
    "name": "ipython",
    "version": 3
   },
   "file_extension": ".py",
   "mimetype": "text/x-python",
   "name": "python",
   "nbconvert_exporter": "python",
   "pygments_lexer": "ipython3",
   "version": "3.8.3"
  }
 },
 "nbformat": 4,
 "nbformat_minor": 4
}
